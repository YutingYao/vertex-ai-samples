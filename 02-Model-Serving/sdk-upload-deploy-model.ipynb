{
 "cells": [
  {
   "cell_type": "markdown",
   "id": "5fe0c91b",
   "metadata": {},
   "source": [
    "# Upload and deploy a model"
   ]
  },
  {
   "cell_type": "code",
   "execution_count": 1,
   "id": "889d0383",
   "metadata": {},
   "outputs": [],
   "source": [
    "import os\n",
    "import numpy as np\n",
    "import time\n",
    "\n",
    "import tensorflow as tf\n",
    "\n",
    "\n",
    "from google.cloud import aiplatform as vertex_ai\n",
    "\n",
    "\n",
    "tf.get_logger().setLevel('ERROR')"
   ]
  },
  {
   "cell_type": "markdown",
   "id": "7ea5a321",
   "metadata": {},
   "source": [
    "## Configure environment constants\n"
   ]
  },
  {
   "cell_type": "code",
   "execution_count": 2,
   "id": "213e88f6",
   "metadata": {},
   "outputs": [],
   "source": [
    "PROJECT = 'jk-mlops-dev'\n",
    "REGION = 'us-central1'\n",
    "STAGING_BUCKET = 'gs://jk-vertex-workshop-bucket'"
   ]
  },
  {
   "cell_type": "markdown",
   "id": "5def4c15",
   "metadata": {},
   "source": [
    "## Intialize Vertex SDK"
   ]
  },
  {
   "cell_type": "code",
   "execution_count": 3,
   "id": "86695bbe",
   "metadata": {},
   "outputs": [],
   "source": [
    "vertex_ai.init(\n",
    "    project=PROJECT,\n",
    "    location=REGION,\n",
    "    staging_bucket=STAGING_BUCKET\n",
    ")"
   ]
  },
  {
   "cell_type": "markdown",
   "id": "05ddeeb8",
   "metadata": {},
   "source": [
    "## Upload the model"
   ]
  },
  {
   "cell_type": "code",
   "execution_count": null,
   "id": "8a7c2c76",
   "metadata": {},
   "outputs": [],
   "source": [
    "display_name = ''"
   ]
  }
 ],
 "metadata": {
  "environment": {
   "name": "tf2-gpu.2-4.m69",
   "type": "gcloud",
   "uri": "gcr.io/deeplearning-platform-release/tf2-gpu.2-4:m69"
  },
  "kernelspec": {
   "display_name": "Python 3",
   "language": "python",
   "name": "python3"
  },
  "language_info": {
   "codemirror_mode": {
    "name": "ipython",
    "version": 3
   },
   "file_extension": ".py",
   "mimetype": "text/x-python",
   "name": "python",
   "nbconvert_exporter": "python",
   "pygments_lexer": "ipython3",
   "version": "3.7.10"
  }
 },
 "nbformat": 4,
 "nbformat_minor": 5
}
