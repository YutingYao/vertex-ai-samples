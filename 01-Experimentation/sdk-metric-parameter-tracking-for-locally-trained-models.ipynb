{
 "cells": [
  {
   "cell_type": "code",
   "execution_count": null,
   "metadata": {
    "id": "ur8xi4C7S06n"
   },
   "outputs": [],
   "source": [
    "# Copyright 2021 Google LLC\n",
    "#\n",
    "# Licensed under the Apache License, Version 2.0 (the \"License\");\n",
    "# you may not use this file except in compliance with the License.\n",
    "# You may obtain a copy of the License at\n",
    "#\n",
    "#     https://www.apache.org/licenses/LICENSE-2.0\n",
    "#\n",
    "# Unless required by applicable law or agreed to in writing, software\n",
    "# distributed under the License is distributed on an \"AS IS\" BASIS,\n",
    "# WITHOUT WARRANTIES OR CONDITIONS OF ANY KIND, either express or implied.\n",
    "# See the License for the specific language governing permissions and\n",
    "# limitations under the License."
   ]
  },
  {
   "cell_type": "markdown",
   "metadata": {
    "id": "JAPoU8Sm5E6e"
   },
   "source": [
    "<table align=\"left\">\n",
    "\n",
    "  <td>\n",
    "    <a href=\"https://colab.research.google.com/github/GoogleCloudPlatform/ai-platform-samples/blob/master/ai-platform-unified/notebooks/official/ml_metadata/sdk-metric-parameter-tracking-for-locally-trained-models.ipynb\">\n",
    "      <img src=\"https://cloud.google.com/ml-engine/images/colab-logo-32px.png\" alt=\"Colab logo\"> Run in Colab\n",
    "    </a>\n",
    "  </td>\n",
    "  <td>\n",
    "    <a href=\"https://github.com/GoogleCloudPlatform/ai-platform-samples/blob/master/ai-platform-unified/notebooks/official/ml_metadata/sdk-metric-parameter-tracking-for-locally-trained-models.ipynb\">\n",
    "      <img src=\"https://cloud.google.com/ml-engine/images/github-logo-32px.png\" alt=\"GitHub logo\">\n",
    "      View on GitHub\n",
    "    </a>\n",
    "  </td>\n",
    "</table>"
   ]
  },
  {
   "cell_type": "markdown",
   "metadata": {
    "id": "WBFL9LagqmwT"
   },
   "source": [
    "#Vertex AI: Track parameters and metrics for locally trained models"
   ]
  },
  {
   "cell_type": "markdown",
   "metadata": {
    "id": "tvgnzT1CKxrO"
   },
   "source": [
    "## Overview\n",
    "\n",
    "This notebook demonstrates how to track metrics and parameters for ML training jobs and analyze this metadata using Vertex AI SDK.\n",
    "\n",
    "### Dataset\n",
    "\n",
    "In this notebook, we will train a simple distributed neural network (DNN) model to predict automobile's miles per gallon (MPG) based on automobile information in the [auto-mpg dataset](https://www.kaggle.com/devanshbesain/exploration-and-analysis-auto-mpg).\n",
    "\n",
    "### Objective\n",
    "\n",
    "In this notebook, you will learn how to use Vertex AI SDK to:\n",
    "\n",
    "    * Track parameters and metrics for a locally trainined model.\n",
    "    * Extract and perform analysis for all parameters and metrics within an Experiment.\n",
    "\n",
    "### Costs \n",
    "\n",
    "\n",
    "This tutorial uses billable components of Google Cloud:\n",
    "\n",
    "* Vertex AI\n",
    "* Cloud Storage\n",
    "\n",
    "\n",
    "Learn about [Vertex AI\n",
    "pricing](https://cloud.google.com/vertex-ai/pricing) and [Cloud Storage\n",
    "pricing](https://cloud.google.com/storage/pricing), and use the [Pricing\n",
    "Calculator](https://cloud.google.com/products/calculator/)\n",
    "to generate a cost estimate based on your projected usage."
   ]
  },
  {
   "cell_type": "markdown",
   "metadata": {
    "id": "lWEdiXsJg0XY"
   },
   "source": [
    "## Before you begin\n",
    "\n",
    "### Select a GPU runtime\n",
    "\n",
    "**Make sure you're running this notebook in a GPU runtime if you have that option. In Colab, select \"Runtime --> Change runtime type > GPU\"**"
   ]
  },
  {
   "cell_type": "markdown",
   "metadata": {
    "id": "BF1j6f9HApxa"
   },
   "source": [
    "### Set up your Google Cloud project\n",
    "\n",
    "**The following steps are required, regardless of your notebook environment.**\n",
    "\n",
    "1. [Select or create a Google Cloud project](https://console.cloud.google.com/cloud-resource-manager). When you first create an account, you get a $300 free credit towards your compute/storage costs.\n",
    "\n",
    "1. [Make sure that billing is enabled for your project](https://cloud.google.com/billing/docs/how-to/modify-project).\n",
    "\n",
    "1. [Enable the Vertex AI API](https://console.cloud.google.com/flows/enableapi?apiid=aiplatform.googleapis.com).\n",
    "\n",
    "1. If you are running this notebook locally, you will need to install the [Cloud SDK](https://cloud.google.com/sdk).\n",
    "\n",
    "1. Enter your project ID in the cell below. Then run the cell to make sure the\n",
    "Cloud SDK uses the right project for all the commands in this notebook.\n",
    "\n",
    "**Note**: Jupyter runs lines prefixed with `!` as shell commands, and it interpolates Python variables prefixed with `$` into these commands."
   ]
  },
  {
   "cell_type": "markdown",
   "metadata": {
    "id": "WReHDGG5g0XY"
   },
   "source": [
    "#### Set your project ID\n",
    "\n",
    "**If you don't know your project ID**, you may be able to get your project ID using `gcloud`."
   ]
  },
  {
   "cell_type": "code",
   "execution_count": 1,
   "metadata": {
    "id": "oM1iC_MfAts1"
   },
   "outputs": [
    {
     "name": "stdout",
     "output_type": "stream",
     "text": [
      "Project ID:  jk-mlops-dev\n"
     ]
    }
   ],
   "source": [
    "import os\n",
    "\n",
    "PROJECT_ID = \"\"\n",
    "\n",
    "# Get your Google Cloud project ID from gcloud\n",
    "if not os.getenv(\"IS_TESTING\"):\n",
    "    shell_output=!gcloud config list --format 'value(core.project)' 2>/dev/null\n",
    "    PROJECT_ID = shell_output[0]\n",
    "    print(\"Project ID: \", PROJECT_ID)"
   ]
  },
  {
   "cell_type": "markdown",
   "metadata": {
    "id": "qJYoRfYng0XZ"
   },
   "source": [
    "Otherwise, set your project ID here."
   ]
  },
  {
   "cell_type": "code",
   "execution_count": 2,
   "metadata": {
    "id": "riG_qUokg0XZ"
   },
   "outputs": [],
   "source": [
    "if PROJECT_ID == \"\" or PROJECT_ID is None:\n",
    "    PROJECT_ID = \"[your-project-id]\"  # @param {type:\"string\"}"
   ]
  },
  {
   "cell_type": "markdown",
   "metadata": {
    "id": "06571eb4063b"
   },
   "source": [
    "#### Timestamp\n",
    "\n",
    "If you are in a live tutorial session, you might be using a shared test account or project. To avoid name collisions between users on resources created, you create a timestamp for each instance session, and append it onto the name of resources you create in this tutorial."
   ]
  },
  {
   "cell_type": "code",
   "execution_count": 3,
   "metadata": {
    "id": "697568e92bd6"
   },
   "outputs": [],
   "source": [
    "from datetime import datetime\n",
    "\n",
    "TIMESTAMP = datetime.now().strftime(\"%Y%m%d%H%M%S\")"
   ]
  },
  {
   "cell_type": "markdown",
   "metadata": {
    "id": "dr--iN2kAylZ"
   },
   "source": [
    "### Authenticate your Google Cloud account\n",
    "\n",
    "**If you are using AI Platform Notebooks**, your environment is already\n",
    "authenticated. Skip this step."
   ]
  },
  {
   "cell_type": "markdown",
   "metadata": {
    "id": "sBCra4QMA2wR"
   },
   "source": [
    "**If you are using Colab**, run the cell below and follow the instructions\n",
    "when prompted to authenticate your account via oAuth.\n",
    "\n",
    "**Otherwise**, follow these steps:\n",
    "\n",
    "1. In the Cloud Console, go to the [**Create service account key**\n",
    "   page](https://console.cloud.google.com/apis/credentials/serviceaccountkey).\n",
    "\n",
    "2. Click **Create service account**.\n",
    "\n",
    "3. In the **Service account name** field, enter a name, and\n",
    "   click **Create**.\n",
    "\n",
    "4. In the **Grant this service account access to project** section, click the **Role** drop-down list. Type \"AI Platform\"\n",
    "into the filter box, and select\n",
    "   **AI Platform Administrator**. Type \"Storage Object Admin\" into the filter box, and select **Storage Object Admin**.\n",
    "\n",
    "5. Click *Create*. A JSON file that contains your key downloads to your\n",
    "local environment.\n",
    "\n",
    "6. Enter the path to your service account key as the\n",
    "`GOOGLE_APPLICATION_CREDENTIALS` variable in the cell below and run the cell."
   ]
  },
  {
   "cell_type": "code",
   "execution_count": 4,
   "metadata": {
    "id": "PyQmSRbKA8r-"
   },
   "outputs": [],
   "source": [
    "import os\n",
    "import sys\n",
    "\n",
    "# If you are running this notebook in Colab, run this cell and follow the\n",
    "# instructions to authenticate your GCP account. This provides access to your\n",
    "# Cloud Storage bucket and lets you submit training jobs and prediction\n",
    "# requests.\n",
    "\n",
    "# If on Google Cloud Notebooks, then don't execute this code\n",
    "IS_GOOGLE_CLOUD_NOTEBOOK = os.path.exists(\"/opt/deeplearning/metadata/env_version\")\n",
    "\n",
    "if not IS_GOOGLE_CLOUD_NOTEBOOK:\n",
    "    if \"google.colab\" in sys.modules:\n",
    "        from google.colab import auth as google_auth\n",
    "\n",
    "        google_auth.authenticate_user()\n",
    "\n",
    "    # If you are running this notebook locally, replace the string below with the\n",
    "    # path to your service account key and run this cell to authenticate your GCP\n",
    "    # account.\n",
    "    elif not os.getenv(\"IS_TESTING\"):\n",
    "        %env GOOGLE_APPLICATION_CREDENTIALS ''"
   ]
  },
  {
   "cell_type": "markdown",
   "metadata": {
    "id": "XoEqT2Y4DJmf"
   },
   "source": [
    "### Import libraries and define constants"
   ]
  },
  {
   "cell_type": "markdown",
   "metadata": {
    "id": "Y9Uo3tifg1kx"
   },
   "source": [
    "Import required libraries."
   ]
  },
  {
   "cell_type": "code",
   "execution_count": 5,
   "metadata": {
    "id": "pRUOFELefqf1"
   },
   "outputs": [],
   "source": [
    "import matplotlib.pyplot as plt\n",
    "import pandas as pd\n",
    "from google.cloud import aiplatform\n",
    "from tensorflow.python.keras import Sequential, layers\n",
    "from tensorflow.python.lib.io import file_io"
   ]
  },
  {
   "cell_type": "markdown",
   "metadata": {
    "id": "xtXZWmYqJ1bh"
   },
   "source": [
    "Define some constants"
   ]
  },
  {
   "cell_type": "code",
   "execution_count": 6,
   "metadata": {
    "id": "JIOrI-hoJ46P"
   },
   "outputs": [],
   "source": [
    "EXPERIMENT_NAME = \"demo-experiment\"  # @param {type:\"string\"}\n",
    "REGION = \"us-central1\"  # @param {type:\"string\"}"
   ]
  },
  {
   "cell_type": "markdown",
   "metadata": {
    "id": "jWQLXXNVN4Lv"
   },
   "source": [
    "If EXEPERIMENT_NAME is not set, set a default one below:"
   ]
  },
  {
   "cell_type": "code",
   "execution_count": 7,
   "metadata": {
    "id": "Q1QInYWOKsmo"
   },
   "outputs": [],
   "source": [
    "if EXPERIMENT_NAME == \"\" or EXPERIMENT_NAME is None:\n",
    "    EXPERIMENT_NAME = \"my-experiment-\" + TIMESTAMP"
   ]
  },
  {
   "cell_type": "markdown",
   "metadata": {
    "id": "Xuny18aMcWDb"
   },
   "source": [
    "## Concepts\n",
    "\n",
    "To better understanding how parameters and metrics are stored and organized, we'd like to introduce the following concepts:\n"
   ]
  },
  {
   "cell_type": "markdown",
   "metadata": {
    "id": "NThDci5bp0Uw"
   },
   "source": [
    "### Experiment\n",
    "Experiments describe a context that groups your runs and the artifacts you create into a logical session. For example, in this notebook you create an Experiment and log data to that experiment."
   ]
  },
  {
   "cell_type": "markdown",
   "metadata": {
    "id": "SAyRR3Ydp4X5"
   },
   "source": [
    "### Run\n",
    "A run represents a single path/avenue that you executed while performing an experiment. A run includes artifacts that you used as inputs or outputs, and parameters that you used in this execution. An Experiment can contain multiple runs. "
   ]
  },
  {
   "cell_type": "markdown",
   "metadata": {
    "id": "l1YW2pgyegFP"
   },
   "source": [
    "## Getting started tracking parameters and metrics\n",
    "\n",
    "You can use the Vertex AI SDK to track metrics and parameters for models trained locally. \n",
    "\n",
    "In the following example, you train a simple distributed neural network (DNN) model to predict automobile's miles per gallon (MPG) based on automobile information in the [auto-mpg dataset](https://www.kaggle.com/devanshbesain/exploration-and-analysis-auto-mpg)."
   ]
  },
  {
   "cell_type": "markdown",
   "metadata": {
    "id": "KPY41M9_AhZU"
   },
   "source": [
    "### Load and process the training dataset"
   ]
  },
  {
   "cell_type": "markdown",
   "metadata": {
    "id": "bfMQSmRuUuX-"
   },
   "source": [
    "Download and process the dataset."
   ]
  },
  {
   "cell_type": "code",
   "execution_count": 8,
   "metadata": {
    "id": "RiQuMv4bmpuV"
   },
   "outputs": [],
   "source": [
    "def read_data(file_path):\n",
    "    column_names = [\n",
    "        \"MPG\",\n",
    "        \"Cylinders\",\n",
    "        \"Displacement\",\n",
    "        \"Horsepower\",\n",
    "        \"Weight\",\n",
    "        \"Acceleration\",\n",
    "        \"Model Year\",\n",
    "        \"Origin\",\n",
    "    ]\n",
    "    with file_io.FileIO(file_path, \"r\") as f:\n",
    "        raw_dataset = pd.read_csv(\n",
    "            f,\n",
    "            names=column_names,\n",
    "            na_values=\"?\",\n",
    "            comment=\"\\t\",\n",
    "            sep=\" \",\n",
    "            skipinitialspace=True,\n",
    "        )\n",
    "    dataset = raw_dataset.dropna()\n",
    "    dataset[\"Origin\"] = dataset[\"Origin\"].map(\n",
    "        lambda x: {1: \"USA\", 2: \"Europe\", 3: \"Japan\"}.get(x)\n",
    "    )\n",
    "    dataset = pd.get_dummies(dataset, prefix=\"\", prefix_sep=\"\")\n",
    "    return dataset\n",
    "\n",
    "\n",
    "dataset = read_data(\"gs://cloud-samples-data/ai-platform/auto_mpg/auto-mpg.data\")"
   ]
  },
  {
   "cell_type": "markdown",
   "metadata": {
    "id": "Y06J7A7yU21t"
   },
   "source": [
    "Split dataset for training and testing."
   ]
  },
  {
   "cell_type": "code",
   "execution_count": 9,
   "metadata": {
    "id": "p5JBCBKyH-NC"
   },
   "outputs": [],
   "source": [
    "def train_test_split(dataset, split_frac=0.8, random_state=0):\n",
    "    train_dataset = dataset.sample(frac=split_frac, random_state=random_state)\n",
    "    test_dataset = dataset.drop(train_dataset.index)\n",
    "    train_labels = train_dataset.pop(\"MPG\")\n",
    "    test_labels = test_dataset.pop(\"MPG\")\n",
    "\n",
    "    return train_dataset, test_dataset, train_labels, test_labels\n",
    "\n",
    "\n",
    "train_dataset, test_dataset, train_labels, test_labels = train_test_split(dataset)"
   ]
  },
  {
   "cell_type": "markdown",
   "metadata": {
    "id": "gaNNTFPaU7KT"
   },
   "source": [
    "Normalize the features in the dataset for better model performance."
   ]
  },
  {
   "cell_type": "code",
   "execution_count": 10,
   "metadata": {
    "id": "VGq5QCoyIEWJ"
   },
   "outputs": [],
   "source": [
    "def normalize_dataset(train_dataset, test_dataset):\n",
    "    train_stats = train_dataset.describe()\n",
    "    train_stats = train_stats.transpose()\n",
    "\n",
    "    def norm(x):\n",
    "        return (x - train_stats[\"mean\"]) / train_stats[\"std\"]\n",
    "\n",
    "    normed_train_data = norm(train_dataset)\n",
    "    normed_test_data = norm(test_dataset)\n",
    "\n",
    "    return normed_train_data, normed_test_data\n",
    "\n",
    "\n",
    "normed_train_data, normed_test_data = normalize_dataset(train_dataset, test_dataset)"
   ]
  },
  {
   "cell_type": "markdown",
   "metadata": {
    "id": "UBXUgxgqA_GB"
   },
   "source": [
    "### Define ML model and training function"
   ]
  },
  {
   "cell_type": "code",
   "execution_count": 11,
   "metadata": {
    "id": "66odBYKrIN4q"
   },
   "outputs": [],
   "source": [
    "def train(\n",
    "    train_data,\n",
    "    train_labels,\n",
    "    num_units=64,\n",
    "    activation=\"relu\",\n",
    "    dropout_rate=0.0,\n",
    "    validation_split=0.2,\n",
    "    epochs=1000,\n",
    "):\n",
    "\n",
    "    model = Sequential(\n",
    "        [\n",
    "            layers.Dense(\n",
    "                num_units,\n",
    "                activation=activation,\n",
    "                input_shape=[len(train_dataset.keys())],\n",
    "            ),\n",
    "            layers.Dropout(rate=dropout_rate),\n",
    "            layers.Dense(num_units, activation=activation),\n",
    "            layers.Dense(1),\n",
    "        ]\n",
    "    )\n",
    "\n",
    "    model.compile(loss=\"mse\", optimizer=\"adam\", metrics=[\"mae\", \"mse\"])\n",
    "    print(model.summary())\n",
    "\n",
    "    history = model.fit(\n",
    "        train_data, train_labels, epochs=epochs, validation_split=validation_split\n",
    "    )\n",
    "\n",
    "    return model, history"
   ]
  },
  {
   "cell_type": "markdown",
   "metadata": {
    "id": "O8XJZB3gR8eL"
   },
   "source": [
    "### Initialize the Model Builder SDK and create an Experiment\n",
    "\n",
    "Initialize the *client* for Vertex AI and create an experiment."
   ]
  },
  {
   "cell_type": "code",
   "execution_count": 12,
   "metadata": {
    "id": "o_wnT10RJ7-W"
   },
   "outputs": [],
   "source": [
    "aiplatform.init(project=PROJECT_ID, location=REGION, experiment=EXPERIMENT_NAME)"
   ]
  },
  {
   "cell_type": "markdown",
   "metadata": {
    "id": "u-iTnzt3B6Z_"
   },
   "source": [
    "### Start several model training runs\n",
    "\n",
    "Training parameters and metrics are logged for each run."
   ]
  },
  {
   "cell_type": "code",
   "execution_count": 13,
   "metadata": {
    "id": "i2wnpu8_7JfV"
   },
   "outputs": [
    {
     "name": "stdout",
     "output_type": "stream",
     "text": [
      "Model: \"sequential\"\n",
      "_________________________________________________________________\n",
      "Layer (type)                 Output Shape              Param #   \n",
      "=================================================================\n",
      "dense (Dense)                (None, 16)                160       \n",
      "_________________________________________________________________\n",
      "dropout (Dropout)            (None, 16)                0         \n",
      "_________________________________________________________________\n",
      "dense_1 (Dense)              (None, 16)                272       \n",
      "_________________________________________________________________\n",
      "dense_2 (Dense)              (None, 1)                 17        \n",
      "=================================================================\n",
      "Total params: 449\n",
      "Trainable params: 449\n",
      "Non-trainable params: 0\n",
      "_________________________________________________________________\n",
      "None\n",
      "Epoch 1/3\n",
      "8/8 [==============================] - 1s 67ms/step - loss: 605.5258 - mae: 23.3825 - mse: 605.5258 - val_loss: 620.7913 - val_mae: 23.6218 - val_mse: 620.7913\n",
      "Epoch 2/3\n",
      "8/8 [==============================] - 0s 9ms/step - loss: 574.6820 - mae: 22.7733 - mse: 574.6820 - val_loss: 612.6644 - val_mae: 23.4497 - val_mse: 612.6644\n",
      "Epoch 3/3\n",
      "8/8 [==============================] - 0s 9ms/step - loss: 593.7653 - mae: 23.2000 - mse: 593.7653 - val_loss: 604.5016 - val_mae: 23.2735 - val_mse: 604.5016\n",
      "3/3 - 0s - loss: 622.7053 - mae: 23.5693 - mse: 622.7053\n",
      "Model: \"sequential_1\"\n",
      "_________________________________________________________________\n",
      "Layer (type)                 Output Shape              Param #   \n",
      "=================================================================\n",
      "dense_3 (Dense)              (None, 16)                160       \n",
      "_________________________________________________________________\n",
      "dropout_1 (Dropout)          (None, 16)                0         \n",
      "_________________________________________________________________\n",
      "dense_4 (Dense)              (None, 16)                272       \n",
      "_________________________________________________________________\n",
      "dense_5 (Dense)              (None, 1)                 17        \n",
      "=================================================================\n",
      "Total params: 449\n",
      "Trainable params: 449\n",
      "Non-trainable params: 0\n",
      "_________________________________________________________________\n",
      "None\n",
      "Epoch 1/10\n",
      "8/8 [==============================] - 1s 28ms/step - loss: 576.9334 - mae: 22.8285 - mse: 576.9334 - val_loss: 607.4951 - val_mae: 23.3965 - val_mse: 607.4951\n",
      "Epoch 2/10\n",
      "8/8 [==============================] - 0s 9ms/step - loss: 607.3718 - mae: 23.3539 - mse: 607.3718 - val_loss: 597.3055 - val_mae: 23.1957 - val_mse: 597.3055\n",
      "Epoch 3/10\n",
      "8/8 [==============================] - 0s 8ms/step - loss: 567.8555 - mae: 22.5675 - mse: 567.8555 - val_loss: 586.2004 - val_mae: 22.9778 - val_mse: 586.2004\n",
      "Epoch 4/10\n",
      "8/8 [==============================] - 0s 8ms/step - loss: 571.6698 - mae: 22.5959 - mse: 571.6698 - val_loss: 574.1928 - val_mae: 22.7413 - val_mse: 574.1928\n",
      "Epoch 5/10\n",
      "8/8 [==============================] - 0s 8ms/step - loss: 538.3726 - mae: 22.0351 - mse: 538.3726 - val_loss: 560.9818 - val_mae: 22.4794 - val_mse: 560.9818\n",
      "Epoch 6/10\n",
      "8/8 [==============================] - 0s 8ms/step - loss: 557.9052 - mae: 22.5018 - mse: 557.9052 - val_loss: 546.5010 - val_mae: 22.1885 - val_mse: 546.5010\n",
      "Epoch 7/10\n",
      "8/8 [==============================] - 0s 8ms/step - loss: 540.8689 - mae: 22.0060 - mse: 540.8689 - val_loss: 530.5750 - val_mae: 21.8629 - val_mse: 530.5750\n",
      "Epoch 8/10\n",
      "8/8 [==============================] - 0s 8ms/step - loss: 519.6999 - mae: 21.5887 - mse: 519.6999 - val_loss: 512.8632 - val_mae: 21.4937 - val_mse: 512.8632\n",
      "Epoch 9/10\n",
      "8/8 [==============================] - 0s 9ms/step - loss: 508.0040 - mae: 21.3583 - mse: 508.0040 - val_loss: 493.5285 - val_mae: 21.0821 - val_mse: 493.5285\n",
      "Epoch 10/10\n",
      "8/8 [==============================] - 0s 9ms/step - loss: 497.8823 - mae: 21.1572 - mse: 497.8823 - val_loss: 472.1113 - val_mae: 20.6144 - val_mse: 472.1113\n",
      "3/3 - 0s - loss: 494.8717 - mae: 21.1150 - mse: 494.8717\n",
      "Model: \"sequential_2\"\n",
      "_________________________________________________________________\n",
      "Layer (type)                 Output Shape              Param #   \n",
      "=================================================================\n",
      "dense_6 (Dense)              (None, 16)                160       \n",
      "_________________________________________________________________\n",
      "dropout_2 (Dropout)          (None, 16)                0         \n",
      "_________________________________________________________________\n",
      "dense_7 (Dense)              (None, 16)                272       \n",
      "_________________________________________________________________\n",
      "dense_8 (Dense)              (None, 1)                 17        \n",
      "=================================================================\n",
      "Total params: 449\n",
      "Trainable params: 449\n",
      "Non-trainable params: 0\n",
      "_________________________________________________________________\n",
      "None\n",
      "Epoch 1/10\n",
      "8/8 [==============================] - 1s 28ms/step - loss: 600.2080 - mae: 23.1364 - mse: 600.2080 - val_loss: 614.8251 - val_mae: 23.4261 - val_mse: 614.8251\n",
      "Epoch 2/10\n",
      "8/8 [==============================] - 0s 9ms/step - loss: 560.6988 - mae: 22.3793 - mse: 560.6988 - val_loss: 606.7070 - val_mae: 23.2322 - val_mse: 606.7070\n",
      "Epoch 3/10\n",
      "8/8 [==============================] - 0s 9ms/step - loss: 581.0659 - mae: 22.7345 - mse: 581.0659 - val_loss: 598.7706 - val_mae: 23.0394 - val_mse: 598.7706\n",
      "Epoch 4/10\n",
      "8/8 [==============================] - 0s 9ms/step - loss: 559.6626 - mae: 22.2324 - mse: 559.6626 - val_loss: 590.6933 - val_mae: 22.8388 - val_mse: 590.6933\n",
      "Epoch 5/10\n",
      "8/8 [==============================] - 0s 8ms/step - loss: 602.0652 - mae: 22.9844 - mse: 602.0652 - val_loss: 582.2157 - val_mae: 22.6269 - val_mse: 582.2157\n",
      "Epoch 6/10\n",
      "8/8 [==============================] - 0s 8ms/step - loss: 559.2305 - mae: 22.0792 - mse: 559.2305 - val_loss: 573.0458 - val_mae: 22.3929 - val_mse: 573.0458\n",
      "Epoch 7/10\n",
      "8/8 [==============================] - 0s 8ms/step - loss: 518.3879 - mae: 21.3317 - mse: 518.3879 - val_loss: 562.9552 - val_mae: 22.1353 - val_mse: 562.9552\n",
      "Epoch 8/10\n",
      "8/8 [==============================] - 0s 8ms/step - loss: 534.3615 - mae: 21.5754 - mse: 534.3615 - val_loss: 551.3668 - val_mae: 21.8426 - val_mse: 551.3668\n",
      "Epoch 9/10\n",
      "8/8 [==============================] - 0s 8ms/step - loss: 534.5271 - mae: 21.5052 - mse: 534.5271 - val_loss: 538.1512 - val_mae: 21.5085 - val_mse: 538.1512\n",
      "Epoch 10/10\n",
      "8/8 [==============================] - 0s 8ms/step - loss: 523.6483 - mae: 21.0687 - mse: 523.6483 - val_loss: 522.9126 - val_mae: 21.1205 - val_mse: 522.9126\n",
      "3/3 - 0s - loss: 537.5409 - mae: 21.3878 - mse: 537.5409\n",
      "Model: \"sequential_3\"\n",
      "_________________________________________________________________\n",
      "Layer (type)                 Output Shape              Param #   \n",
      "=================================================================\n",
      "dense_9 (Dense)              (None, 32)                320       \n",
      "_________________________________________________________________\n",
      "dropout_3 (Dropout)          (None, 32)                0         \n",
      "_________________________________________________________________\n",
      "dense_10 (Dense)             (None, 32)                1056      \n",
      "_________________________________________________________________\n",
      "dense_11 (Dense)             (None, 1)                 33        \n",
      "=================================================================\n",
      "Total params: 1,409\n",
      "Trainable params: 1,409\n",
      "Non-trainable params: 0\n",
      "_________________________________________________________________\n",
      "None\n",
      "Epoch 1/10\n",
      "8/8 [==============================] - 1s 29ms/step - loss: 545.6299 - mae: 22.0872 - mse: 545.6299 - val_loss: 557.7781 - val_mae: 22.3966 - val_mse: 557.7781\n",
      "Epoch 2/10\n",
      "8/8 [==============================] - 0s 9ms/step - loss: 505.1324 - mae: 21.2993 - mse: 505.1324 - val_loss: 534.2224 - val_mae: 21.8807 - val_mse: 534.2224\n",
      "Epoch 3/10\n",
      "8/8 [==============================] - 0s 9ms/step - loss: 508.9455 - mae: 21.3951 - mse: 508.9455 - val_loss: 508.5097 - val_mae: 21.3011 - val_mse: 508.5097\n",
      "Epoch 4/10\n",
      "8/8 [==============================] - 0s 8ms/step - loss: 466.4202 - mae: 20.3930 - mse: 466.4202 - val_loss: 479.8025 - val_mae: 20.6263 - val_mse: 479.8025\n",
      "Epoch 5/10\n",
      "8/8 [==============================] - 0s 8ms/step - loss: 449.0167 - mae: 19.8639 - mse: 449.0167 - val_loss: 447.0308 - val_mae: 19.8234 - val_mse: 447.0308\n",
      "Epoch 6/10\n",
      "8/8 [==============================] - 0s 9ms/step - loss: 447.4248 - mae: 19.8267 - mse: 447.4248 - val_loss: 410.5809 - val_mae: 18.8943 - val_mse: 410.5809\n",
      "Epoch 7/10\n",
      "8/8 [==============================] - 0s 8ms/step - loss: 396.7349 - mae: 18.5102 - mse: 396.7349 - val_loss: 370.2501 - val_mae: 17.8049 - val_mse: 370.2501\n",
      "Epoch 8/10\n",
      "8/8 [==============================] - 0s 8ms/step - loss: 335.1251 - mae: 16.8408 - mse: 335.1251 - val_loss: 326.4709 - val_mae: 16.5338 - val_mse: 326.4709\n",
      "Epoch 9/10\n",
      "8/8 [==============================] - 0s 9ms/step - loss: 302.2591 - mae: 15.8322 - mse: 302.2591 - val_loss: 280.0273 - val_mae: 15.0589 - val_mse: 280.0273\n",
      "Epoch 10/10\n",
      "8/8 [==============================] - 0s 9ms/step - loss: 265.0932 - mae: 14.6154 - mse: 265.0932 - val_loss: 231.9905 - val_mae: 13.3795 - val_mse: 231.9905\n",
      "3/3 - 0s - loss: 248.5054 - mae: 13.9489 - mse: 248.5054\n",
      "Model: \"sequential_4\"\n",
      "_________________________________________________________________\n",
      "Layer (type)                 Output Shape              Param #   \n",
      "=================================================================\n",
      "dense_12 (Dense)             (None, 32)                320       \n",
      "_________________________________________________________________\n",
      "dropout_4 (Dropout)          (None, 32)                0         \n",
      "_________________________________________________________________\n",
      "dense_13 (Dense)             (None, 32)                1056      \n",
      "_________________________________________________________________\n",
      "dense_14 (Dense)             (None, 1)                 33        \n",
      "=================================================================\n",
      "Total params: 1,409\n",
      "Trainable params: 1,409\n",
      "Non-trainable params: 0\n",
      "_________________________________________________________________\n",
      "None\n",
      "Epoch 1/10\n",
      "8/8 [==============================] - 1s 27ms/step - loss: 593.1618 - mae: 23.1772 - mse: 593.1618 - val_loss: 591.2739 - val_mae: 23.1536 - val_mse: 591.2739\n",
      "Epoch 2/10\n",
      "8/8 [==============================] - 0s 9ms/step - loss: 540.8260 - mae: 22.1637 - mse: 540.8260 - val_loss: 573.7660 - val_mae: 22.7922 - val_mse: 573.7660\n",
      "Epoch 3/10\n",
      "8/8 [==============================] - 0s 8ms/step - loss: 557.5669 - mae: 22.5218 - mse: 557.5669 - val_loss: 554.8386 - val_mae: 22.3988 - val_mse: 554.8386\n",
      "Epoch 4/10\n",
      "8/8 [==============================] - 0s 8ms/step - loss: 526.7148 - mae: 21.7623 - mse: 526.7148 - val_loss: 533.7736 - val_mae: 21.9533 - val_mse: 533.7736\n",
      "Epoch 5/10\n",
      "8/8 [==============================] - 0s 8ms/step - loss: 498.7789 - mae: 21.1593 - mse: 498.7789 - val_loss: 509.5742 - val_mae: 21.4324 - val_mse: 509.5742\n",
      "Epoch 6/10\n",
      "8/8 [==============================] - 0s 8ms/step - loss: 480.2572 - mae: 20.8169 - mse: 480.2572 - val_loss: 481.2787 - val_mae: 20.8100 - val_mse: 481.2787\n",
      "Epoch 7/10\n",
      "8/8 [==============================] - 0s 8ms/step - loss: 442.8273 - mae: 20.0180 - mse: 442.8273 - val_loss: 448.9050 - val_mae: 20.0731 - val_mse: 448.9050\n",
      "Epoch 8/10\n",
      "8/8 [==============================] - 0s 9ms/step - loss: 450.5812 - mae: 20.2216 - mse: 450.5812 - val_loss: 411.1277 - val_mae: 19.1815 - val_mse: 411.1277\n",
      "Epoch 9/10\n",
      "8/8 [==============================] - 0s 8ms/step - loss: 399.9044 - mae: 18.8395 - mse: 399.9044 - val_loss: 369.2713 - val_mae: 18.1388 - val_mse: 369.2713\n",
      "Epoch 10/10\n",
      "8/8 [==============================] - 0s 8ms/step - loss: 362.8703 - mae: 18.0038 - mse: 362.8703 - val_loss: 322.7765 - val_mae: 16.9035 - val_mse: 322.7765\n",
      "3/3 - 0s - loss: 336.6954 - mae: 17.3323 - mse: 336.6954\n"
     ]
    }
   ],
   "source": [
    "parameters = [\n",
    "    {\"num_units\": 16, \"epochs\": 3, \"dropout_rate\": 0.1},\n",
    "    {\"num_units\": 16, \"epochs\": 10, \"dropout_rate\": 0.1},\n",
    "    {\"num_units\": 16, \"epochs\": 10, \"dropout_rate\": 0.2},\n",
    "    {\"num_units\": 32, \"epochs\": 10, \"dropout_rate\": 0.1},\n",
    "    {\"num_units\": 32, \"epochs\": 10, \"dropout_rate\": 0.2},\n",
    "]\n",
    "\n",
    "for i, params in enumerate(parameters):\n",
    "    aiplatform.start_run(run=f\"auto-mpg-local-run-{i}\")\n",
    "    aiplatform.log_params(params)\n",
    "    model, history = train(\n",
    "        normed_train_data,\n",
    "        train_labels,\n",
    "        num_units=params[\"num_units\"],\n",
    "        activation=\"relu\",\n",
    "        epochs=params[\"epochs\"],\n",
    "        dropout_rate=params[\"dropout_rate\"],\n",
    "    )\n",
    "    aiplatform.log_metrics(\n",
    "        {metric: values[-1] for metric, values in history.history.items()}\n",
    "    )\n",
    "\n",
    "    loss, mae, mse = model.evaluate(normed_test_data, test_labels, verbose=2)\n",
    "    aiplatform.log_metrics({\"eval_loss\": loss, \"eval_mae\": mae, \"eval_mse\": mse})"
   ]
  },
  {
   "cell_type": "markdown",
   "metadata": {
    "id": "jZLrJZTfL7tE"
   },
   "source": [
    "### Extract parameters and metrics into a dataframe for analysis"
   ]
  },
  {
   "cell_type": "markdown",
   "metadata": {
    "id": "A1PqKxlpOZa2"
   },
   "source": [
    "We can also extract all parameters and metrics associated with any Experiment into a dataframe for further analysis."
   ]
  },
  {
   "cell_type": "code",
   "execution_count": 14,
   "metadata": {
    "id": "jbRf1WoH_vbY"
   },
   "outputs": [
    {
     "data": {
      "text/html": [
       "<div>\n",
       "<style scoped>\n",
       "    .dataframe tbody tr th:only-of-type {\n",
       "        vertical-align: middle;\n",
       "    }\n",
       "\n",
       "    .dataframe tbody tr th {\n",
       "        vertical-align: top;\n",
       "    }\n",
       "\n",
       "    .dataframe thead th {\n",
       "        text-align: right;\n",
       "    }\n",
       "</style>\n",
       "<table border=\"1\" class=\"dataframe\">\n",
       "  <thead>\n",
       "    <tr style=\"text-align: right;\">\n",
       "      <th></th>\n",
       "      <th>experiment_name</th>\n",
       "      <th>run_name</th>\n",
       "      <th>param.epochs</th>\n",
       "      <th>param.dropout_rate</th>\n",
       "      <th>param.num_units</th>\n",
       "      <th>metric.mae</th>\n",
       "      <th>metric.mse</th>\n",
       "      <th>metric.val_mae</th>\n",
       "      <th>metric.eval_mae</th>\n",
       "      <th>metric.val_loss</th>\n",
       "      <th>metric.loss</th>\n",
       "      <th>metric.val_mse</th>\n",
       "      <th>metric.eval_loss</th>\n",
       "      <th>metric.eval_mse</th>\n",
       "    </tr>\n",
       "  </thead>\n",
       "  <tbody>\n",
       "    <tr>\n",
       "      <th>0</th>\n",
       "      <td>demo-experiment</td>\n",
       "      <td>auto-mpg-local-run-4</td>\n",
       "      <td>10.0</td>\n",
       "      <td>0.2</td>\n",
       "      <td>32.0</td>\n",
       "      <td>17.515108</td>\n",
       "      <td>346.734772</td>\n",
       "      <td>16.903456</td>\n",
       "      <td>17.332275</td>\n",
       "      <td>322.776520</td>\n",
       "      <td>346.734772</td>\n",
       "      <td>322.776520</td>\n",
       "      <td>336.695374</td>\n",
       "      <td>336.695374</td>\n",
       "    </tr>\n",
       "    <tr>\n",
       "      <th>1</th>\n",
       "      <td>demo-experiment</td>\n",
       "      <td>auto-mpg-local-run-3</td>\n",
       "      <td>10.0</td>\n",
       "      <td>0.1</td>\n",
       "      <td>32.0</td>\n",
       "      <td>14.300354</td>\n",
       "      <td>259.864532</td>\n",
       "      <td>13.379460</td>\n",
       "      <td>13.948950</td>\n",
       "      <td>231.990479</td>\n",
       "      <td>259.864532</td>\n",
       "      <td>231.990479</td>\n",
       "      <td>248.505432</td>\n",
       "      <td>248.505432</td>\n",
       "    </tr>\n",
       "    <tr>\n",
       "      <th>2</th>\n",
       "      <td>demo-experiment</td>\n",
       "      <td>auto-mpg-local-run-2</td>\n",
       "      <td>10.0</td>\n",
       "      <td>0.2</td>\n",
       "      <td>16.0</td>\n",
       "      <td>20.825691</td>\n",
       "      <td>506.543396</td>\n",
       "      <td>21.120451</td>\n",
       "      <td>21.387768</td>\n",
       "      <td>522.912598</td>\n",
       "      <td>506.543396</td>\n",
       "      <td>522.912598</td>\n",
       "      <td>537.540894</td>\n",
       "      <td>537.540894</td>\n",
       "    </tr>\n",
       "    <tr>\n",
       "      <th>3</th>\n",
       "      <td>demo-experiment</td>\n",
       "      <td>auto-mpg-local-run-1</td>\n",
       "      <td>10.0</td>\n",
       "      <td>0.1</td>\n",
       "      <td>16.0</td>\n",
       "      <td>20.739889</td>\n",
       "      <td>477.712860</td>\n",
       "      <td>20.614370</td>\n",
       "      <td>21.114985</td>\n",
       "      <td>472.111328</td>\n",
       "      <td>477.712860</td>\n",
       "      <td>472.111328</td>\n",
       "      <td>494.871735</td>\n",
       "      <td>494.871735</td>\n",
       "    </tr>\n",
       "    <tr>\n",
       "      <th>4</th>\n",
       "      <td>demo-experiment</td>\n",
       "      <td>auto-mpg-local-run-0</td>\n",
       "      <td>3.0</td>\n",
       "      <td>0.1</td>\n",
       "      <td>16.0</td>\n",
       "      <td>22.897768</td>\n",
       "      <td>585.700806</td>\n",
       "      <td>23.273546</td>\n",
       "      <td>23.569307</td>\n",
       "      <td>604.501587</td>\n",
       "      <td>585.700806</td>\n",
       "      <td>604.501587</td>\n",
       "      <td>622.705322</td>\n",
       "      <td>622.705322</td>\n",
       "    </tr>\n",
       "  </tbody>\n",
       "</table>\n",
       "</div>"
      ],
      "text/plain": [
       "   experiment_name              run_name  param.epochs  param.dropout_rate  \\\n",
       "0  demo-experiment  auto-mpg-local-run-4          10.0                 0.2   \n",
       "1  demo-experiment  auto-mpg-local-run-3          10.0                 0.1   \n",
       "2  demo-experiment  auto-mpg-local-run-2          10.0                 0.2   \n",
       "3  demo-experiment  auto-mpg-local-run-1          10.0                 0.1   \n",
       "4  demo-experiment  auto-mpg-local-run-0           3.0                 0.1   \n",
       "\n",
       "   param.num_units  metric.mae  metric.mse  metric.val_mae  metric.eval_mae  \\\n",
       "0             32.0   17.515108  346.734772       16.903456        17.332275   \n",
       "1             32.0   14.300354  259.864532       13.379460        13.948950   \n",
       "2             16.0   20.825691  506.543396       21.120451        21.387768   \n",
       "3             16.0   20.739889  477.712860       20.614370        21.114985   \n",
       "4             16.0   22.897768  585.700806       23.273546        23.569307   \n",
       "\n",
       "   metric.val_loss  metric.loss  metric.val_mse  metric.eval_loss  \\\n",
       "0       322.776520   346.734772      322.776520        336.695374   \n",
       "1       231.990479   259.864532      231.990479        248.505432   \n",
       "2       522.912598   506.543396      522.912598        537.540894   \n",
       "3       472.111328   477.712860      472.111328        494.871735   \n",
       "4       604.501587   585.700806      604.501587        622.705322   \n",
       "\n",
       "   metric.eval_mse  \n",
       "0       336.695374  \n",
       "1       248.505432  \n",
       "2       537.540894  \n",
       "3       494.871735  \n",
       "4       622.705322  "
      ]
     },
     "execution_count": 14,
     "metadata": {},
     "output_type": "execute_result"
    }
   ],
   "source": [
    "experiment_df = aiplatform.get_experiment_df()\n",
    "experiment_df"
   ]
  },
  {
   "cell_type": "markdown",
   "metadata": {
    "id": "EYuYgqVCMKU1"
   },
   "source": [
    "### Visualizing an experiment's parameters and metrics"
   ]
  },
  {
   "cell_type": "code",
   "execution_count": 15,
   "metadata": {
    "id": "r8orCj8iJuO1"
   },
   "outputs": [
    {
     "data": {
      "text/plain": [
       "<matplotlib.legend.Legend at 0x7fa831e55b90>"
      ]
     },
     "execution_count": 15,
     "metadata": {},
     "output_type": "execute_result"
    },
    {
     "data": {
      "image/png": "[encoded data removed]",
      "text/plain": [
       "<Figure size 1080x360 with 1 Axes>"
      ]
     },
     "metadata": {
      "needs_background": "light"
     },
     "output_type": "display_data"
    }
   ],
   "source": [
    "plt.rcParams[\"figure.figsize\"] = [15, 5]\n",
    "\n",
    "ax = pd.plotting.parallel_coordinates(\n",
    "    experiment_df.reset_index(level=0),\n",
    "    \"run_name\",\n",
    "    cols=[\n",
    "        \"param.num_units\",\n",
    "        \"param.dropout_rate\",\n",
    "        \"param.epochs\",\n",
    "        \"metric.loss\",\n",
    "        \"metric.val_loss\",\n",
    "        \"metric.eval_loss\",\n",
    "    ],\n",
    "    color=[\"blue\", \"green\", \"pink\", \"red\"],\n",
    ")\n",
    "ax.set_yscale(\"symlog\")\n",
    "ax.legend(bbox_to_anchor=(1.0, 0.5))"
   ]
  },
  {
   "cell_type": "markdown",
   "metadata": {
    "id": "WTHvPMweMlP1"
   },
   "source": [
    "## Visualizing experiments in Cloud Console"
   ]
  },
  {
   "cell_type": "markdown",
   "metadata": {
    "id": "F19_5lw0MqXv"
   },
   "source": [
    "Run the following to get the URL of Vertex AI Experiments for your project.\n"
   ]
  },
  {
   "cell_type": "code",
   "execution_count": 20,
   "metadata": {
    "id": "GmN9vE9pqqzt"
   },
   "outputs": [
    {
     "name": "stdout",
     "output_type": "stream",
     "text": [
      "Vertex AI Experiments:\n",
      "https://console.cloud.google.com/ai/platform/experiments/experiments?folder=&organizationId=&project=jk-mlops-dev\n"
     ]
    }
   ],
   "source": [
    "print(\"Vertex AI Experiments:\")\n",
    "print(\n",
    "    f\"https://console.cloud.google.com/ai/platform/experiments/experiments?folder=&organizationId=&project={PROJECT_ID}\"\n",
    ")"
   ]
  },
  {
   "cell_type": "markdown",
   "metadata": {
    "id": "TpV-iwP9qw9c"
   },
   "source": [
    "## Cleaning up\n",
    "\n",
    "To clean up all Google Cloud resources used in this project, you can [delete the Google Cloud\n",
    "project](https://cloud.google.com/resource-manager/docs/creating-managing-projects#shutting_down_projects) you used for the tutorial."
   ]
  }
 ],
 "metadata": {
  "colab": {
   "collapsed_sections": [],
   "name": "sdk-metric-parameter-tracking-for-locally-trained-models.ipynb",
   "toc_visible": true
  },
  "environment": {
   "name": "tf2-gpu.2-4.m69",
   "type": "gcloud",
   "uri": "gcr.io/deeplearning-platform-release/tf2-gpu.2-4:m69"
  },
  "kernelspec": {
   "display_name": "Python 3",
   "language": "python",
   "name": "python3"
  },
  "language_info": {
   "codemirror_mode": {
    "name": "ipython",
    "version": 3
   },
   "file_extension": ".py",
   "mimetype": "text/x-python",
   "name": "python",
   "nbconvert_exporter": "python",
   "pygments_lexer": "ipython3",
   "version": "3.7.10"
  }
 },
 "nbformat": 4,
 "nbformat_minor": 4
}
