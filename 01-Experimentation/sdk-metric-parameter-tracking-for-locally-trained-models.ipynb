{
 "cells": [
  {
   "cell_type": "code",
   "execution_count": null,
   "metadata": {
    "id": "ur8xi4C7S06n"
   },
   "outputs": [],
   "source": [
    "# Copyright 2021 Google LLC\n",
    "#\n",
    "# Licensed under the Apache License, Version 2.0 (the \"License\");\n",
    "# you may not use this file except in compliance with the License.\n",
    "# You may obtain a copy of the License at\n",
    "#\n",
    "#     https://www.apache.org/licenses/LICENSE-2.0\n",
    "#\n",
    "# Unless required by applicable law or agreed to in writing, software\n",
    "# distributed under the License is distributed on an \"AS IS\" BASIS,\n",
    "# WITHOUT WARRANTIES OR CONDITIONS OF ANY KIND, either express or implied.\n",
    "# See the License for the specific language governing permissions and\n",
    "# limitations under the License."
   ]
  },
  {
   "cell_type": "markdown",
   "metadata": {
    "id": "JAPoU8Sm5E6e"
   },
   "source": [
    "<table align=\"left\">\n",
    "\n",
    "  <td>\n",
    "    <a href=\"https://colab.research.google.com/github/GoogleCloudPlatform/ai-platform-samples/blob/master/ai-platform-unified/notebooks/official/ml_metadata/sdk-metric-parameter-tracking-for-locally-trained-models.ipynb\">\n",
    "      <img src=\"https://cloud.google.com/ml-engine/images/colab-logo-32px.png\" alt=\"Colab logo\"> Run in Colab\n",
    "    </a>\n",
    "  </td>\n",
    "  <td>\n",
    "    <a href=\"https://github.com/GoogleCloudPlatform/ai-platform-samples/blob/master/ai-platform-unified/notebooks/official/ml_metadata/sdk-metric-parameter-tracking-for-locally-trained-models.ipynb\">\n",
    "      <img src=\"https://cloud.google.com/ml-engine/images/github-logo-32px.png\" alt=\"GitHub logo\">\n",
    "      View on GitHub\n",
    "    </a>\n",
    "  </td>\n",
    "</table>"
   ]
  },
  {
   "cell_type": "markdown",
   "metadata": {
    "id": "WBFL9LagqmwT"
   },
   "source": [
    "#Vertex AI: Track parameters and metrics for locally trained models"
   ]
  },
  {
   "cell_type": "markdown",
   "metadata": {
    "id": "tvgnzT1CKxrO"
   },
   "source": [
    "## Overview\n",
    "\n",
    "This notebook demonstrates how to track metrics and parameters for ML training jobs and analyze this metadata using Vertex AI SDK.\n",
    "\n",
    "### Dataset\n",
    "\n",
    "In this notebook, we will train a simple distributed neural network (DNN) model to predict automobile's miles per gallon (MPG) based on automobile information in the [auto-mpg dataset](https://www.kaggle.com/devanshbesain/exploration-and-analysis-auto-mpg).\n",
    "\n",
    "### Objective\n",
    "\n",
    "In this notebook, you will learn how to use Vertex AI SDK to:\n",
    "\n",
    "    * Track parameters and metrics for a locally trainined model.\n",
    "    * Extract and perform analysis for all parameters and metrics within an Experiment.\n",
    "\n",
    "### Costs \n",
    "\n",
    "\n",
    "This tutorial uses billable components of Google Cloud:\n",
    "\n",
    "* Vertex AI\n",
    "* Cloud Storage\n",
    "\n",
    "\n",
    "Learn about [Vertex AI\n",
    "pricing](https://cloud.google.com/vertex-ai/pricing) and [Cloud Storage\n",
    "pricing](https://cloud.google.com/storage/pricing), and use the [Pricing\n",
    "Calculator](https://cloud.google.com/products/calculator/)\n",
    "to generate a cost estimate based on your projected usage."
   ]
  },
  {
   "cell_type": "markdown",
   "metadata": {
    "id": "lWEdiXsJg0XY"
   },
   "source": [
    "## Before you begin\n",
    "\n",
    "### Select a GPU runtime\n",
    "\n",
    "**Make sure you're running this notebook in a GPU runtime if you have that option. In Colab, select \"Runtime --> Change runtime type > GPU\"**"
   ]
  },
  {
   "cell_type": "markdown",
   "metadata": {
    "id": "BF1j6f9HApxa"
   },
   "source": [
    "### Set up your Google Cloud project\n",
    "\n",
    "**The following steps are required, regardless of your notebook environment.**\n",
    "\n",
    "1. [Select or create a Google Cloud project](https://console.cloud.google.com/cloud-resource-manager). When you first create an account, you get a $300 free credit towards your compute/storage costs.\n",
    "\n",
    "1. [Make sure that billing is enabled for your project](https://cloud.google.com/billing/docs/how-to/modify-project).\n",
    "\n",
    "1. [Enable the Vertex AI API](https://console.cloud.google.com/flows/enableapi?apiid=aiplatform.googleapis.com).\n",
    "\n",
    "1. If you are running this notebook locally, you will need to install the [Cloud SDK](https://cloud.google.com/sdk).\n",
    "\n",
    "1. Enter your project ID in the cell below. Then run the cell to make sure the\n",
    "Cloud SDK uses the right project for all the commands in this notebook.\n",
    "\n",
    "**Note**: Jupyter runs lines prefixed with `!` as shell commands, and it interpolates Python variables prefixed with `$` into these commands."
   ]
  },
  {
   "cell_type": "markdown",
   "metadata": {
    "id": "WReHDGG5g0XY"
   },
   "source": [
    "#### Set your project ID\n",
    "\n",
    "**If you don't know your project ID**, you may be able to get your project ID using `gcloud`."
   ]
  },
  {
   "cell_type": "code",
   "execution_count": 1,
   "metadata": {
    "id": "oM1iC_MfAts1"
   },
   "outputs": [
    {
     "name": "stdout",
     "output_type": "stream",
     "text": [
      "Project ID:  jk-mlops-dev\n"
     ]
    }
   ],
   "source": [
    "import os\n",
    "\n",
    "PROJECT_ID = \"\"\n",
    "\n",
    "# Get your Google Cloud project ID from gcloud\n",
    "if not os.getenv(\"IS_TESTING\"):\n",
    "    shell_output=!gcloud config list --format 'value(core.project)' 2>/dev/null\n",
    "    PROJECT_ID = shell_output[0]\n",
    "    print(\"Project ID: \", PROJECT_ID)"
   ]
  },
  {
   "cell_type": "markdown",
   "metadata": {
    "id": "qJYoRfYng0XZ"
   },
   "source": [
    "Otherwise, set your project ID here."
   ]
  },
  {
   "cell_type": "code",
   "execution_count": 2,
   "metadata": {
    "id": "riG_qUokg0XZ"
   },
   "outputs": [],
   "source": [
    "if PROJECT_ID == \"\" or PROJECT_ID is None:\n",
    "    PROJECT_ID = \"[your-project-id]\"  # @param {type:\"string\"}"
   ]
  },
  {
   "cell_type": "markdown",
   "metadata": {
    "id": "06571eb4063b"
   },
   "source": [
    "#### Timestamp\n",
    "\n",
    "If you are in a live tutorial session, you might be using a shared test account or project. To avoid name collisions between users on resources created, you create a timestamp for each instance session, and append it onto the name of resources you create in this tutorial."
   ]
  },
  {
   "cell_type": "code",
   "execution_count": 3,
   "metadata": {
    "id": "697568e92bd6"
   },
   "outputs": [],
   "source": [
    "from datetime import datetime\n",
    "\n",
    "TIMESTAMP = datetime.now().strftime(\"%Y%m%d%H%M%S\")"
   ]
  },
  {
   "cell_type": "markdown",
   "metadata": {
    "id": "dr--iN2kAylZ"
   },
   "source": [
    "### Authenticate your Google Cloud account\n",
    "\n",
    "**If you are using AI Platform Notebooks**, your environment is already\n",
    "authenticated. Skip this step."
   ]
  },
  {
   "cell_type": "markdown",
   "metadata": {
    "id": "sBCra4QMA2wR"
   },
   "source": [
    "**If you are using Colab**, run the cell below and follow the instructions\n",
    "when prompted to authenticate your account via oAuth.\n",
    "\n",
    "**Otherwise**, follow these steps:\n",
    "\n",
    "1. In the Cloud Console, go to the [**Create service account key**\n",
    "   page](https://console.cloud.google.com/apis/credentials/serviceaccountkey).\n",
    "\n",
    "2. Click **Create service account**.\n",
    "\n",
    "3. In the **Service account name** field, enter a name, and\n",
    "   click **Create**.\n",
    "\n",
    "4. In the **Grant this service account access to project** section, click the **Role** drop-down list. Type \"AI Platform\"\n",
    "into the filter box, and select\n",
    "   **AI Platform Administrator**. Type \"Storage Object Admin\" into the filter box, and select **Storage Object Admin**.\n",
    "\n",
    "5. Click *Create*. A JSON file that contains your key downloads to your\n",
    "local environment.\n",
    "\n",
    "6. Enter the path to your service account key as the\n",
    "`GOOGLE_APPLICATION_CREDENTIALS` variable in the cell below and run the cell."
   ]
  },
  {
   "cell_type": "code",
   "execution_count": 4,
   "metadata": {
    "id": "PyQmSRbKA8r-"
   },
   "outputs": [],
   "source": [
    "import os\n",
    "import sys\n",
    "\n",
    "# If you are running this notebook in Colab, run this cell and follow the\n",
    "# instructions to authenticate your GCP account. This provides access to your\n",
    "# Cloud Storage bucket and lets you submit training jobs and prediction\n",
    "# requests.\n",
    "\n",
    "# If on Google Cloud Notebooks, then don't execute this code\n",
    "IS_GOOGLE_CLOUD_NOTEBOOK = os.path.exists(\"/opt/deeplearning/metadata/env_version\")\n",
    "\n",
    "if not IS_GOOGLE_CLOUD_NOTEBOOK:\n",
    "    if \"google.colab\" in sys.modules:\n",
    "        from google.colab import auth as google_auth\n",
    "\n",
    "        google_auth.authenticate_user()\n",
    "\n",
    "    # If you are running this notebook locally, replace the string below with the\n",
    "    # path to your service account key and run this cell to authenticate your GCP\n",
    "    # account.\n",
    "    elif not os.getenv(\"IS_TESTING\"):\n",
    "        %env GOOGLE_APPLICATION_CREDENTIALS ''"
   ]
  },
  {
   "cell_type": "markdown",
   "metadata": {
    "id": "XoEqT2Y4DJmf"
   },
   "source": [
    "### Import libraries and define constants"
   ]
  },
  {
   "cell_type": "markdown",
   "metadata": {
    "id": "Y9Uo3tifg1kx"
   },
   "source": [
    "Import required libraries."
   ]
  },
  {
   "cell_type": "code",
   "execution_count": 9,
   "metadata": {
    "id": "pRUOFELefqf1"
   },
   "outputs": [],
   "source": [
    "import matplotlib.pyplot as plt\n",
    "import pandas as pd\n",
    "from google.cloud import aiplatform\n",
    "from tensorflow.python.keras import Sequential, layers\n",
    "from tensorflow.python.lib.io import file_io"
   ]
  },
  {
   "cell_type": "markdown",
   "metadata": {
    "id": "xtXZWmYqJ1bh"
   },
   "source": [
    "Define some constants"
   ]
  },
  {
   "cell_type": "code",
   "execution_count": 10,
   "metadata": {
    "id": "JIOrI-hoJ46P"
   },
   "outputs": [],
   "source": [
    "EXPERIMENT_NAME = \"demo-experiment\"  # @param {type:\"string\"}\n",
    "REGION = \"us-central1\"  # @param {type:\"string\"}"
   ]
  },
  {
   "cell_type": "markdown",
   "metadata": {
    "id": "jWQLXXNVN4Lv"
   },
   "source": [
    "If EXEPERIMENT_NAME is not set, set a default one below:"
   ]
  },
  {
   "cell_type": "code",
   "execution_count": 11,
   "metadata": {
    "id": "Q1QInYWOKsmo"
   },
   "outputs": [],
   "source": [
    "if EXPERIMENT_NAME == \"\" or EXPERIMENT_NAME is None:\n",
    "    EXPERIMENT_NAME = \"my-experiment-\" + TIMESTAMP"
   ]
  },
  {
   "cell_type": "markdown",
   "metadata": {
    "id": "Xuny18aMcWDb"
   },
   "source": [
    "## Concepts\n",
    "\n",
    "To better understanding how parameters and metrics are stored and organized, we'd like to introduce the following concepts:\n"
   ]
  },
  {
   "cell_type": "markdown",
   "metadata": {
    "id": "NThDci5bp0Uw"
   },
   "source": [
    "### Experiment\n",
    "Experiments describe a context that groups your runs and the artifacts you create into a logical session. For example, in this notebook you create an Experiment and log data to that experiment."
   ]
  },
  {
   "cell_type": "markdown",
   "metadata": {
    "id": "SAyRR3Ydp4X5"
   },
   "source": [
    "### Run\n",
    "A run represents a single path/avenue that you executed while performing an experiment. A run includes artifacts that you used as inputs or outputs, and parameters that you used in this execution. An Experiment can contain multiple runs. "
   ]
  },
  {
   "cell_type": "markdown",
   "metadata": {
    "id": "l1YW2pgyegFP"
   },
   "source": [
    "## Getting started tracking parameters and metrics\n",
    "\n",
    "You can use the Vertex AI SDK to track metrics and parameters for models trained locally. \n",
    "\n",
    "In the following example, you train a simple distributed neural network (DNN) model to predict automobile's miles per gallon (MPG) based on automobile information in the [auto-mpg dataset](https://www.kaggle.com/devanshbesain/exploration-and-analysis-auto-mpg)."
   ]
  },
  {
   "cell_type": "markdown",
   "metadata": {
    "id": "KPY41M9_AhZU"
   },
   "source": [
    "### Load and process the training dataset"
   ]
  },
  {
   "cell_type": "markdown",
   "metadata": {
    "id": "bfMQSmRuUuX-"
   },
   "source": [
    "Download and process the dataset."
   ]
  },
  {
   "cell_type": "code",
   "execution_count": 12,
   "metadata": {
    "id": "RiQuMv4bmpuV"
   },
   "outputs": [],
   "source": [
    "def read_data(file_path):\n",
    "    column_names = [\n",
    "        \"MPG\",\n",
    "        \"Cylinders\",\n",
    "        \"Displacement\",\n",
    "        \"Horsepower\",\n",
    "        \"Weight\",\n",
    "        \"Acceleration\",\n",
    "        \"Model Year\",\n",
    "        \"Origin\",\n",
    "    ]\n",
    "    with file_io.FileIO(file_path, \"r\") as f:\n",
    "        raw_dataset = pd.read_csv(\n",
    "            f,\n",
    "            names=column_names,\n",
    "            na_values=\"?\",\n",
    "            comment=\"\\t\",\n",
    "            sep=\" \",\n",
    "            skipinitialspace=True,\n",
    "        )\n",
    "    dataset = raw_dataset.dropna()\n",
    "    dataset[\"Origin\"] = dataset[\"Origin\"].map(\n",
    "        lambda x: {1: \"USA\", 2: \"Europe\", 3: \"Japan\"}.get(x)\n",
    "    )\n",
    "    dataset = pd.get_dummies(dataset, prefix=\"\", prefix_sep=\"\")\n",
    "    return dataset\n",
    "\n",
    "\n",
    "dataset = read_data(\"gs://cloud-samples-data/ai-platform/auto_mpg/auto-mpg.data\")"
   ]
  },
  {
   "cell_type": "markdown",
   "metadata": {
    "id": "Y06J7A7yU21t"
   },
   "source": [
    "Split dataset for training and testing."
   ]
  },
  {
   "cell_type": "code",
   "execution_count": 13,
   "metadata": {
    "id": "p5JBCBKyH-NC"
   },
   "outputs": [],
   "source": [
    "def train_test_split(dataset, split_frac=0.8, random_state=0):\n",
    "    train_dataset = dataset.sample(frac=split_frac, random_state=random_state)\n",
    "    test_dataset = dataset.drop(train_dataset.index)\n",
    "    train_labels = train_dataset.pop(\"MPG\")\n",
    "    test_labels = test_dataset.pop(\"MPG\")\n",
    "\n",
    "    return train_dataset, test_dataset, train_labels, test_labels\n",
    "\n",
    "\n",
    "train_dataset, test_dataset, train_labels, test_labels = train_test_split(dataset)"
   ]
  },
  {
   "cell_type": "markdown",
   "metadata": {
    "id": "gaNNTFPaU7KT"
   },
   "source": [
    "Normalize the features in the dataset for better model performance."
   ]
  },
  {
   "cell_type": "code",
   "execution_count": 14,
   "metadata": {
    "id": "VGq5QCoyIEWJ"
   },
   "outputs": [],
   "source": [
    "def normalize_dataset(train_dataset, test_dataset):\n",
    "    train_stats = train_dataset.describe()\n",
    "    train_stats = train_stats.transpose()\n",
    "\n",
    "    def norm(x):\n",
    "        return (x - train_stats[\"mean\"]) / train_stats[\"std\"]\n",
    "\n",
    "    normed_train_data = norm(train_dataset)\n",
    "    normed_test_data = norm(test_dataset)\n",
    "\n",
    "    return normed_train_data, normed_test_data\n",
    "\n",
    "\n",
    "normed_train_data, normed_test_data = normalize_dataset(train_dataset, test_dataset)"
   ]
  },
  {
   "cell_type": "markdown",
   "metadata": {
    "id": "UBXUgxgqA_GB"
   },
   "source": [
    "### Define ML model and training function"
   ]
  },
  {
   "cell_type": "code",
   "execution_count": 15,
   "metadata": {
    "id": "66odBYKrIN4q"
   },
   "outputs": [],
   "source": [
    "def train(\n",
    "    train_data,\n",
    "    train_labels,\n",
    "    num_units=64,\n",
    "    activation=\"relu\",\n",
    "    dropout_rate=0.0,\n",
    "    validation_split=0.2,\n",
    "    epochs=1000,\n",
    "):\n",
    "\n",
    "    model = Sequential(\n",
    "        [\n",
    "            layers.Dense(\n",
    "                num_units,\n",
    "                activation=activation,\n",
    "                input_shape=[len(train_dataset.keys())],\n",
    "            ),\n",
    "            layers.Dropout(rate=dropout_rate),\n",
    "            layers.Dense(num_units, activation=activation),\n",
    "            layers.Dense(1),\n",
    "        ]\n",
    "    )\n",
    "\n",
    "    model.compile(loss=\"mse\", optimizer=\"adam\", metrics=[\"mae\", \"mse\"])\n",
    "    print(model.summary())\n",
    "\n",
    "    history = model.fit(\n",
    "        train_data, train_labels, epochs=epochs, validation_split=validation_split\n",
    "    )\n",
    "\n",
    "    return model, history"
   ]
  },
  {
   "cell_type": "markdown",
   "metadata": {
    "id": "O8XJZB3gR8eL"
   },
   "source": [
    "### Initialize the Model Builder SDK and create an Experiment\n",
    "\n",
    "Initialize the *client* for Vertex AI and create an experiment."
   ]
  },
  {
   "cell_type": "code",
   "execution_count": 16,
   "metadata": {
    "id": "o_wnT10RJ7-W"
   },
   "outputs": [
    {
     "name": "stdout",
     "output_type": "stream",
     "text": [
      "INFO:root:Resource demo-experiment not found.\n",
      "INFO:root:Creating Resource demo-experiment\n"
     ]
    }
   ],
   "source": [
    "aiplatform.init(project=PROJECT_ID, location=REGION, experiment=EXPERIMENT_NAME)"
   ]
  },
  {
   "cell_type": "markdown",
   "metadata": {
    "id": "u-iTnzt3B6Z_"
   },
   "source": [
    "### Start several model training runs\n",
    "\n",
    "Training parameters and metrics are logged for each run."
   ]
  },
  {
   "cell_type": "code",
   "execution_count": 17,
   "metadata": {
    "id": "i2wnpu8_7JfV"
   },
   "outputs": [
    {
     "name": "stdout",
     "output_type": "stream",
     "text": [
      "INFO:root:Resource demo-experiment-auto-mpg-local-run-0 not found.\n",
      "INFO:root:Creating Resource demo-experiment-auto-mpg-local-run-0\n",
      "INFO:root:Resource demo-experiment-auto-mpg-local-run-0-metrics not found.\n",
      "INFO:root:Creating Resource demo-experiment-auto-mpg-local-run-0-metrics\n",
      "Model: \"sequential\"\n",
      "_________________________________________________________________\n",
      "Layer (type)                 Output Shape              Param #   \n",
      "=================================================================\n",
      "dense (Dense)                (None, 16)                160       \n",
      "_________________________________________________________________\n",
      "dropout (Dropout)            (None, 16)                0         \n",
      "_________________________________________________________________\n",
      "dense_1 (Dense)              (None, 16)                272       \n",
      "_________________________________________________________________\n",
      "dense_2 (Dense)              (None, 1)                 17        \n",
      "=================================================================\n",
      "Total params: 449\n",
      "Trainable params: 449\n",
      "Non-trainable params: 0\n",
      "_________________________________________________________________\n",
      "None\n",
      "Epoch 1/3\n",
      "8/8 [==============================] - 1s 56ms/step - loss: 576.4546 - mae: 22.9080 - mse: 576.4546 - val_loss: 593.1486 - val_mae: 23.1079 - val_mse: 593.1486\n",
      "Epoch 2/3\n",
      "8/8 [==============================] - 0s 8ms/step - loss: 545.6342 - mae: 22.1570 - mse: 545.6342 - val_loss: 580.6385 - val_mae: 22.8437 - val_mse: 580.6385\n",
      "Epoch 3/3\n",
      "8/8 [==============================] - 0s 8ms/step - loss: 575.2292 - mae: 22.6054 - mse: 575.2292 - val_loss: 567.4857 - val_mae: 22.5631 - val_mse: 567.4857\n",
      "3/3 - 0s - loss: 582.5090 - mae: 22.8209 - mse: 582.5090\n",
      "INFO:root:Resource demo-experiment-auto-mpg-local-run-1 not found.\n",
      "INFO:root:Creating Resource demo-experiment-auto-mpg-local-run-1\n",
      "INFO:root:Resource demo-experiment-auto-mpg-local-run-1-metrics not found.\n",
      "INFO:root:Creating Resource demo-experiment-auto-mpg-local-run-1-metrics\n",
      "Model: \"sequential_1\"\n",
      "_________________________________________________________________\n",
      "Layer (type)                 Output Shape              Param #   \n",
      "=================================================================\n",
      "dense_3 (Dense)              (None, 16)                160       \n",
      "_________________________________________________________________\n",
      "dropout_1 (Dropout)          (None, 16)                0         \n",
      "_________________________________________________________________\n",
      "dense_4 (Dense)              (None, 16)                272       \n",
      "_________________________________________________________________\n",
      "dense_5 (Dense)              (None, 1)                 17        \n",
      "=================================================================\n",
      "Total params: 449\n",
      "Trainable params: 449\n",
      "Non-trainable params: 0\n",
      "_________________________________________________________________\n",
      "None\n",
      "Epoch 1/10\n",
      "8/8 [==============================] - 0s 26ms/step - loss: 613.2518 - mae: 23.5325 - mse: 613.2518 - val_loss: 620.7748 - val_mae: 23.6015 - val_mse: 620.7748\n",
      "Epoch 2/10\n",
      "8/8 [==============================] - 0s 8ms/step - loss: 583.6906 - mae: 22.8429 - mse: 583.6906 - val_loss: 613.0502 - val_mae: 23.4400 - val_mse: 613.0502\n",
      "Epoch 3/10\n",
      "8/8 [==============================] - 0s 7ms/step - loss: 599.0784 - mae: 23.0964 - mse: 599.0784 - val_loss: 605.0590 - val_mae: 23.2709 - val_mse: 605.0590\n",
      "Epoch 4/10\n",
      "8/8 [==============================] - 0s 8ms/step - loss: 561.2217 - mae: 22.4502 - mse: 561.2217 - val_loss: 596.7343 - val_mae: 23.0901 - val_mse: 596.7343\n",
      "Epoch 5/10\n",
      "8/8 [==============================] - 0s 8ms/step - loss: 571.0820 - mae: 22.5791 - mse: 571.0820 - val_loss: 587.8548 - val_mae: 22.8937 - val_mse: 587.8548\n",
      "Epoch 6/10\n",
      "8/8 [==============================] - 0s 8ms/step - loss: 553.8300 - mae: 22.1435 - mse: 553.8300 - val_loss: 578.4323 - val_mae: 22.6807 - val_mse: 578.4323\n",
      "Epoch 7/10\n",
      "8/8 [==============================] - 0s 8ms/step - loss: 551.1108 - mae: 22.0946 - mse: 551.1108 - val_loss: 568.0077 - val_mae: 22.4451 - val_mse: 568.0077\n",
      "Epoch 8/10\n",
      "8/8 [==============================] - 0s 8ms/step - loss: 515.7617 - mae: 21.3884 - mse: 515.7617 - val_loss: 556.7753 - val_mae: 22.1859 - val_mse: 556.7753\n",
      "Epoch 9/10\n",
      "8/8 [==============================] - 0s 8ms/step - loss: 555.6801 - mae: 22.1093 - mse: 555.6801 - val_loss: 544.1291 - val_mae: 21.8978 - val_mse: 544.1291\n",
      "Epoch 10/10\n",
      "8/8 [==============================] - 0s 8ms/step - loss: 548.8756 - mae: 21.9691 - mse: 548.8756 - val_loss: 530.0974 - val_mae: 21.5765 - val_mse: 530.0974\n",
      "3/3 - 0s - loss: 554.9395 - mae: 22.0562 - mse: 554.9395\n",
      "INFO:root:Resource demo-experiment-auto-mpg-local-run-2 not found.\n",
      "INFO:root:Creating Resource demo-experiment-auto-mpg-local-run-2\n",
      "INFO:root:Resource demo-experiment-auto-mpg-local-run-2-metrics not found.\n",
      "INFO:root:Creating Resource demo-experiment-auto-mpg-local-run-2-metrics\n",
      "Model: \"sequential_2\"\n",
      "_________________________________________________________________\n",
      "Layer (type)                 Output Shape              Param #   \n",
      "=================================================================\n",
      "dense_6 (Dense)              (None, 16)                160       \n",
      "_________________________________________________________________\n",
      "dropout_2 (Dropout)          (None, 16)                0         \n",
      "_________________________________________________________________\n",
      "dense_7 (Dense)              (None, 16)                272       \n",
      "_________________________________________________________________\n",
      "dense_8 (Dense)              (None, 1)                 17        \n",
      "=================================================================\n",
      "Total params: 449\n",
      "Trainable params: 449\n",
      "Non-trainable params: 0\n",
      "_________________________________________________________________\n",
      "None\n",
      "Epoch 1/10\n",
      "8/8 [==============================] - 0s 27ms/step - loss: 552.3575 - mae: 22.1731 - mse: 552.3575 - val_loss: 571.1027 - val_mae: 22.4631 - val_mse: 571.1027\n",
      "Epoch 2/10\n",
      "8/8 [==============================] - 0s 8ms/step - loss: 556.6454 - mae: 22.2733 - mse: 556.6454 - val_loss: 557.6993 - val_mae: 22.1539 - val_mse: 557.6993\n",
      "Epoch 3/10\n",
      "8/8 [==============================] - 0s 8ms/step - loss: 519.4734 - mae: 21.3843 - mse: 519.4734 - val_loss: 543.8545 - val_mae: 21.8247 - val_mse: 543.8545\n",
      "Epoch 4/10\n",
      "8/8 [==============================] - 0s 8ms/step - loss: 517.2898 - mae: 21.2474 - mse: 517.2898 - val_loss: 529.1661 - val_mae: 21.4695 - val_mse: 529.1661\n",
      "Epoch 5/10\n",
      "8/8 [==============================] - 0s 8ms/step - loss: 488.6239 - mae: 20.7617 - mse: 488.6239 - val_loss: 513.8055 - val_mae: 21.0899 - val_mse: 513.8055\n",
      "Epoch 6/10\n",
      "8/8 [==============================] - 0s 8ms/step - loss: 501.4136 - mae: 20.7322 - mse: 501.4136 - val_loss: 497.2707 - val_mae: 20.6746 - val_mse: 497.2707\n",
      "Epoch 7/10\n",
      "8/8 [==============================] - 0s 8ms/step - loss: 477.4847 - mae: 20.3604 - mse: 477.4847 - val_loss: 479.3263 - val_mae: 20.2199 - val_mse: 479.3263\n",
      "Epoch 8/10\n",
      "8/8 [==============================] - 0s 8ms/step - loss: 457.7884 - mae: 19.7486 - mse: 457.7884 - val_loss: 459.3833 - val_mae: 19.7089 - val_mse: 459.3833\n",
      "Epoch 9/10\n",
      "8/8 [==============================] - 0s 8ms/step - loss: 402.5535 - mae: 18.4127 - mse: 402.5535 - val_loss: 438.1989 - val_mae: 19.1499 - val_mse: 438.1989\n",
      "Epoch 10/10\n",
      "8/8 [==============================] - 0s 8ms/step - loss: 418.4777 - mae: 18.9314 - mse: 418.4777 - val_loss: 415.0981 - val_mae: 18.5276 - val_mse: 415.0981\n",
      "3/3 - 0s - loss: 431.8794 - mae: 18.8796 - mse: 431.8794\n",
      "INFO:root:Resource demo-experiment-auto-mpg-local-run-3 not found.\n",
      "INFO:root:Creating Resource demo-experiment-auto-mpg-local-run-3\n",
      "INFO:root:Resource demo-experiment-auto-mpg-local-run-3-metrics not found.\n",
      "INFO:root:Creating Resource demo-experiment-auto-mpg-local-run-3-metrics\n",
      "Model: \"sequential_3\"\n",
      "_________________________________________________________________\n",
      "Layer (type)                 Output Shape              Param #   \n",
      "=================================================================\n",
      "dense_9 (Dense)              (None, 32)                320       \n",
      "_________________________________________________________________\n",
      "dropout_3 (Dropout)          (None, 32)                0         \n",
      "_________________________________________________________________\n",
      "dense_10 (Dense)             (None, 32)                1056      \n",
      "_________________________________________________________________\n",
      "dense_11 (Dense)             (None, 1)                 33        \n",
      "=================================================================\n",
      "Total params: 1,409\n",
      "Trainable params: 1,409\n",
      "Non-trainable params: 0\n",
      "_________________________________________________________________\n",
      "None\n",
      "Epoch 1/10\n",
      "8/8 [==============================] - 1s 28ms/step - loss: 554.6079 - mae: 22.5283 - mse: 554.6079 - val_loss: 580.7479 - val_mae: 22.8877 - val_mse: 580.7479\n",
      "Epoch 2/10\n",
      "8/8 [==============================] - 0s 9ms/step - loss: 568.8540 - mae: 22.6402 - mse: 568.8540 - val_loss: 557.3894 - val_mae: 22.3660 - val_mse: 557.3894\n",
      "Epoch 3/10\n",
      "8/8 [==============================] - 0s 8ms/step - loss: 551.2488 - mae: 22.1837 - mse: 551.2488 - val_loss: 532.2560 - val_mae: 21.7901 - val_mse: 532.2560\n",
      "Epoch 4/10\n",
      "8/8 [==============================] - 0s 8ms/step - loss: 515.9379 - mae: 21.4404 - mse: 515.9379 - val_loss: 503.8265 - val_mae: 21.1240 - val_mse: 503.8265\n",
      "Epoch 5/10\n",
      "8/8 [==============================] - 0s 8ms/step - loss: 481.2606 - mae: 20.6471 - mse: 481.2606 - val_loss: 471.4729 - val_mae: 20.3431 - val_mse: 471.4729\n",
      "Epoch 6/10\n",
      "8/8 [==============================] - 0s 8ms/step - loss: 455.5529 - mae: 20.1067 - mse: 455.5529 - val_loss: 434.5354 - val_mae: 19.4183 - val_mse: 434.5354\n",
      "Epoch 7/10\n",
      "8/8 [==============================] - 0s 8ms/step - loss: 425.9015 - mae: 19.1609 - mse: 425.9015 - val_loss: 393.2290 - val_mae: 18.3272 - val_mse: 393.2290\n",
      "Epoch 8/10\n",
      "8/8 [==============================] - 0s 8ms/step - loss: 372.6062 - mae: 17.6997 - mse: 372.6062 - val_loss: 347.8506 - val_mae: 17.0558 - val_mse: 347.8506\n",
      "Epoch 9/10\n",
      "8/8 [==============================] - 0s 8ms/step - loss: 345.4569 - mae: 16.9393 - mse: 345.4569 - val_loss: 299.9316 - val_mae: 15.6123 - val_mse: 299.9316\n",
      "Epoch 10/10\n",
      "8/8 [==============================] - 0s 8ms/step - loss: 297.2254 - mae: 15.6401 - mse: 297.2254 - val_loss: 249.7408 - val_mae: 14.0268 - val_mse: 249.7408\n",
      "3/3 - 0s - loss: 270.1311 - mae: 14.8137 - mse: 270.1311\n",
      "INFO:root:Resource demo-experiment-auto-mpg-local-run-4 not found.\n",
      "INFO:root:Creating Resource demo-experiment-auto-mpg-local-run-4\n",
      "INFO:root:Resource demo-experiment-auto-mpg-local-run-4-metrics not found.\n",
      "INFO:root:Creating Resource demo-experiment-auto-mpg-local-run-4-metrics\n",
      "Model: \"sequential_4\"\n",
      "_________________________________________________________________\n",
      "Layer (type)                 Output Shape              Param #   \n",
      "=================================================================\n",
      "dense_12 (Dense)             (None, 32)                320       \n",
      "_________________________________________________________________\n",
      "dropout_4 (Dropout)          (None, 32)                0         \n",
      "_________________________________________________________________\n",
      "dense_13 (Dense)             (None, 32)                1056      \n",
      "_________________________________________________________________\n",
      "dense_14 (Dense)             (None, 1)                 33        \n",
      "=================================================================\n",
      "Total params: 1,409\n",
      "Trainable params: 1,409\n",
      "Non-trainable params: 0\n",
      "_________________________________________________________________\n",
      "None\n",
      "Epoch 1/10\n",
      "8/8 [==============================] - 0s 26ms/step - loss: 590.2171 - mae: 23.0774 - mse: 590.2171 - val_loss: 619.0029 - val_mae: 23.5303 - val_mse: 619.0029\n",
      "Epoch 2/10\n",
      "8/8 [==============================] - 0s 9ms/step - loss: 617.4182 - mae: 23.5594 - mse: 617.4182 - val_loss: 600.3837 - val_mae: 23.1290 - val_mse: 600.3837\n",
      "Epoch 3/10\n",
      "8/8 [==============================] - 0s 8ms/step - loss: 614.8193 - mae: 23.3508 - mse: 614.8193 - val_loss: 582.3130 - val_mae: 22.7252 - val_mse: 582.3130\n",
      "Epoch 4/10\n",
      "8/8 [==============================] - 0s 8ms/step - loss: 538.8702 - mae: 21.8446 - mse: 538.8702 - val_loss: 563.8536 - val_mae: 22.2996 - val_mse: 563.8536\n",
      "Epoch 5/10\n",
      "8/8 [==============================] - 0s 8ms/step - loss: 527.1494 - mae: 21.5692 - mse: 527.1494 - val_loss: 544.2645 - val_mae: 21.8304 - val_mse: 544.2645\n",
      "Epoch 6/10\n",
      "8/8 [==============================] - 0s 8ms/step - loss: 526.0312 - mae: 21.4604 - mse: 526.0312 - val_loss: 522.3935 - val_mae: 21.2904 - val_mse: 522.3935\n",
      "Epoch 7/10\n",
      "8/8 [==============================] - 0s 8ms/step - loss: 492.1640 - mae: 20.6264 - mse: 492.1640 - val_loss: 498.7966 - val_mae: 20.6832 - val_mse: 498.7966\n",
      "Epoch 8/10\n",
      "8/8 [==============================] - 0s 8ms/step - loss: 449.2206 - mae: 19.5896 - mse: 449.2206 - val_loss: 472.6068 - val_mae: 19.9792 - val_mse: 472.6068\n",
      "Epoch 9/10\n",
      "8/8 [==============================] - 0s 8ms/step - loss: 439.5848 - mae: 19.3953 - mse: 439.5848 - val_loss: 443.4292 - val_mae: 19.1741 - val_mse: 443.4292\n",
      "Epoch 10/10\n",
      "8/8 [==============================] - 0s 8ms/step - loss: 416.3501 - mae: 18.5103 - mse: 416.3501 - val_loss: 411.6175 - val_mae: 18.2613 - val_mse: 411.6175\n",
      "3/3 - 0s - loss: 419.9257 - mae: 18.4808 - mse: 419.9257\n"
     ]
    }
   ],
   "source": [
    "parameters = [\n",
    "    {\"num_units\": 16, \"epochs\": 3, \"dropout_rate\": 0.1},\n",
    "    {\"num_units\": 16, \"epochs\": 10, \"dropout_rate\": 0.1},\n",
    "    {\"num_units\": 16, \"epochs\": 10, \"dropout_rate\": 0.2},\n",
    "    {\"num_units\": 32, \"epochs\": 10, \"dropout_rate\": 0.1},\n",
    "    {\"num_units\": 32, \"epochs\": 10, \"dropout_rate\": 0.2},\n",
    "]\n",
    "\n",
    "for i, params in enumerate(parameters):\n",
    "    aiplatform.start_run(run=f\"auto-mpg-local-run-{i}\")\n",
    "    aiplatform.log_params(params)\n",
    "    model, history = train(\n",
    "        normed_train_data,\n",
    "        train_labels,\n",
    "        num_units=params[\"num_units\"],\n",
    "        activation=\"relu\",\n",
    "        epochs=params[\"epochs\"],\n",
    "        dropout_rate=params[\"dropout_rate\"],\n",
    "    )\n",
    "    aiplatform.log_metrics(\n",
    "        {metric: values[-1] for metric, values in history.history.items()}\n",
    "    )\n",
    "\n",
    "    loss, mae, mse = model.evaluate(normed_test_data, test_labels, verbose=2)\n",
    "    aiplatform.log_metrics({\"eval_loss\": loss, \"eval_mae\": mae, \"eval_mse\": mse})"
   ]
  },
  {
   "cell_type": "markdown",
   "metadata": {
    "id": "jZLrJZTfL7tE"
   },
   "source": [
    "### Extract parameters and metrics into a dataframe for analysis"
   ]
  },
  {
   "cell_type": "markdown",
   "metadata": {
    "id": "A1PqKxlpOZa2"
   },
   "source": [
    "We can also extract all parameters and metrics associated with any Experiment into a dataframe for further analysis."
   ]
  },
  {
   "cell_type": "code",
   "execution_count": 18,
   "metadata": {
    "id": "jbRf1WoH_vbY"
   },
   "outputs": [
    {
     "data": {
      "text/html": [
       "<div>\n",
       "<style scoped>\n",
       "    .dataframe tbody tr th:only-of-type {\n",
       "        vertical-align: middle;\n",
       "    }\n",
       "\n",
       "    .dataframe tbody tr th {\n",
       "        vertical-align: top;\n",
       "    }\n",
       "\n",
       "    .dataframe thead th {\n",
       "        text-align: right;\n",
       "    }\n",
       "</style>\n",
       "<table border=\"1\" class=\"dataframe\">\n",
       "  <thead>\n",
       "    <tr style=\"text-align: right;\">\n",
       "      <th></th>\n",
       "      <th>experiment_name</th>\n",
       "      <th>run_name</th>\n",
       "      <th>param.dropout_rate</th>\n",
       "      <th>param.num_units</th>\n",
       "      <th>param.epochs</th>\n",
       "      <th>metric.loss</th>\n",
       "      <th>metric.mse</th>\n",
       "      <th>metric.val_mae</th>\n",
       "      <th>metric.eval_mse</th>\n",
       "      <th>metric.eval_mae</th>\n",
       "      <th>metric.val_mse</th>\n",
       "      <th>metric.mae</th>\n",
       "      <th>metric.val_loss</th>\n",
       "      <th>metric.eval_loss</th>\n",
       "    </tr>\n",
       "  </thead>\n",
       "  <tbody>\n",
       "    <tr>\n",
       "      <th>0</th>\n",
       "      <td>demo-experiment</td>\n",
       "      <td>auto-mpg-local-run-4</td>\n",
       "      <td>0.2</td>\n",
       "      <td>32.0</td>\n",
       "      <td>10.0</td>\n",
       "      <td>412.549286</td>\n",
       "      <td>412.549286</td>\n",
       "      <td>18.261265</td>\n",
       "      <td>419.925720</td>\n",
       "      <td>18.480808</td>\n",
       "      <td>411.617493</td>\n",
       "      <td>18.362974</td>\n",
       "      <td>411.617493</td>\n",
       "      <td>419.925720</td>\n",
       "    </tr>\n",
       "    <tr>\n",
       "      <th>1</th>\n",
       "      <td>demo-experiment</td>\n",
       "      <td>auto-mpg-local-run-3</td>\n",
       "      <td>0.1</td>\n",
       "      <td>32.0</td>\n",
       "      <td>10.0</td>\n",
       "      <td>282.863037</td>\n",
       "      <td>282.863037</td>\n",
       "      <td>14.026794</td>\n",
       "      <td>270.131073</td>\n",
       "      <td>14.813652</td>\n",
       "      <td>249.740753</td>\n",
       "      <td>15.146656</td>\n",
       "      <td>249.740753</td>\n",
       "      <td>270.131073</td>\n",
       "    </tr>\n",
       "    <tr>\n",
       "      <th>2</th>\n",
       "      <td>demo-experiment</td>\n",
       "      <td>auto-mpg-local-run-2</td>\n",
       "      <td>0.2</td>\n",
       "      <td>16.0</td>\n",
       "      <td>10.0</td>\n",
       "      <td>406.859894</td>\n",
       "      <td>406.859894</td>\n",
       "      <td>18.527601</td>\n",
       "      <td>431.879395</td>\n",
       "      <td>18.879585</td>\n",
       "      <td>415.098053</td>\n",
       "      <td>18.356678</td>\n",
       "      <td>415.098053</td>\n",
       "      <td>431.879395</td>\n",
       "    </tr>\n",
       "    <tr>\n",
       "      <th>3</th>\n",
       "      <td>demo-experiment</td>\n",
       "      <td>auto-mpg-local-run-1</td>\n",
       "      <td>0.1</td>\n",
       "      <td>16.0</td>\n",
       "      <td>10.0</td>\n",
       "      <td>519.320862</td>\n",
       "      <td>519.320862</td>\n",
       "      <td>21.576517</td>\n",
       "      <td>554.939514</td>\n",
       "      <td>22.056217</td>\n",
       "      <td>530.097412</td>\n",
       "      <td>21.385426</td>\n",
       "      <td>530.097412</td>\n",
       "      <td>554.939514</td>\n",
       "    </tr>\n",
       "    <tr>\n",
       "      <th>4</th>\n",
       "      <td>demo-experiment</td>\n",
       "      <td>auto-mpg-local-run-0</td>\n",
       "      <td>0.1</td>\n",
       "      <td>16.0</td>\n",
       "      <td>3.0</td>\n",
       "      <td>551.268066</td>\n",
       "      <td>551.268066</td>\n",
       "      <td>22.563068</td>\n",
       "      <td>582.509033</td>\n",
       "      <td>22.820850</td>\n",
       "      <td>567.485718</td>\n",
       "      <td>22.226725</td>\n",
       "      <td>567.485718</td>\n",
       "      <td>582.509033</td>\n",
       "    </tr>\n",
       "  </tbody>\n",
       "</table>\n",
       "</div>"
      ],
      "text/plain": [
       "   experiment_name              run_name  param.dropout_rate  param.num_units  \\\n",
       "0  demo-experiment  auto-mpg-local-run-4                 0.2             32.0   \n",
       "1  demo-experiment  auto-mpg-local-run-3                 0.1             32.0   \n",
       "2  demo-experiment  auto-mpg-local-run-2                 0.2             16.0   \n",
       "3  demo-experiment  auto-mpg-local-run-1                 0.1             16.0   \n",
       "4  demo-experiment  auto-mpg-local-run-0                 0.1             16.0   \n",
       "\n",
       "   param.epochs  metric.loss  metric.mse  metric.val_mae  metric.eval_mse  \\\n",
       "0          10.0   412.549286  412.549286       18.261265       419.925720   \n",
       "1          10.0   282.863037  282.863037       14.026794       270.131073   \n",
       "2          10.0   406.859894  406.859894       18.527601       431.879395   \n",
       "3          10.0   519.320862  519.320862       21.576517       554.939514   \n",
       "4           3.0   551.268066  551.268066       22.563068       582.509033   \n",
       "\n",
       "   metric.eval_mae  metric.val_mse  metric.mae  metric.val_loss  \\\n",
       "0        18.480808      411.617493   18.362974       411.617493   \n",
       "1        14.813652      249.740753   15.146656       249.740753   \n",
       "2        18.879585      415.098053   18.356678       415.098053   \n",
       "3        22.056217      530.097412   21.385426       530.097412   \n",
       "4        22.820850      567.485718   22.226725       567.485718   \n",
       "\n",
       "   metric.eval_loss  \n",
       "0        419.925720  \n",
       "1        270.131073  \n",
       "2        431.879395  \n",
       "3        554.939514  \n",
       "4        582.509033  "
      ]
     },
     "execution_count": 18,
     "metadata": {},
     "output_type": "execute_result"
    }
   ],
   "source": [
    "experiment_df = aiplatform.get_experiment_df()\n",
    "experiment_df"
   ]
  },
  {
   "cell_type": "markdown",
   "metadata": {
    "id": "EYuYgqVCMKU1"
   },
   "source": [
    "### Visualizing an experiment's parameters and metrics"
   ]
  },
  {
   "cell_type": "code",
   "execution_count": 19,
   "metadata": {
    "id": "r8orCj8iJuO1"
   },
   "outputs": [
    {
     "data": {
      "text/plain": [
       "<matplotlib.legend.Legend at 0x7fc41b9ae250>"
      ]
     },
     "execution_count": 19,
     "metadata": {},
     "output_type": "execute_result"
    },
    {
     "data": {
      "image/png": "[encoded data removed]",
      "text/plain": [
       "<Figure size 1080x360 with 1 Axes>"
      ]
     },
     "metadata": {
      "needs_background": "light"
     },
     "output_type": "display_data"
    }
   ],
   "source": [
    "plt.rcParams[\"figure.figsize\"] = [15, 5]\n",
    "\n",
    "ax = pd.plotting.parallel_coordinates(\n",
    "    experiment_df.reset_index(level=0),\n",
    "    \"run_name\",\n",
    "    cols=[\n",
    "        \"param.num_units\",\n",
    "        \"param.dropout_rate\",\n",
    "        \"param.epochs\",\n",
    "        \"metric.loss\",\n",
    "        \"metric.val_loss\",\n",
    "        \"metric.eval_loss\",\n",
    "    ],\n",
    "    color=[\"blue\", \"green\", \"pink\", \"red\"],\n",
    ")\n",
    "ax.set_yscale(\"symlog\")\n",
    "ax.legend(bbox_to_anchor=(1.0, 0.5))"
   ]
  },
  {
   "cell_type": "markdown",
   "metadata": {
    "id": "WTHvPMweMlP1"
   },
   "source": [
    "## Visualizing experiments in Cloud Console"
   ]
  },
  {
   "cell_type": "markdown",
   "metadata": {
    "id": "F19_5lw0MqXv"
   },
   "source": [
    "Run the following to get the URL of Vertex AI Experiments for your project.\n"
   ]
  },
  {
   "cell_type": "code",
   "execution_count": 20,
   "metadata": {
    "id": "GmN9vE9pqqzt"
   },
   "outputs": [
    {
     "name": "stdout",
     "output_type": "stream",
     "text": [
      "Vertex AI Experiments:\n",
      "https://console.cloud.google.com/ai/platform/experiments/experiments?folder=&organizationId=&project=jk-mlops-dev\n"
     ]
    }
   ],
   "source": [
    "print(\"Vertex AI Experiments:\")\n",
    "print(\n",
    "    f\"https://console.cloud.google.com/ai/platform/experiments/experiments?folder=&organizationId=&project={PROJECT_ID}\"\n",
    ")"
   ]
  },
  {
   "cell_type": "markdown",
   "metadata": {
    "id": "TpV-iwP9qw9c"
   },
   "source": [
    "## Cleaning up\n",
    "\n",
    "To clean up all Google Cloud resources used in this project, you can [delete the Google Cloud\n",
    "project](https://cloud.google.com/resource-manager/docs/creating-managing-projects#shutting_down_projects) you used for the tutorial."
   ]
  }
 ],
 "metadata": {
  "colab": {
   "collapsed_sections": [],
   "name": "sdk-metric-parameter-tracking-for-locally-trained-models.ipynb",
   "toc_visible": true
  },
  "environment": {
   "name": "tf2-gpu.2-4.m69",
   "type": "gcloud",
   "uri": "gcr.io/deeplearning-platform-release/tf2-gpu.2-4:m69"
  },
  "kernelspec": {
   "display_name": "Python 3",
   "language": "python",
   "name": "python3"
  },
  "language_info": {
   "codemirror_mode": {
    "name": "ipython",
    "version": 3
   },
   "file_extension": ".py",
   "mimetype": "text/x-python",
   "name": "python",
   "nbconvert_exporter": "python",
   "pygments_lexer": "ipython3",
   "version": "3.7.10"
  }
 },
 "nbformat": 4,
 "nbformat_minor": 4
}
