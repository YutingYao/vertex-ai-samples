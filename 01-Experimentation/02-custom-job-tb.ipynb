{
 "cells": [
  {
   "cell_type": "markdown",
   "id": "3d551683",
   "metadata": {},
   "source": [
    "# Custom Training Job with Tensorboard Monitoring\n",
    "\n",
    "This notebook demonstrates how to submit a custom Vertex training job and monitor it using Vertex TensorBoard. \n",
    "\n",
    "## Scenario\n",
    "\n",
    "The training scenario is fine-tuning BERT on the [GLUE COLA](https://nyu-mll.github.io/CoLA/) dataset. \n",
    "\n",
    "## Notes\n",
    "\n",
    "- The training regimen utilizes  [TensorFlow NLP Modelling Toolkit](https://github.com/tensorflow/models/tree/master/official/nlp)\n",
    "- Due to a complexity of the ML task, the custom training job is configured to use a multi-gpu training node"
   ]
  },
  {
   "cell_type": "code",
   "execution_count": 1,
   "id": "2020aab8",
   "metadata": {},
   "outputs": [],
   "source": [
    "import os\n",
    "import tensorflow as tf\n",
    "import tensorflow_hub as hub\n",
    "import tensorflow_datasets as tfds\n",
    "import tensorflow_text as text  # A dependency of the preprocessing model\n",
    "import tensorflow_addons as tfa\n",
    "from official.nlp import optimization\n",
    "import numpy as np\n",
    "\n",
    "tf.get_logger().setLevel('ERROR')"
   ]
  },
  {
   "cell_type": "markdown",
   "id": "9c79bb3f",
   "metadata": {},
   "source": [
    "## Evironment setup\n",
    "\n",
    "### Set GCP project and GCS bucket"
   ]
  },
  {
   "cell_type": "code",
   "execution_count": 2,
   "id": "94b42d21",
   "metadata": {},
   "outputs": [],
   "source": [
    "PROJECT = 'jk-mlops-dev'\n",
    "GCS_BUCKET = 'gs://jk-vertex-workshop-bucket'"
   ]
  },
  {
   "cell_type": "markdown",
   "id": "cb782225",
   "metadata": {},
   "source": [
    "## Configure data preprocessing"
   ]
  },
  {
   "cell_type": "markdown",
   "id": "fec42d05",
   "metadata": {},
   "source": [
    "### Make BERT data preprocessing model"
   ]
  },
  {
   "cell_type": "code",
   "execution_count": 3,
   "id": "b1278ae4",
   "metadata": {},
   "outputs": [],
   "source": [
    "tfhub_handle_preprocess = 'https://tfhub.dev/tensorflow/bert_en_uncased_preprocess/3'\n",
    "\n",
    "def make_bert_preprocess_model(sentence_features, seq_length=128):\n",
    "  \"\"\"Returns Model mapping string features to BERT inputs.\n",
    "\n",
    "  Args:\n",
    "    sentence_features: a list with the names of string-valued features.\n",
    "    seq_length: an integer that defines the sequence length of BERT inputs.\n",
    "\n",
    "  Returns:\n",
    "    A Keras Model that can be called on a list or dict of string Tensors\n",
    "    (with the order or names, resp., given by sentence_features) and\n",
    "    returns a dict of tensors for input to BERT.\n",
    "  \"\"\"\n",
    "\n",
    "  input_segments = [\n",
    "      tf.keras.layers.Input(shape=(), dtype=tf.string, name=ft)\n",
    "      for ft in sentence_features]\n",
    "\n",
    "  # Tokenize the text to word pieces.\n",
    "  bert_preprocess = hub.load(tfhub_handle_preprocess)\n",
    "  tokenizer = hub.KerasLayer(bert_preprocess.tokenize, name='tokenizer')\n",
    "  segments = [tokenizer(s) for s in input_segments]\n",
    "\n",
    "  # Optional: Trim segments in a smart way to fit seq_length.\n",
    "  # Simple cases (like this example) can skip this step and let\n",
    "  # the next step apply a default truncation to approximately equal lengths.\n",
    "  truncated_segments = segments\n",
    "\n",
    "  # Pack inputs. The details (start/end token ids, dict of output tensors)\n",
    "  # are model-dependent, so this gets loaded from the SavedModel.\n",
    "  packer = hub.KerasLayer(bert_preprocess.bert_pack_inputs,\n",
    "                          arguments=dict(seq_length=seq_length),\n",
    "                          name='packer')\n",
    "  model_inputs = packer(truncated_segments)\n",
    "  return tf.keras.Model(input_segments, model_inputs)"
   ]
  },
  {
   "cell_type": "markdown",
   "id": "c5acefd3",
   "metadata": {},
   "source": [
    "### Try BERT data preprocessing model"
   ]
  },
  {
   "cell_type": "code",
   "execution_count": 4,
   "id": "35337bc6",
   "metadata": {},
   "outputs": [
    {
     "name": "stdout",
     "output_type": "stream",
     "text": [
      "Keys           :  ['input_type_ids', 'input_word_ids', 'input_mask']\n",
      "Shape Word Ids :  (1, 128)\n",
      "Word Ids       :  tf.Tensor(\n",
      "[ 101 2070 6721 3231 6251  102    0    0    0    0    0    0    0    0\n",
      "    0    0], shape=(16,), dtype=int32)\n",
      "Shape Mask     :  (1, 128)\n",
      "Input Mask     :  tf.Tensor([1 1 1 1 1 1 0 0 0 0 0 0 0 0 0 0], shape=(16,), dtype=int32)\n",
      "Shape Type Ids :  (1, 128)\n",
      "Type Ids       :  tf.Tensor([0 0 0 0 0 0 0 0 0 0 0 0 0 0 0 0], shape=(16,), dtype=int32)\n"
     ]
    }
   ],
   "source": [
    "test_preprocess_model = make_bert_preprocess_model(['sentence'])\n",
    "test_text = [np.array(['some random test sentence'])]\n",
    "text_preprocessed = test_preprocess_model(test_text)\n",
    "\n",
    "print('Keys           : ', list(text_preprocessed.keys()))\n",
    "print('Shape Word Ids : ', text_preprocessed['input_word_ids'].shape)\n",
    "print('Word Ids       : ', text_preprocessed['input_word_ids'][0, :16])\n",
    "print('Shape Mask     : ', text_preprocessed['input_mask'].shape)\n",
    "print('Input Mask     : ', text_preprocessed['input_mask'][0, :16])\n",
    "print('Shape Type Ids : ', text_preprocessed['input_type_ids'].shape)\n",
    "print('Type Ids       : ', text_preprocessed['input_type_ids'][0, :16])"
   ]
  },
  {
   "cell_type": "markdown",
   "id": "faebdf7e",
   "metadata": {},
   "source": [
    "### Visualize BERT data preprocessing model"
   ]
  },
  {
   "cell_type": "code",
   "execution_count": 5,
   "id": "21c0040a",
   "metadata": {},
   "outputs": [
    {
     "data": {
      "image/png": "[encoded data removed]",
      "text/plain": [
       "<IPython.core.display.Image object>"
      ]
     },
     "execution_count": 5,
     "metadata": {},
     "output_type": "execute_result"
    }
   ],
   "source": [
    "tf.keras.utils.plot_model(test_preprocess_model)"
   ]
  },
  {
   "cell_type": "markdown",
   "id": "37c99324",
   "metadata": {},
   "source": [
    "## Configure the text classification model"
   ]
  },
  {
   "cell_type": "code",
   "execution_count": 6,
   "id": "478b3a00",
   "metadata": {},
   "outputs": [],
   "source": [
    "def build_classifier_model(num_classes, dropout_ratio):\n",
    "  inputs = dict(\n",
    "      input_word_ids=tf.keras.layers.Input(shape=(None,), dtype=tf.int32),\n",
    "      input_mask=tf.keras.layers.Input(shape=(None,), dtype=tf.int32),\n",
    "      input_type_ids=tf.keras.layers.Input(shape=(None,), dtype=tf.int32),\n",
    "  )\n",
    "\n",
    "  encoder = hub.KerasLayer(tfhub_handle_encoder, trainable=True, name='encoder')\n",
    "  net = encoder(inputs)['pooled_output']\n",
    "  net = tf.keras.layers.Dropout(rate=dropout_ratio)(net)\n",
    "  net = tf.keras.layers.Dense(num_classes, activation=None, name='classifier')(net)\n",
    "  return tf.keras.Model(inputs, net, name='prediction')"
   ]
  },
  {
   "cell_type": "code",
   "execution_count": 7,
   "id": "c1b65ed7",
   "metadata": {},
   "outputs": [],
   "source": [
    "tfhub_handle_encoder = 'https://tfhub.dev/tensorflow/bert_en_uncased_L-12_H-768_A-12/3'\n",
    "dropout_ratio = 0.1\n",
    "classes = 2\n",
    "\n",
    "classifier_model = build_classifier_model(classes, dropout_ratio)"
   ]
  },
  {
   "cell_type": "markdown",
   "id": "b50112ac",
   "metadata": {},
   "source": [
    "### Test the model"
   ]
  },
  {
   "cell_type": "code",
   "execution_count": 8,
   "id": "9e2379fd",
   "metadata": {},
   "outputs": [
    {
     "name": "stdout",
     "output_type": "stream",
     "text": [
      "tf.Tensor([[0.5493734 0.7861106]], shape=(1, 2), dtype=float32)\n"
     ]
    }
   ],
   "source": [
    "bert_raw_result = classifier_model(text_preprocessed)\n",
    "print(tf.sigmoid(bert_raw_result))"
   ]
  },
  {
   "cell_type": "markdown",
   "id": "10cc8acc",
   "metadata": {},
   "source": [
    "### Visualize the model"
   ]
  },
  {
   "cell_type": "code",
   "execution_count": 9,
   "id": "ad2ec57b",
   "metadata": {},
   "outputs": [
    {
     "data": {
      "image/png": "[encoded data removed]",
      "text/plain": [
       "<IPython.core.display.Image object>"
      ]
     },
     "execution_count": 9,
     "metadata": {},
     "output_type": "execute_result"
    }
   ],
   "source": [
    "tf.keras.utils.plot_model(classifier_model)"
   ]
  },
  {
   "cell_type": "markdown",
   "id": "8e56a17d",
   "metadata": {},
   "source": [
    "## Configure `tf.data` pipelines"
   ]
  },
  {
   "cell_type": "markdown",
   "id": "c994edf7",
   "metadata": {},
   "source": [
    "A helper function that creates a new `tf.data` dataset by applying the BERT data preprocessing model to an in-memory `tf.data` dataset with text sentences."
   ]
  },
  {
   "cell_type": "code",
   "execution_count": 10,
   "id": "65df1474",
   "metadata": {},
   "outputs": [],
   "source": [
    "AUTOTUNE = tf.data.AUTOTUNE\n",
    "\n",
    "\n",
    "def load_dataset_from_tfds(in_memory_ds, info, split, batch_size,\n",
    "                           bert_preprocess_model):\n",
    "  is_training = split.startswith('train')\n",
    "  dataset = tf.data.Dataset.from_tensor_slices(in_memory_ds[split])\n",
    "  num_examples = info.splits[split].num_examples\n",
    "\n",
    "  if is_training:\n",
    "    dataset = dataset.shuffle(num_examples)\n",
    "    dataset = dataset.repeat()\n",
    "  dataset = dataset.batch(batch_size)\n",
    "  dataset = dataset.map(lambda ex: (bert_preprocess_model(ex), ex['label']))\n",
    "  dataset = dataset.cache().prefetch(buffer_size=AUTOTUNE)\n",
    "  return dataset, num_examples\n"
   ]
  },
  {
   "cell_type": "markdown",
   "id": "26e8f338",
   "metadata": {},
   "source": [
    "### Create the `glue/cola` in-memory `tf.data` dataset"
   ]
  },
  {
   "cell_type": "code",
   "execution_count": 11,
   "id": "6abe528f",
   "metadata": {},
   "outputs": [
    {
     "name": "stdout",
     "output_type": "stream",
     "text": [
      "Using glue/cola from TFDS\n",
      "This dataset has 10657 examples\n",
      "Number of classes: 2\n",
      "Features ['sentence']\n",
      "Splits ['train', 'validation', 'test']\n"
     ]
    }
   ],
   "source": [
    "tfds_name = 'glue/cola' \n",
    "\n",
    "tfds_info = tfds.builder(tfds_name).info\n",
    "num_classes = tfds_info.features['label'].num_classes\n",
    "num_examples = tfds_info.splits.total_num_examples\n",
    "sentence_features = list(tfds_info.features.keys())\n",
    "available_splits = list(tfds_info.splits.keys())\n",
    "sentence_features.remove('idx')\n",
    "sentence_features.remove('label')\n",
    "\n",
    "print(f'Using {tfds_name} from TFDS')\n",
    "print(f'This dataset has {num_examples} examples')\n",
    "print(f'Number of classes: {num_classes}')\n",
    "print(f'Features {sentence_features}')\n",
    "print(f'Splits {available_splits}')"
   ]
  },
  {
   "cell_type": "code",
   "execution_count": 12,
   "id": "48ab5e34",
   "metadata": {},
   "outputs": [],
   "source": [
    "train_split = 'train'\n",
    "validation_split = 'validation'\n",
    "test_split = 'test'\n",
    "\n",
    "with tf.device('/job:localhost'):\n",
    "  # batch_size=-1 is a way to load the dataset into memory\n",
    "  in_memory_ds = tfds.load(tfds_name, batch_size=-1, shuffle_files=True)"
   ]
  },
  {
   "cell_type": "markdown",
   "id": "af69033d",
   "metadata": {},
   "source": [
    "### Show some samples"
   ]
  },
  {
   "cell_type": "code",
   "execution_count": 13,
   "id": "5b4cff66",
   "metadata": {},
   "outputs": [
    {
     "name": "stdout",
     "output_type": "stream",
     "text": [
      "sample row 1\n",
      "b'It is this hat that it is certain that he was wearing.'\n",
      "label: 1 (acceptable)\n",
      "\n",
      "sample row 2\n",
      "b'Her efficient looking up of the answer pleased the boss.'\n",
      "label: 1 (acceptable)\n",
      "\n",
      "sample row 3\n",
      "b'Both the workers will wear carnations.'\n",
      "label: 1 (acceptable)\n",
      "\n",
      "sample row 4\n",
      "b'John enjoyed drawing trees for his syntax homework.'\n",
      "label: 1 (acceptable)\n",
      "\n",
      "sample row 5\n",
      "b'We consider Leslie rather foolish, and Lou a complete idiot.'\n",
      "label: 1 (acceptable)\n",
      "\n"
     ]
    }
   ],
   "source": [
    "sample_dataset = tf.data.Dataset.from_tensor_slices(in_memory_ds[train_split])\n",
    "labels_names = tfds_info.features['label'].names\n",
    "sample_i = 1\n",
    "for sample_row in sample_dataset.take(5):\n",
    "  samples = [sample_row[feature] for feature in sentence_features]\n",
    "  print(f'sample row {sample_i}')\n",
    "  for sample in samples:\n",
    "    print(sample.numpy())\n",
    "  sample_label = sample_row['label']\n",
    "\n",
    "  print(f'label: {sample_label} ({labels_names[sample_label]})')\n",
    "  print()\n",
    "  sample_i += 1"
   ]
  },
  {
   "cell_type": "markdown",
   "id": "e873180b",
   "metadata": {},
   "source": [
    "## Configure a training regimen"
   ]
  },
  {
   "cell_type": "markdown",
   "id": "f2c229d5",
   "metadata": {},
   "source": [
    "### Distribution strategy\n",
    "\n",
    "We will be training on a single, multi-gpu node. So the strategy will be `mirrored`."
   ]
  },
  {
   "cell_type": "code",
   "execution_count": 14,
   "id": "0cd41233",
   "metadata": {},
   "outputs": [],
   "source": [
    "strategy = tf.distribute.MirroredStrategy()"
   ]
  },
  {
   "cell_type": "markdown",
   "id": "c0d39864",
   "metadata": {},
   "source": [
    "### Optimizer\n",
    "\n",
    "Fine-tuning follows the optimizer set-up from BERT pre-training (as in [Classify text with BERT](https://www.tensorflow.org/text/tutorials/classify_text_with_bert)): It uses the AdamW optimizer with a linear decay of a notional initial learning rate, prefixed with a linear warm-up phase over the first 10% of training steps (`num_warmup_steps`). In line with the BERT paper, the initial learning rate is smaller for fine-tuning (best of 5e-5, 3e-5, 2e-5)."
   ]
  },
  {
   "cell_type": "code",
   "execution_count": 15,
   "id": "b7a65c81",
   "metadata": {},
   "outputs": [
    {
     "ename": "NameError",
     "evalue": "name 'num_train_steps' is not defined",
     "output_type": "error",
     "traceback": [
      "\u001b[0;31m---------------------------------------------------------------------------\u001b[0m",
      "\u001b[0;31mNameError\u001b[0m                                 Traceback (most recent call last)",
      "\u001b[0;32m<ipython-input-15-a9a4f749e588>\u001b[0m in \u001b[0;36m<module>\u001b[0;34m\u001b[0m\n\u001b[1;32m      3\u001b[0m optimizer = optimization.create_optimizer(\n\u001b[1;32m      4\u001b[0m       \u001b[0minit_lr\u001b[0m\u001b[0;34m=\u001b[0m\u001b[0minit_lr\u001b[0m\u001b[0;34m,\u001b[0m\u001b[0;34m\u001b[0m\u001b[0;34m\u001b[0m\u001b[0m\n\u001b[0;32m----> 5\u001b[0;31m       \u001b[0mnum_train_steps\u001b[0m\u001b[0;34m=\u001b[0m\u001b[0mnum_train_steps\u001b[0m\u001b[0;34m,\u001b[0m\u001b[0;34m\u001b[0m\u001b[0;34m\u001b[0m\u001b[0m\n\u001b[0m\u001b[1;32m      6\u001b[0m       \u001b[0mnum_warmup_steps\u001b[0m\u001b[0;34m=\u001b[0m\u001b[0mnum_warmup_steps\u001b[0m\u001b[0;34m,\u001b[0m\u001b[0;34m\u001b[0m\u001b[0;34m\u001b[0m\u001b[0m\n\u001b[1;32m      7\u001b[0m       optimizer_type='adamw')\n",
      "\u001b[0;31mNameError\u001b[0m: name 'num_train_steps' is not defined"
     ]
    }
   ],
   "source": [
    "init_lr = 2e-5\n",
    "\n",
    "optimizer = optimization.create_optimizer(\n",
    "      init_lr=init_lr,\n",
    "      num_train_steps=num_train_steps,\n",
    "      num_warmup_steps=num_warmup_steps,\n",
    "      optimizer_type='adamw')"
   ]
  },
  {
   "cell_type": "markdown",
   "id": "997f4c2e",
   "metadata": {},
   "source": [
    "### Compile a model"
   ]
  },
  {
   "cell_type": "code",
   "execution_count": null,
   "id": "7fab3ec1",
   "metadata": {},
   "outputs": [],
   "source": [
    "dropout_ration = 0.1\n",
    "\n",
    "bert_preprocess_model = make_bert_preprocess_model(sentence_features)\n",
    "\n",
    "metrics = tfa.metrics.MatthewsCorrelationCoefficient(num_classes=2)\n",
    "loss = tf.keras.losses.SparseCategoricalCrossentropy(from_logits=True)\n",
    "\n",
    "with strategy.scope():\n",
    "\n",
    "  train_dataset, train_data_size = load_dataset_from_tfds(\n",
    "      in_memory_ds, tfds_info, train_split, batch_size, bert_preprocess_model)\n",
    "  steps_per_epoch = train_data_size // batch_size\n",
    "  num_train_steps = steps_per_epoch * epochs\n",
    "  num_warmup_steps = num_train_steps // 10\n",
    "\n",
    "  validation_dataset, validation_data_size = load_dataset_from_tfds(\n",
    "      in_memory_ds, tfds_info, validation_split, batch_size,\n",
    "      bert_preprocess_model)\n",
    "  validation_steps = validation_data_size // batch_size\n",
    "\n",
    "  classifier_model = build_classifier_model(num_classes, dropout_ratio)\n",
    "\n",
    "  \n",
    "\n",
    "  classifier_model.compile(optimizer=optimizer, loss=loss, metrics=[metrics])\n"
   ]
  },
  {
   "cell_type": "markdown",
   "id": "7fe2eee5",
   "metadata": {},
   "source": [
    "## Train the model"
   ]
  },
  {
   "cell_type": "code",
   "execution_count": null,
   "id": "8a870445",
   "metadata": {},
   "outputs": [],
   "source": [
    "epochs = 3\n",
    "batch_size = 32"
   ]
  }
 ],
 "metadata": {
  "environment": {
   "name": "tf2-gpu.2-5.m70",
   "type": "gcloud",
   "uri": "gcr.io/deeplearning-platform-release/tf2-gpu.2-5:m70"
  },
  "kernelspec": {
   "display_name": "Python [conda env:root] *",
   "language": "python",
   "name": "conda-root-py"
  },
  "language_info": {
   "codemirror_mode": {
    "name": "ipython",
    "version": 3
   },
   "file_extension": ".py",
   "mimetype": "text/x-python",
   "name": "python",
   "nbconvert_exporter": "python",
   "pygments_lexer": "ipython3",
   "version": "3.7.10"
  }
 },
 "nbformat": 4,
 "nbformat_minor": 5
}
