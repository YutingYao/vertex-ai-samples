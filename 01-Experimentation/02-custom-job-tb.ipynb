{
 "cells": [
  {
   "cell_type": "markdown",
   "id": "aefd15b9",
   "metadata": {},
   "source": [
    "# Custom Training Job with Tensorboard Monitoring\n",
    "\n",
    "This notebook demonstrates how to submit a custom Vertex training job and monitor it using Vertex TensorBoard. \n",
    "\n",
    "## Scenario\n",
    "\n",
    "The training scenario is fine-tuning BERT on the [GLUE COLA](https://nyu-mll.github.io/CoLA/) dataset. \n",
    "\n",
    "## Notes\n",
    "\n",
    "- The training regimen utilizes  [TensorFlow NLP Modelling Toolkit](https://github.com/tensorflow/models/tree/master/official/nlp)\n",
    "- Due to a complexity of the ML task, the custom training job is configured to use a multi-gpu training node"
   ]
  },
  {
   "cell_type": "code",
   "execution_count": 1,
   "id": "d14d826e",
   "metadata": {},
   "outputs": [],
   "source": [
    "import os\n",
    "import numpy as np\n",
    "import time\n",
    "\n",
    "import tensorflow as tf\n",
    "import tensorflow_hub as hub\n",
    "import tensorflow_datasets as tfds\n",
    "import tensorflow_text as text  # A dependency of the preprocessing model\n",
    "import tensorflow_addons as tfa\n",
    "from official.nlp import optimization\n",
    "\n",
    "from google.cloud import aiplatform as vertex_ai\n",
    "\n",
    "tf.get_logger().setLevel('ERROR')"
   ]
  },
  {
   "cell_type": "markdown",
   "id": "724d24e5",
   "metadata": {},
   "source": [
    "## Evironment setup\n"
   ]
  },
  {
   "cell_type": "code",
   "execution_count": 2,
   "id": "d419d393",
   "metadata": {},
   "outputs": [],
   "source": [
    "PROJECT = 'jk-mlops-dev'\n",
    "REGION = 'us-west1'\n",
    "STAGING_BUCKET = 'gs://jk-vertex-staging' "
   ]
  },
  {
   "cell_type": "markdown",
   "id": "fb5246e1",
   "metadata": {},
   "source": [
    "## Configure data preprocessing"
   ]
  },
  {
   "cell_type": "markdown",
   "id": "bec6134d",
   "metadata": {},
   "source": [
    "### Make BERT data preprocessing model"
   ]
  },
  {
   "cell_type": "code",
   "execution_count": 3,
   "id": "db16224c",
   "metadata": {},
   "outputs": [],
   "source": [
    "TFHUB_HANDLE_PREPROCESS = 'https://tfhub.dev/tensorflow/bert_en_uncased_preprocess/3'\n",
    "\n",
    "def make_bert_preprocess_model(sentence_features, seq_length=128):\n",
    "    \"\"\"Returns a model mapping string features to BERT inputs.\"\"\"\n",
    "\n",
    "    input_segments = [\n",
    "        tf.keras.layers.Input(shape=(), dtype=tf.string, name=ft)\n",
    "        for ft in sentence_features]\n",
    "\n",
    "    # Tokenize the text to word pieces.\n",
    "    bert_preprocess = hub.load(TFHUB_HANDLE_PREPROCESS)\n",
    "    tokenizer = hub.KerasLayer(bert_preprocess.tokenize, name='tokenizer')\n",
    "    segments = [tokenizer(s) for s in input_segments]\n",
    "\n",
    "    # Pack inputs. The details (start/end token ids, dict of output tensors)\n",
    "    # are model-dependent, so this gets loaded from the SavedModel.\n",
    "    packer = hub.KerasLayer(bert_preprocess.bert_pack_inputs,\n",
    "                            arguments=dict(seq_length=seq_length),\n",
    "                            name='packer')\n",
    "    model_inputs = packer(segments)\n",
    "    return tf.keras.Model(input_segments, model_inputs)"
   ]
  },
  {
   "cell_type": "markdown",
   "id": "f12e4616",
   "metadata": {},
   "source": [
    "### Try BERT data preprocessing model"
   ]
  },
  {
   "cell_type": "code",
   "execution_count": 4,
   "id": "f15ebf44",
   "metadata": {},
   "outputs": [
    {
     "name": "stdout",
     "output_type": "stream",
     "text": [
      "INFO:absl:Using /tmp/tfhub_modules to cache modules.\n",
      "Keys           :  ['input_word_ids', 'input_mask', 'input_type_ids']\n",
      "Shape Word Ids :  (1, 128)\n",
      "Word Ids       :  tf.Tensor(\n",
      "[ 101 2070 6721 3231 6251  102 2178 6721 6251  102    0    0    0    0\n",
      "    0    0], shape=(16,), dtype=int32)\n",
      "Shape Mask     :  (1, 128)\n",
      "Input Mask     :  tf.Tensor([1 1 1 1 1 1 1 1 1 1 0 0 0 0 0 0], shape=(16,), dtype=int32)\n",
      "Shape Type Ids :  (1, 128)\n",
      "Type Ids       :  tf.Tensor([0 0 0 0 0 0 1 1 1 1 0 0 0 0 0 0], shape=(16,), dtype=int32)\n"
     ]
    }
   ],
   "source": [
    "test_preprocess_model = make_bert_preprocess_model(['sentence1', 'sentence2'])\n",
    "test_text = [np.array(['some random test sentence']), \n",
    "             np.array(['another random sentence'])]\n",
    "text_preprocessed = test_preprocess_model(test_text)\n",
    "\n",
    "print('Keys           : ', list(text_preprocessed.keys()))\n",
    "print('Shape Word Ids : ', text_preprocessed['input_word_ids'].shape)\n",
    "print('Word Ids       : ', text_preprocessed['input_word_ids'][0, :16])\n",
    "print('Shape Mask     : ', text_preprocessed['input_mask'].shape)\n",
    "print('Input Mask     : ', text_preprocessed['input_mask'][0, :16])\n",
    "print('Shape Type Ids : ', text_preprocessed['input_type_ids'].shape)\n",
    "print('Type Ids       : ', text_preprocessed['input_type_ids'][0, :16])"
   ]
  },
  {
   "cell_type": "markdown",
   "id": "f5fff1a9",
   "metadata": {},
   "source": [
    "### Visualize BERT data preprocessing model"
   ]
  },
  {
   "cell_type": "code",
   "execution_count": 5,
   "id": "07494fbe",
   "metadata": {},
   "outputs": [
    {
     "data": {
      "image/png": "[encoded data removed]",
      "text/plain": [
       "<IPython.core.display.Image object>"
      ]
     },
     "execution_count": 5,
     "metadata": {},
     "output_type": "execute_result"
    }
   ],
   "source": [
    "tf.keras.utils.plot_model(test_preprocess_model)"
   ]
  },
  {
   "cell_type": "markdown",
   "id": "e2aefda7",
   "metadata": {},
   "source": [
    "## Configure the text classification model"
   ]
  },
  {
   "cell_type": "code",
   "execution_count": 6,
   "id": "3fa893e5",
   "metadata": {},
   "outputs": [],
   "source": [
    "TFHUB_HANDLE_ENCODER = 'https://tfhub.dev/tensorflow/bert_en_uncased_L-12_H-768_A-12/3'\n",
    "\n",
    "def build_classifier_model(num_classes, dropout_ratio):\n",
    "    \"\"\"Creates a text classification model based on BERT encoder.\"\"\"\n",
    "\n",
    "    inputs = dict(\n",
    "        input_word_ids=tf.keras.layers.Input(shape=(None,), dtype=tf.int32),\n",
    "        input_mask=tf.keras.layers.Input(shape=(None,), dtype=tf.int32),\n",
    "        input_type_ids=tf.keras.layers.Input(shape=(None,), dtype=tf.int32),\n",
    "    )\n",
    "\n",
    "    encoder = hub.KerasLayer(TFHUB_HANDLE_ENCODER, trainable=True, name='encoder')\n",
    "    net = encoder(inputs)['pooled_output']\n",
    "    net = tf.keras.layers.Dropout(rate=dropout_ratio)(net)\n",
    "    net = tf.keras.layers.Dense(num_classes, activation=None, name='classifier')(net)\n",
    "    return tf.keras.Model(inputs, net, name='prediction')"
   ]
  },
  {
   "cell_type": "code",
   "execution_count": 7,
   "id": "aed63774",
   "metadata": {},
   "outputs": [],
   "source": [
    "dropout_ratio = 0.1\n",
    "classes = 2\n",
    "\n",
    "classifier_model = build_classifier_model(classes, dropout_ratio)"
   ]
  },
  {
   "cell_type": "markdown",
   "id": "f8d8e2ac",
   "metadata": {},
   "source": [
    "### Test the model"
   ]
  },
  {
   "cell_type": "code",
   "execution_count": null,
   "id": "4c9ec0f9",
   "metadata": {},
   "outputs": [],
   "source": [
    "bert_raw_result = classifier_model(text_preprocessed)\n",
    "print(tf.sigmoid(bert_raw_result))"
   ]
  },
  {
   "cell_type": "markdown",
   "id": "438fad6f",
   "metadata": {},
   "source": [
    "### Visualize the model"
   ]
  },
  {
   "cell_type": "code",
   "execution_count": null,
   "id": "42c2645d",
   "metadata": {},
   "outputs": [],
   "source": [
    "tf.keras.utils.plot_model(classifier_model)"
   ]
  },
  {
   "cell_type": "markdown",
   "id": "f0efcabd",
   "metadata": {},
   "source": [
    "## Configure `tf.data` pipelines"
   ]
  },
  {
   "cell_type": "markdown",
   "id": "7431a46b",
   "metadata": {},
   "source": [
    "### Load the `glue/cola` dataset\n",
    "\n",
    "We will use  [TensorFlow Datasets](https://www.tensorflow.org/datasets). Since the `glue/cola` dataset is rather small we will load to memory."
   ]
  },
  {
   "cell_type": "code",
   "execution_count": null,
   "id": "ad835f88",
   "metadata": {},
   "outputs": [],
   "source": [
    "tfds_name = 'glue/cola' \n",
    "\n",
    "tfds_info = tfds.builder(tfds_name).info\n",
    "num_classes = tfds_info.features['label'].num_classes\n",
    "num_examples = tfds_info.splits.total_num_examples\n",
    "sentence_features = list(tfds_info.features.keys())\n",
    "available_splits = list(tfds_info.splits.keys())\n",
    "labels_names = tfds_info.features['label'].names\n",
    "\n",
    "print(f'Using {tfds_name} from TFDS')\n",
    "print(f'This dataset has {num_examples} examples')\n",
    "print(f'Number of classes: {num_classes}')\n",
    "print(f'Features {sentence_features}')\n",
    "print(f'Splits {available_splits}')\n",
    "print(f'Labels names {labels_names}')\n",
    "\n",
    "with tf.device('/job:localhost'):\n",
    "  # batch_size=-1 is a way to load the dataset into memory\n",
    "  in_memory_ds = tfds.load(tfds_name, batch_size=-1, shuffle_files=True)"
   ]
  },
  {
   "cell_type": "markdown",
   "id": "9dda8385",
   "metadata": {},
   "source": [
    "### Show some examples"
   ]
  },
  {
   "cell_type": "code",
   "execution_count": null,
   "id": "9601e5b2",
   "metadata": {},
   "outputs": [],
   "source": [
    "sample_dataset = tf.data.Dataset.from_tensor_slices(in_memory_ds['train'])\n",
    "\n",
    "for row in sample_dataset.take(2):\n",
    "    print(row)"
   ]
  },
  {
   "cell_type": "markdown",
   "id": "ee1def48",
   "metadata": {},
   "source": [
    "### Create data ingestion pipelines.\n",
    "\n",
    "We will be training on a multi-gpu node using the `MirroredStrategy` distribution strategy. When using the `MirroredStrategy` each batch of the input is divided equally among the replicas. Typically, you would want to increase your batch size as you add more accelerators, so as to make effective use of the extra computing power."
   ]
  },
  {
   "cell_type": "code",
   "execution_count": null,
   "id": "4c54c266",
   "metadata": {},
   "outputs": [],
   "source": [
    "strategy = tf.distribute.MirroredStrategy()"
   ]
  },
  {
   "cell_type": "code",
   "execution_count": null,
   "id": "02c7c52b",
   "metadata": {},
   "outputs": [],
   "source": [
    "batch_size_per_replica = 16\n",
    "global_batch_size = batch_size_per_replica * strategy.num_replicas_in_sync\n",
    "features = ['sentence']\n",
    "\n",
    "\n",
    "def get_data_pipeline(in_memory_ds, info, split, batch_size,\n",
    "                           bert_preprocess_model):\n",
    "    is_training = split.startswith('train')\n",
    "    dataset = tf.data.Dataset.from_tensor_slices(in_memory_ds[split])\n",
    "    num_examples = info.splits[split].num_examples\n",
    "\n",
    "    if is_training:\n",
    "        dataset = dataset.shuffle(num_examples)\n",
    "        dataset = dataset.repeat()\n",
    "    dataset = dataset.batch(batch_size)\n",
    "    dataset = dataset.map(lambda ex: (bert_preprocess_model(ex), ex['label']))\n",
    "    dataset = dataset.cache().prefetch(buffer_size=tf.data.AUTOTUNE)\n",
    "    return dataset, num_examples\n",
    "\n",
    "\n",
    "bert_preprocess_model = make_bert_preprocess_model(features)\n",
    "\n",
    "train_dataset, train_data_size = get_data_pipeline(\n",
    "      in_memory_ds, tfds_info, 'train', global_batch_size, bert_preprocess_model)\n",
    "\n",
    "validation_dataset, validation_data_size = get_data_pipeline(\n",
    "      in_memory_ds, tfds_info, 'validation', global_batch_size, bert_preprocess_model)\n"
   ]
  },
  {
   "cell_type": "markdown",
   "id": "1db48053",
   "metadata": {},
   "source": [
    "## Configure and test training\n",
    "\n",
    "### Compile the model"
   ]
  },
  {
   "cell_type": "markdown",
   "id": "255e8f7b",
   "metadata": {},
   "source": [
    "Fine-tuning follows the optimizer set-up from BERT pre-training (as in [Classify text with BERT](https://www.tensorflow.org/text/tutorials/classify_text_with_bert)): It uses the AdamW optimizer with a linear decay of a notional initial learning rate, prefixed with a linear warm-up phase over the first 10% of training steps (`num_warmup_steps`). In line with the BERT paper, the initial learning rate is smaller for fine-tuning (best of 5e-5, 3e-5, 2e-5)."
   ]
  },
  {
   "cell_type": "code",
   "execution_count": null,
   "id": "b75dfdbc",
   "metadata": {},
   "outputs": [],
   "source": [
    "epochs = 2\n",
    "init_lr = 2e-5\n",
    "dropout_ratio = 0.1\n",
    "num_classes = 2\n",
    "# steps_per_epoch = train_data_size // global_batch_size\n",
    "steps_per_epoch = 50\n",
    "\n",
    "num_train_steps = steps_per_epoch * epochs\n",
    "num_warmup_steps = num_train_steps // 10\n",
    "validation_steps = validation_data_size // global_batch_size\n",
    "\n",
    "with strategy.scope():\n",
    "    classifier_model = build_classifier_model(num_classes, dropout_ratio)\n",
    "    optimizer = optimization.create_optimizer(\n",
    "        init_lr=init_lr,\n",
    "        num_train_steps=num_train_steps,\n",
    "        num_warmup_steps=num_warmup_steps,\n",
    "        optimizer_type='adamw')\n",
    "    loss = tf.keras.losses.SparseCategoricalCrossentropy(from_logits=True)\n",
    "    metrics = tf.keras.metrics.SparseCategoricalAccuracy(\n",
    "        'accuracy', dtype=tf.float32)\n",
    "    \n",
    "classifier_model.compile(optimizer=optimizer, loss=loss, metrics=[metrics]) "
   ]
  },
  {
   "cell_type": "markdown",
   "id": "91346606",
   "metadata": {},
   "source": [
    "### Start a short training run"
   ]
  },
  {
   "cell_type": "code",
   "execution_count": null,
   "id": "f1c32379",
   "metadata": {},
   "outputs": [],
   "source": [
    "classifier_model.fit(\n",
    "      x=train_dataset,\n",
    "      validation_data=validation_dataset,\n",
    "      steps_per_epoch=steps_per_epoch,\n",
    "      epochs=epochs,\n",
    "      validation_steps=validation_steps)"
   ]
  },
  {
   "cell_type": "markdown",
   "id": "78e5c8e7",
   "metadata": {},
   "source": [
    "## Run Vertex custom training job"
   ]
  },
  {
   "cell_type": "markdown",
   "id": "80b456f9",
   "metadata": {},
   "source": [
    "### Intialize Vertex SDK"
   ]
  },
  {
   "cell_type": "code",
   "execution_count": null,
   "id": "16b56372",
   "metadata": {},
   "outputs": [],
   "source": [
    "vertex_ai.init(\n",
    "    project=PROJECT,\n",
    "    location=REGION,\n",
    "    staging_bucket=STAGING_BUCKET\n",
    ")"
   ]
  },
  {
   "cell_type": "markdown",
   "id": "3b4fa68e",
   "metadata": {},
   "source": [
    "### Create a training script"
   ]
  },
  {
   "cell_type": "code",
   "execution_count": null,
   "id": "63766da9",
   "metadata": {},
   "outputs": [],
   "source": [
    "folder = 'trainer'\n",
    "if tf.io.gfile.exists(folder):\n",
    "    tf.io.gfile.rmtree(folder)\n",
    "tf.io.gfile.mkdir(folder)\n",
    "file_path = os.path.join(folder, 'train.py')"
   ]
  },
  {
   "cell_type": "code",
   "execution_count": null,
   "id": "01c948f6",
   "metadata": {},
   "outputs": [],
   "source": [
    "%%writefile {file_path}\n",
    "\n",
    "\n",
    "# Copyright 2021 Google Inc. All Rights Reserved.\n",
    "#\n",
    "# Licensed under the Apache License, Version 2.0 (the \"License\");\n",
    "# you may not use this file except in compliance with the License.\n",
    "# You may obtain a copy of the License at\n",
    "#\n",
    "#            http://www.apache.org/licenses/LICENSE-2.0\n",
    "#\n",
    "# Unless required by applicable law or agreed to in writing, software\n",
    "# distributed under the License is distributed on an \"AS IS\" BASIS,\n",
    "# WITHOUT WARRANTIES OR CONDITIONS OF ANY KIND, either express or implied.\n",
    "# See the License for the specific language governing permissions and\n",
    "\n",
    "import os\n",
    "import numpy as np\n",
    "\n",
    "import tensorflow as tf\n",
    "import tensorflow_hub as hub\n",
    "import tensorflow_datasets as tfds\n",
    "import tensorflow_text as text  # A dependency of the preprocessing model\n",
    "import tensorflow_addons as tfa\n",
    "\n",
    "from absl import app\n",
    "from absl import flags\n",
    "from absl import logging\n",
    "\n",
    "from official.nlp import optimization\n",
    "\n",
    "TFHUB_HANDLE_ENCODER = 'https://tfhub.dev/tensorflow/bert_en_uncased_L-12_H-768_A-12/3'\n",
    "TFHUB_HANDLE_PREPROCESS = 'https://tfhub.dev/tensorflow/bert_en_uncased_preprocess/3'\n",
    "TFDS_NAME = 'glue/cola' \n",
    "NUM_CLASSES = 2\n",
    "SENTENCE_FEATURE = 'sentence'\n",
    "\n",
    "LOCAL_MODEL_DIR = '/tmp/saved_model'\n",
    "LOCAL_TB_DIR = '/tmp/logs'\n",
    "LOCAL_CHECKPOINT_DIR = '/tmp/checkpoints'\n",
    "\n",
    "FLAGS = flags.FLAGS\n",
    "flags.DEFINE_integer('epochs', 2, 'Nubmer of epochs')\n",
    "flags.DEFINE_integer('per_replica_batch_size', 16, 'Per replica batch size')\n",
    "flags.DEFINE_float('init_lr', 2e-5, 'Initial learning rate')\n",
    "flags.DEFINE_float('dropout_ratio', 0.1, 'Dropout ratio')\n",
    "\n",
    "\n",
    "def make_bert_preprocess_model(sentence_features, seq_length=128):\n",
    "    \"\"\"Returns a model mapping string features to BERT inputs.\"\"\"\n",
    "\n",
    "    input_segments = [\n",
    "        tf.keras.layers.Input(shape=(), dtype=tf.string, name=ft)\n",
    "        for ft in sentence_features]\n",
    "\n",
    "    # Tokenize the text to word pieces.\n",
    "    bert_preprocess = hub.load(TFHUB_HANDLE_PREPROCESS)\n",
    "    tokenizer = hub.KerasLayer(bert_preprocess.tokenize, name='tokenizer')\n",
    "    segments = [tokenizer(s) for s in input_segments]\n",
    "\n",
    "    # Pack inputs. The details (start/end token ids, dict of output tensors)\n",
    "    # are model-dependent, so this gets loaded from the SavedModel.\n",
    "    packer = hub.KerasLayer(bert_preprocess.bert_pack_inputs,\n",
    "                            arguments=dict(seq_length=seq_length),\n",
    "                            name='packer')\n",
    "    model_inputs = packer(segments)\n",
    "    return tf.keras.Model(input_segments, model_inputs)\n",
    "\n",
    "\n",
    "def build_classifier_model(num_classes, dropout_ratio):\n",
    "    \"\"\"Creates a text classification model based on BERT encoder.\"\"\"\n",
    "\n",
    "    inputs = dict(\n",
    "        input_word_ids=tf.keras.layers.Input(shape=(None,), dtype=tf.int32),\n",
    "        input_mask=tf.keras.layers.Input(shape=(None,), dtype=tf.int32),\n",
    "        input_type_ids=tf.keras.layers.Input(shape=(None,), dtype=tf.int32),\n",
    "    )\n",
    "\n",
    "    encoder = hub.KerasLayer(TFHUB_HANDLE_ENCODER, trainable=True, name='encoder')\n",
    "    net = encoder(inputs)['pooled_output']\n",
    "    net = tf.keras.layers.Dropout(rate=dropout_ratio)(net)\n",
    "    net = tf.keras.layers.Dense(num_classes, activation=None, name='classifier')(net)\n",
    "    return tf.keras.Model(inputs, net, name='prediction')\n",
    "\n",
    "\n",
    "def get_data_pipeline(in_memory_ds, info, split, \n",
    "                      batch_size,  bert_preprocess_model):\n",
    "    \"\"\"Creates a sentence preprocessing pipeline.\"\"\"\n",
    "    \n",
    "    is_training = split.startswith('train')\n",
    "    dataset = tf.data.Dataset.from_tensor_slices(in_memory_ds[split])\n",
    "    num_examples = info.splits[split].num_examples\n",
    "\n",
    "    if is_training:\n",
    "        dataset = dataset.shuffle(num_examples)\n",
    "        dataset = dataset.repeat()\n",
    "    dataset = dataset.batch(batch_size)\n",
    "    dataset = dataset.map(lambda ex: (bert_preprocess_model(ex), ex['label']))\n",
    "    dataset = dataset.cache().prefetch(buffer_size=tf.data.AUTOTUNE)\n",
    "    return dataset, num_examples\n",
    "\n",
    "\n",
    "def set_job_dirs():\n",
    "    \"\"\"Sets job directories based on env variables set by Vertex AI.\"\"\"\n",
    "    \n",
    "    model_dir = os.getenv('AIP_MODEL_DIR', LOCAL_MODEL_DIR)\n",
    "    tb_dir = os.getenv('AIP_TENSORBOARD_LOG_DIR', LOCAL_TB_DIR)\n",
    "    checkpoint_dir = os.getenv('AIP_CHECKPOINT_DIR', LOCAL_CHECKPOINT_DIR)\n",
    "    \n",
    "    return model_dir, tb_dir, checkpoint_dir\n",
    "    \n",
    "\n",
    "def main(argv):\n",
    "    \"\"\"Starts a training run.\"\"\"\n",
    "    \n",
    "    del argv\n",
    "    logging.info('Setting up training.')\n",
    "    logging.info('   epochs: {}'.format(FLAGS.epochs))\n",
    "    logging.info('   per_replica_batch_size: {}'.format(FLAGS.per_replica_batch_size))\n",
    "    logging.info('   init_lr: {}'.format(FLAGS.init_lr))\n",
    "    logging.info('   dropout_ratio: {}'.format(FLAGS.dropout_ratio))\n",
    "\n",
    "    # Set distribution strategy\n",
    "    strategy = tf.distribute.MirroredStrategy()\n",
    "    \n",
    "    global_batch_size = (strategy.num_replicas_in_sync *\n",
    "                         FLAGS.per_replica_batch_size)\n",
    "    \n",
    "    # Configure input data pipelines\n",
    "    tfds_info = tfds.builder(TFDS_NAME).info\n",
    "    num_classes = tfds_info.features['label'].num_classes\n",
    "    num_examples = tfds_info.splits.total_num_examples\n",
    "    available_splits = list(tfds_info.splits.keys())\n",
    "    labels_names = tfds_info.features['label'].names\n",
    "    \n",
    "    with tf.device('/job:localhost'):\n",
    "        in_memory_ds = tfds.load(TFDS_NAME, batch_size=-1, shuffle_files=True)\n",
    "        \n",
    "    bert_preprocess_model = make_bert_preprocess_model([SENTENCE_FEATURE])\n",
    "\n",
    "    train_dataset, train_data_size = get_data_pipeline(\n",
    "        in_memory_ds, tfds_info, 'train', global_batch_size, bert_preprocess_model)\n",
    "\n",
    "    validation_dataset, validation_data_size = get_data_pipeline(\n",
    "        in_memory_ds, tfds_info, 'validation', global_batch_size, bert_preprocess_model)\n",
    "    \n",
    "    # Configure the model\n",
    "    steps_per_epoch = train_data_size // global_batch_size\n",
    "    num_train_steps = steps_per_epoch * FLAGS.epochs\n",
    "    num_warmup_steps = num_train_steps // 10\n",
    "    validation_steps = validation_data_size // global_batch_size\n",
    "    \n",
    "    with strategy.scope():\n",
    "        classifier_model = build_classifier_model(NUM_CLASSES, FLAGS.dropout_ratio)\n",
    "        optimizer = optimization.create_optimizer(\n",
    "            init_lr=FLAGS.init_lr,\n",
    "            num_train_steps=num_train_steps,\n",
    "            num_warmup_steps=num_warmup_steps,\n",
    "            optimizer_type='adamw')\n",
    "        loss = tf.keras.losses.SparseCategoricalCrossentropy(from_logits=True)\n",
    "        metrics = tf.keras.metrics.SparseCategoricalAccuracy(\n",
    "            'accuracy', dtype=tf.float32)\n",
    "    \n",
    "    classifier_model.compile(optimizer=optimizer, loss=loss, metrics=[metrics])\n",
    "    \n",
    "    model_dir, tb_dir, checkpoint_dir = set_job_dirs()\n",
    "\n",
    "    # Configure Keras callbacks\n",
    "    callbacks = [tf.keras.callbacks.experimental.BackupAndRestore(backup_dir=checkpoint_dir)]\n",
    "    callbacks.append(tf.keras.callbacks.TensorBoard(\n",
    "            log_dir=tb_dir, update_freq='batch'))\n",
    "    \n",
    "    logging.info('Starting training ...')\n",
    "    classifier_model.fit(\n",
    "        x=train_dataset,\n",
    "        validation_data=validation_dataset,\n",
    "        steps_per_epoch=steps_per_epoch,\n",
    "        epochs=FLAGS.epochs,\n",
    "        validation_steps=validation_steps,\n",
    "        callbacks=callbacks)\n",
    "        \n",
    "    # Save trained model\n",
    "    logging.info('Training completed. Saving the trained model to: {}'.format(model_dir))\n",
    "    classifier_model.save(model_dir)  \n",
    "    \n",
    "if __name__ == '__main__':\n",
    "    logging.set_verbosity(logging.INFO)\n",
    "    app.run(main)"
   ]
  },
  {
   "cell_type": "markdown",
   "id": "0fff4387",
   "metadata": {},
   "source": [
    "### Configure and submit Vertex job"
   ]
  },
  {
   "cell_type": "code",
   "execution_count": null,
   "id": "5df9ae09",
   "metadata": {},
   "outputs": [],
   "source": [
    "job_name = job_name = \"JOB_{}\".format(time.strftime(\"%Y%m%d_%H%M%S\"))\n",
    "base_output_dir = f'{GCS_BUCKET}/jobs/{job_name}'\n",
    "requirements = ['tf-models-official==2.5.0', 'tensorflow-text==2.5.0']\n",
    "args = ['--epochs=3', '--per_replica_batch_size=16']\n",
    "machine_type = 'n1-standard-8',\n",
    "accelerator_type = 'nvidia-tesla-t4'\n",
    "accelerator_count = 2\n",
    "\n",
    "job = vertex_ai.CustomJob.from_local_script(\n",
    "    display_name=job_name,\n",
    "    script_path='trainer/train.py',\n",
    "    container_uri=BASE_IMAGE,\n",
    "    requirements=requirements,\n",
    "    args=args\n",
    ")\n",
    "\n",
    "job.run(sync=True)"
   ]
  },
  {
   "cell_type": "code",
   "execution_count": null,
   "id": "0af42af6",
   "metadata": {},
   "outputs": [],
   "source": [
    "job.resource_name"
   ]
  },
  {
   "cell_type": "code",
   "execution_count": null,
   "id": "106af664",
   "metadata": {},
   "outputs": [],
   "source": []
  }
 ],
 "metadata": {
  "environment": {
   "name": "tf2-gpu.2-4.m69",
   "type": "gcloud",
   "uri": "gcr.io/deeplearning-platform-release/tf2-gpu.2-4:m69"
  },
  "kernelspec": {
   "display_name": "Python [conda env:root] *",
   "language": "python",
   "name": "conda-root-py"
  },
  "language_info": {
   "codemirror_mode": {
    "name": "ipython",
    "version": 3
   },
   "file_extension": ".py",
   "mimetype": "text/x-python",
   "name": "python",
   "nbconvert_exporter": "python",
   "pygments_lexer": "ipython3",
   "version": "3.7.10"
  }
 },
 "nbformat": 4,
 "nbformat_minor": 5
}
