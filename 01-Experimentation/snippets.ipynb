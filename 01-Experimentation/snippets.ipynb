{
 "cells": [
  {
   "cell_type": "markdown",
   "id": "c2e409ac",
   "metadata": {},
   "source": [
    "## ML Metadata"
   ]
  },
  {
   "cell_type": "code",
   "execution_count": null,
   "id": "3b838b08",
   "metadata": {},
   "outputs": [],
   "source": [
    "from google.cloud.aiplatform.utils import MetadataClientWithOverride\n",
    "\n",
    "m_client = api_client = vertex_ai.initializer.global_config.create_client(\n",
    "        client_class=MetadataClientWithOverride, location_override=REGION\n",
    ")"
   ]
  },
  {
   "cell_type": "code",
   "execution_count": null,
   "id": "a04fcf27",
   "metadata": {},
   "outputs": [],
   "source": [
    "parent = f'projects/{PROJECT}/locations/{REGION}'"
   ]
  },
  {
   "cell_type": "code",
   "execution_count": null,
   "id": "dd458520",
   "metadata": {},
   "outputs": [],
   "source": [
    "m_client.list_metadata_stores(parent=parent)"
   ]
  },
  {
   "cell_type": "code",
   "execution_count": null,
   "id": "2cde7cb2",
   "metadata": {},
   "outputs": [],
   "source": [
    "name = 'projects/895222332033/locations/us-central1/metadataStores/default/contexts/7022167350233268224--7286425919675154353'"
   ]
  },
  {
   "cell_type": "code",
   "execution_count": null,
   "id": "e8cbb2bf",
   "metadata": {},
   "outputs": [],
   "source": [
    "context = m_client.get_context(name=name)"
   ]
  },
  {
   "cell_type": "code",
   "execution_count": null,
   "id": "9b19d617",
   "metadata": {},
   "outputs": [],
   "source": [
    "context.metadata['experiment_deleted']=True"
   ]
  },
  {
   "cell_type": "code",
   "execution_count": null,
   "id": "ed6fe8b0",
   "metadata": {},
   "outputs": [],
   "source": [
    "from google.protobuf import field_mask_pb2\n",
    "\n",
    "update_mask = field_mask_pb2.FieldMask(paths=['metadata'])\n",
    "\n",
    "update_mask"
   ]
  },
  {
   "cell_type": "code",
   "execution_count": null,
   "id": "d754130d",
   "metadata": {},
   "outputs": [],
   "source": [
    "m_client.update_context(context=context, update_mask=update_mask)"
   ]
  },
  {
   "cell_type": "code",
   "execution_count": null,
   "id": "339a9b71",
   "metadata": {},
   "outputs": [],
   "source": [
    "m_client.list_contexts(parent=metadata_name)"
   ]
  },
  {
   "cell_type": "markdown",
   "id": "18db5a49",
   "metadata": {},
   "source": [
    "## Tensorboard"
   ]
  },
  {
   "cell_type": "code",
   "execution_count": null,
   "id": "b367202a",
   "metadata": {},
   "outputs": [],
   "source": [
    "from google.cloud.aiplatform.utils import TensorboardClientWithOverride\n",
    "\n",
    "tb_client = api_client = vertex_ai.initializer.global_config.create_client(\n",
    "        client_class=TensorboardClientWithOverride, location_override=REGION\n",
    ")\n",
    "\n",
    "parent = f'projects/{PROJECT}/locations/{REGION}'"
   ]
  },
  {
   "cell_type": "code",
   "execution_count": null,
   "id": "23a414e1",
   "metadata": {},
   "outputs": [],
   "source": [
    "parent = f'projects/{PROJECT}/locations/{REGION}'\n",
    "tb_proto = types.Tensorboard()\n",
    "tb_proto.display_name = 'Workshop Tensorboard'\n",
    "tb_proto.description = 'Workshop Tensorboard'\n",
    "\n",
    "operation = tb_client.create_tensorboard(parent=parent, tensorboard=tb_proto)\n",
    "tensorboard = operation.result()"
   ]
  },
  {
   "cell_type": "code",
   "execution_count": null,
   "id": "6cbe2dd2",
   "metadata": {},
   "outputs": [],
   "source": [
    "tb_client.list_tensorboards(parent=parent)"
   ]
  },
  {
   "cell_type": "code",
   "execution_count": null,
   "id": "c5d9c007",
   "metadata": {},
   "outputs": [],
   "source": [
    "tb_experiment_proto = TensorboardExperiment(\n",
    "    display_name = 'Chicago Taxi Classifier',\n",
    "    description = 'Chicago Taxi Classifier'\n",
    ")\n",
    "\n",
    "tensorboard_experiment_id = 'chicago-taxi-classifier'\n",
    "\n",
    "tb_experiment = tb_client.create_tensorboard_experiment(parent=tb_name, \n",
    "                                                        tensorboard_experiment=tb_experiment_proto,\n",
    "                                                        tensorboard_experiment_id=tensorboard_experiment_id)"
   ]
  },
  {
   "cell_type": "code",
   "execution_count": null,
   "id": "1d1f6f6e",
   "metadata": {},
   "outputs": [],
   "source": [
    "tb_client.list_tensorboard_experiments(parent=tb_name)"
   ]
  },
  {
   "cell_type": "code",
   "execution_count": null,
   "id": "a5a6ecc6",
   "metadata": {},
   "outputs": [],
   "source": [
    "tb_run = TensorboardRun(\n",
    "    display_name = \"Run 1\",\n",
    "    description = \"Run 1\"\n",
    ")\n",
    "\n",
    "tb_run_id = 'run-1'\n",
    "\n",
    "tb_run = tb_client.create_tensorboard_run(parent=tb_experiment_name, tensorboard_run_id = tb_run_id)\n",
    "tb_run"
   ]
  },
  {
   "cell_type": "code",
   "execution_count": null,
   "id": "211eca66",
   "metadata": {},
   "outputs": [],
   "source": [
    "tb_client.list_tensorboard_runs(parent=tb_experiment_name)"
   ]
  },
  {
   "cell_type": "code",
   "execution_count": null,
   "id": "451a633d",
   "metadata": {},
   "outputs": [],
   "source": [
    "tb_experiment_name = \"projects/895222332033/locations/us-central1/tensorboards/4995547517916545024/experiments/chicago-taxi-classifier\""
   ]
  },
  {
   "cell_type": "code",
   "execution_count": null,
   "id": "440492f0",
   "metadata": {},
   "outputs": [],
   "source": []
  }
 ],
 "metadata": {
  "environment": {
   "name": "tf2-gpu.2-4.m69",
   "type": "gcloud",
   "uri": "gcr.io/deeplearning-platform-release/tf2-gpu.2-4:m69"
  },
  "kernelspec": {
   "display_name": "Python 3",
   "language": "python",
   "name": "python3"
  },
  "language_info": {
   "codemirror_mode": {
    "name": "ipython",
    "version": 3
   },
   "file_extension": ".py",
   "mimetype": "text/x-python",
   "name": "python",
   "nbconvert_exporter": "python",
   "pygments_lexer": "ipython3",
   "version": "3.7.10"
  }
 },
 "nbformat": 4,
 "nbformat_minor": 5
}
