{
 "cells": [
  {
   "cell_type": "markdown",
   "id": "bc48fa00",
   "metadata": {},
   "source": [
    "## ML Metadata"
   ]
  },
  {
   "cell_type": "code",
   "execution_count": null,
   "id": "73af103c",
   "metadata": {},
   "outputs": [],
   "source": [
    "from google.cloud.aiplatform.utils import MetadataClientWithOverride\n",
    "\n",
    "m_client = api_client = vertex_ai.initializer.global_config.create_client(\n",
    "        client_class=MetadataClientWithOverride, location_override=REGION\n",
    ")"
   ]
  },
  {
   "cell_type": "code",
   "execution_count": null,
   "id": "d250e5b0",
   "metadata": {},
   "outputs": [],
   "source": [
    "parent = f'projects/{PROJECT}/locations/{REGION}'"
   ]
  },
  {
   "cell_type": "code",
   "execution_count": null,
   "id": "83baa05c",
   "metadata": {},
   "outputs": [],
   "source": [
    "m_client.list_metadata_stores(parent=parent)"
   ]
  },
  {
   "cell_type": "code",
   "execution_count": null,
   "id": "d559f088",
   "metadata": {},
   "outputs": [],
   "source": [
    "name = 'projects/895222332033/locations/us-central1/metadataStores/default/contexts/7022167350233268224--7286425919675154353'"
   ]
  },
  {
   "cell_type": "code",
   "execution_count": null,
   "id": "6ce0309f",
   "metadata": {},
   "outputs": [],
   "source": [
    "context = m_client.get_context(name=name)"
   ]
  },
  {
   "cell_type": "code",
   "execution_count": null,
   "id": "e03c7250",
   "metadata": {},
   "outputs": [],
   "source": [
    "context.metadata['experiment_deleted']=True"
   ]
  },
  {
   "cell_type": "code",
   "execution_count": null,
   "id": "f1631481",
   "metadata": {},
   "outputs": [],
   "source": [
    "from google.protobuf import field_mask_pb2\n",
    "\n",
    "update_mask = field_mask_pb2.FieldMask(paths=['metadata'])\n",
    "\n",
    "update_mask"
   ]
  },
  {
   "cell_type": "code",
   "execution_count": null,
   "id": "352fa3d1",
   "metadata": {},
   "outputs": [],
   "source": [
    "m_client.update_context(context=context, update_mask=update_mask)"
   ]
  },
  {
   "cell_type": "code",
   "execution_count": null,
   "id": "7045df6b",
   "metadata": {},
   "outputs": [],
   "source": [
    "m_client.list_contexts(parent=metadata_name)"
   ]
  }
 ],
 "metadata": {
  "environment": {
   "name": "tf2-gpu.2-4.m69",
   "type": "gcloud",
   "uri": "gcr.io/deeplearning-platform-release/tf2-gpu.2-4:m69"
  },
  "kernelspec": {
   "display_name": "Python 3",
   "language": "python",
   "name": "python3"
  },
  "language_info": {
   "codemirror_mode": {
    "name": "ipython",
    "version": 3
   },
   "file_extension": ".py",
   "mimetype": "text/x-python",
   "name": "python",
   "nbconvert_exporter": "python",
   "pygments_lexer": "ipython3",
   "version": "3.7.10"
  }
 },
 "nbformat": 4,
 "nbformat_minor": 5
}
