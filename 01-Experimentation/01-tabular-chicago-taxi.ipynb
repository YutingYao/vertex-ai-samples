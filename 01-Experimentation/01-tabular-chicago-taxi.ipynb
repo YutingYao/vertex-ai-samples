{
 "cells": [
  {
   "cell_type": "markdown",
   "id": "09f9b79c",
   "metadata": {},
   "source": [
    "# 01 - Experimentation\n",
    "\n",
    "## Overview\n",
    "\n",
    "### Scenario\n",
    "\n",
    "The [Chicago Taxi Trips](https://pantheon.corp.google.com/marketplace/details/city-of-chicago-public-data/chicago-taxi-trips) dataset is one ofof [public datasets hosted with BigQuery](https://cloud.google.com/bigquery/public-data/), which includes taxi trips from 2013 to the present, reported to the City of Chicago in its role as a regulatory agency. The `taxi_trips` table size is 70.72 GB and includes more than 195 million records. The dataset includes information about the trips, like pickup and dropoff datetime and location, passengers count, miles travelled, and trip toll. \n",
    "\n",
    "The ML task is to predict whether a given trip will result in a tip > 20%.\n",
    "\n",
    "### Lab flow \n",
    "\n",
    "\n",
    "1. Perform Exploratory Data Analysis and Visualization.\n",
    "2. Prepare the data for the ML task in BigQuery.\n",
    "3. Produce and fix the raw data schema.\n",
    "4. Create a managed dataset.\n"
   ]
  },
  {
   "cell_type": "code",
   "execution_count": 1,
   "id": "2bc6ebea",
   "metadata": {},
   "outputs": [],
   "source": [
    "%load_ext autoreload\n",
    "%autoreload 2?"
   ]
  },
  {
   "cell_type": "code",
   "execution_count": 2,
   "id": "8b06fa42",
   "metadata": {},
   "outputs": [],
   "source": [
    "import os\n",
    "import pandas as pd\n",
    "import tensorflow as tf\n",
    "import tensorflow_data_validation as tfdv\n",
    "import matplotlib.pyplot as plt\n",
    "\n",
    "from google.cloud import aiplatform as vertex_ai\n",
    "from google.cloud.aiplatform_v1beta1.types import Tensorboard, TensorboardExperiment, TensorboardRun, TensorboardTimeSeries\n",
    "\n",
    "from google.cloud.aiplatform_v1beta1 import services\n",
    "from google.cloud.aiplatform_v1beta1 import types\n",
    "\n",
    "\n",
    "\n",
    "from google.cloud import bigquery\n",
    "from google.cloud import exceptions"
   ]
  },
  {
   "cell_type": "markdown",
   "id": "ff17b8cf",
   "metadata": {},
   "source": [
    "## Configure workspace"
   ]
  },
  {
   "cell_type": "markdown",
   "id": "46f64503",
   "metadata": {},
   "source": [
    "### Configure workspace settings"
   ]
  },
  {
   "cell_type": "code",
   "execution_count": 3,
   "id": "97324a72",
   "metadata": {},
   "outputs": [],
   "source": [
    "# GCP Project and Region\n",
    "PROJECT = 'jk-mlops-dev' # Change to your project Id.\n",
    "REGION = 'us-central1' # Change to your region \n",
    "GCS_BUCKET = 'gs://jk-vertex-workshop-bucket' # Change to your bucket\n",
    "\n",
    "# BigQuery development dataset\n",
    "BQ_LOCATION = 'US' # Change to your location\n",
    "BQ_DATASET_NAME = 'experimentation_dataset' # Change to your BQ datasent name.\n",
    "\n",
    "# Vertex experiment name\n",
    "EXPERIMENT_NAME = 'chicago-taxi-tips-classification' "
   ]
  },
  {
   "cell_type": "markdown",
   "id": "3dd6f1f5",
   "metadata": {},
   "source": [
    "### Create BigQuery development dataset"
   ]
  },
  {
   "cell_type": "code",
   "execution_count": 4,
   "id": "7c90e90b",
   "metadata": {},
   "outputs": [
    {
     "name": "stdout",
     "output_type": "stream",
     "text": [
      "Dataset already exists\n"
     ]
    }
   ],
   "source": [
    "client = bigquery.Client(project=PROJECT)\n",
    "\n",
    "dataset = None\n",
    "try: \n",
    "    dataset_id = '{}.{}'.format(client.project, BQ_DATASET_NAME)\n",
    "    dataset = bigquery.Dataset(dataset_id)\n",
    "    dataset.location = BQ_LOCATION\n",
    "    dataset = client.create_dataset(dataset, timeout=30)\n",
    "except exceptions.Conflict:\n",
    "    print('Dataset already exists')"
   ]
  },
  {
   "cell_type": "markdown",
   "id": "3485488b",
   "metadata": {},
   "source": [
    "### Initialize Vertex Experiment"
   ]
  },
  {
   "cell_type": "code",
   "execution_count": 5,
   "id": "d6845510",
   "metadata": {},
   "outputs": [],
   "source": [
    "vertex_ai.init(\n",
    "    project=PROJECT,\n",
    "    location=REGION,\n",
    "    staging_bucket=GCS_BUCKET,\n",
    "    experiment=EXPERIMENT_NAME,\n",
    ")"
   ]
  },
  {
   "cell_type": "markdown",
   "id": "e5c5291b",
   "metadata": {},
   "source": [
    "### Create Vertex TensorBoard Instance"
   ]
  },
  {
   "cell_type": "code",
   "execution_count": 7,
   "id": "063c4b6a",
   "metadata": {},
   "outputs": [],
   "source": [
    "from google.cloud.aiplatform.utils import TensorboardClientWithOverride\n",
    "\n",
    "tb_client = api_client = vertex_ai.initializer.global_config.create_client(\n",
    "        client_class=TensorboardClientWithOverride, location_override=REGION\n",
    ")\n",
    "\n",
    "parent = f'projects/{PROJECT}/locations/{REGION}'"
   ]
  },
  {
   "cell_type": "code",
   "execution_count": null,
   "id": "6556ea84",
   "metadata": {},
   "outputs": [],
   "source": [
    "parent = f'projects/{PROJECT}/locations/{REGION}'\n",
    "tb_proto = types.Tensorboard()\n",
    "tb_proto.display_name = 'Chicago Taxi Classifier'\n",
    "tb_proto.description = 'Tensorboard to track development of Chicago Taxi Classifier'\n",
    "\n",
    "operation = tb_client.create_tensorboard(parent=parent, tensorboard=tb_proto)\n",
    "tensorboard = operation.result()"
   ]
  },
  {
   "cell_type": "code",
   "execution_count": null,
   "id": "e711e0b4",
   "metadata": {},
   "outputs": [],
   "source": [
    "tensorboard.name"
   ]
  },
  {
   "cell_type": "code",
   "execution_count": null,
   "id": "5d39f739",
   "metadata": {},
   "outputs": [],
   "source": [
    "parent = f'projects/{PROJECT}/locations/{REGION}'\n",
    "\n",
    "tb_client.list_tensorboards(parent=parent)"
   ]
  },
  {
   "cell_type": "code",
   "execution_count": null,
   "id": "86edfd48",
   "metadata": {},
   "outputs": [],
   "source": [
    "tb_client.get_tensorboard(name=tensorboard.name)"
   ]
  },
  {
   "cell_type": "code",
   "execution_count": null,
   "id": "83938cb0",
   "metadata": {},
   "outputs": [],
   "source": []
  },
  {
   "cell_type": "code",
   "execution_count": null,
   "id": "629a720a",
   "metadata": {},
   "outputs": [],
   "source": [
    "tb_experiment_proto = TensorboardExperiment(\n",
    "    display_name = 'Test experiment',\n",
    "    description = 'Test experiment'\n",
    ")\n",
    "\n",
    "tb_experiment = tb_client.create_tensorboard_experiment(parent=tensorboard.name, tensorboard_experiment=tb_experiment_proto)"
   ]
  },
  {
   "cell_type": "code",
   "execution_count": null,
   "id": "155f4aa9",
   "metadata": {},
   "outputs": [],
   "source": [
    "tb_experiment.name"
   ]
  },
  {
   "cell_type": "code",
   "execution_count": null,
   "id": "fe50ba16",
   "metadata": {},
   "outputs": [],
   "source": [
    "parent"
   ]
  },
  {
   "cell_type": "code",
   "execution_count": null,
   "id": "c9b42beb",
   "metadata": {},
   "outputs": [],
   "source": [
    "tb_client.list_tensorboard_experiments(parent='projects/895222332033/locations/us-central1/tensorboards/8650218615527702528')"
   ]
  },
  {
   "cell_type": "code",
   "execution_count": null,
   "id": "6388c4e2",
   "metadata": {},
   "outputs": [],
   "source": [
    "tb_run = TensorboardRun(\n",
    "    display_name = \"Run 1\",\n",
    "    description = \"Run 1\"\n",
    ")"
   ]
  },
  {
   "cell_type": "code",
   "execution_count": null,
   "id": "d680d557",
   "metadata": {},
   "outputs": [],
   "source": [
    "parent = \"projects/895222332033/locations/us-central1/tensorboards/7022167350233268224/experiments/\"\n",
    "\n",
    "tb_run = tb_client.create_tensorboard_run(parent=parent, tensorboard_run_id = \"tb-run-1\")"
   ]
  },
  {
   "cell_type": "code",
   "execution_count": null,
   "id": "d8153dac",
   "metadata": {},
   "outputs": [],
   "source": []
  },
  {
   "cell_type": "code",
   "execution_count": null,
   "id": "e02c8ad3",
   "metadata": {},
   "outputs": [],
   "source": [
    "tb_client.delete_tensorboard_experiment(name='projects/895222332033/locations/us-central1/tensorboards/7022167350233268224/experiments/ ')"
   ]
  },
  {
   "cell_type": "code",
   "execution_count": null,
   "id": "4110d109",
   "metadata": {},
   "outputs": [],
   "source": [
    "tb_client.delete_tensorboard(name=tensorboard.name)"
   ]
  },
  {
   "cell_type": "code",
   "execution_count": null,
   "id": "52df002a",
   "metadata": {},
   "outputs": [],
   "source": []
  },
  {
   "cell_type": "code",
   "execution_count": null,
   "id": "662a58ac",
   "metadata": {},
   "outputs": [],
   "source": [
    "dir(vertex_ai.metadata.metadata_service)"
   ]
  },
  {
   "cell_type": "code",
   "execution_count": null,
   "id": "b815730b",
   "metadata": {},
   "outputs": [],
   "source": []
  },
  {
   "cell_type": "code",
   "execution_count": null,
   "id": "b50d4d02",
   "metadata": {},
   "outputs": [],
   "source": [
    "vertex_ai.metadata.metadata_service.experiment_name"
   ]
  },
  {
   "cell_type": "code",
   "execution_count": null,
   "id": "981f19f3",
   "metadata": {},
   "outputs": [],
   "source": []
  },
  {
   "cell_type": "code",
   "execution_count": null,
   "id": "4d893d43",
   "metadata": {},
   "outputs": [],
   "source": [
    "from google.cloud.aiplatform.metadata import constants\n",
    "from google.cloud.aiplatform.metadata.artifact import _Artifact\n",
    "from google.cloud.aiplatform.metadata.context import _Context\n",
    "from google.cloud.aiplatform.metadata.execution import _Execution\n",
    "from google.cloud.aiplatform.metadata.metadata_store import _MetadataStore"
   ]
  },
  {
   "cell_type": "code",
   "execution_count": 8,
   "id": "f693aee0",
   "metadata": {},
   "outputs": [
    {
     "data": {
      "text/plain": [
       "'us-central1'"
      ]
     },
     "execution_count": 8,
     "metadata": {},
     "output_type": "execute_result"
    }
   ],
   "source": [
    "REGION"
   ]
  },
  {
   "cell_type": "code",
   "execution_count": 11,
   "id": "329a0aec",
   "metadata": {},
   "outputs": [],
   "source": [
    "from google.cloud.aiplatform.utils import MetadataClientWithOverride\n",
    "\n",
    "m_client = api_client = vertex_ai.initializer.global_config.create_client(\n",
    "        client_class=MetadataClientWithOverride, location_override=REGION\n",
    ")"
   ]
  },
  {
   "cell_type": "code",
   "execution_count": 12,
   "id": "ce4a4ecf",
   "metadata": {},
   "outputs": [
    {
     "data": {
      "text/plain": [
       "'projects/jk-mlops-dev/locations/us-central1'"
      ]
     },
     "execution_count": 12,
     "metadata": {},
     "output_type": "execute_result"
    }
   ],
   "source": [
    "parent"
   ]
  },
  {
   "cell_type": "code",
   "execution_count": 13,
   "id": "2c3c961a",
   "metadata": {},
   "outputs": [
    {
     "data": {
      "text/plain": [
       "ListMetadataStoresPager<metadata_stores {\n",
       "  name: \"projects/895222332033/locations/us-central1/metadataStores/default\"\n",
       "  create_time {\n",
       "    seconds: 1605649253\n",
       "    nanos: 234724000\n",
       "  }\n",
       "  update_time {\n",
       "    seconds: 1619136182\n",
       "    nanos: 294845000\n",
       "  }\n",
       "}\n",
       ">"
      ]
     },
     "execution_count": 13,
     "metadata": {},
     "output_type": "execute_result"
    }
   ],
   "source": [
    "m_client.list_metadata_stores(parent=parent)"
   ]
  },
  {
   "cell_type": "code",
   "execution_count": null,
   "id": "9bf9998b",
   "metadata": {},
   "outputs": [],
   "source": [
    "m_client.get_metadata_store(name='projects/895222332033/locations/us-central1/metadataSotres/default')"
   ]
  },
  {
   "cell_type": "markdown",
   "id": "b58c6f52",
   "metadata": {},
   "source": [
    "## 1. Explore Chicago Taxi Dataset"
   ]
  },
  {
   "cell_type": "code",
   "execution_count": null,
   "id": "1138ee4c",
   "metadata": {},
   "outputs": [],
   "source": [
    "%%bigquery\n",
    "\n",
    "SELECT *\n",
    "FROM `bigquery-public-data.chicago_taxi_trips.taxi_trips`\n",
    "LIMIT 10"
   ]
  },
  {
   "cell_type": "code",
   "execution_count": null,
   "id": "dcfe6de0",
   "metadata": {},
   "outputs": [],
   "source": [
    "%%bigquery data\n",
    "\n",
    "SELECT \n",
    "    CAST(EXTRACT(DAYOFWEEK FROM trip_start_timestamp) AS string) AS trip_dayofweek, \n",
    "    FORMAT_DATE('%A',cast(trip_start_timestamp as date)) AS trip_dayname,\n",
    "    COUNT(*) as trip_count,\n",
    "FROM `bigquery-public-data.chicago_taxi_trips.taxi_trips`\n",
    "WHERE\n",
    "    EXTRACT(YEAR FROM trip_start_timestamp) = 2015 \n",
    "GROUP BY\n",
    "    trip_dayofweek,\n",
    "    trip_dayname\n",
    "ORDER BY\n",
    "    trip_dayofweek\n",
    ";"
   ]
  },
  {
   "cell_type": "code",
   "execution_count": null,
   "id": "c622fe1a",
   "metadata": {},
   "outputs": [],
   "source": [
    "data.plot(kind='bar', x='trip_dayname', y='trip_count')"
   ]
  },
  {
   "cell_type": "markdown",
   "id": "41db7b5d",
   "metadata": {},
   "source": [
    "## Prepare development datasets\n",
    "\n",
    "We add `data_split` column, where 80% of the records is set to `UNASSIGNED` while the other 20% is set to `TEST`.\n",
    "This column will the custom model (or an AutoML Tables model) to split the data for learning and testing.\n",
    "In the learning phase, each model will split the `UNASSIGNED` records to `train` and `eval`. The `TEST` split is will be used for the final model validation."
   ]
  },
  {
   "cell_type": "code",
   "execution_count": null,
   "id": "1a558d97",
   "metadata": {},
   "outputs": [],
   "source": [
    "sample_size = 1000000\n",
    "year = 2020"
   ]
  },
  {
   "cell_type": "code",
   "execution_count": null,
   "id": "54ff85ce",
   "metadata": {},
   "outputs": [],
   "source": [
    "sql_script = '''\n",
    "CREATE OR REPLACE TABLE `@PROJECT.@DATASET.@TABLE` \n",
    "AS (\n",
    "    WITH\n",
    "      taxitrips AS (\n",
    "      SELECT\n",
    "        trip_start_timestamp,\n",
    "        trip_seconds,\n",
    "        trip_miles,\n",
    "        payment_type,\n",
    "        pickup_longitude,\n",
    "        pickup_latitude,\n",
    "        dropoff_longitude,\n",
    "        dropoff_latitude,\n",
    "        tips,\n",
    "        fare,\n",
    "        FORMAT_TIMESTAMP(\"%m-%d-%Y\", trip_start_timestamp) as trip_date\n",
    "      FROM\n",
    "        `bigquery-public-data.chicago_taxi_trips.taxi_trips`\n",
    "      WHERE 1=1 \n",
    "      AND pickup_longitude IS NOT NULL\n",
    "      AND pickup_latitude IS NOT NULL\n",
    "      AND dropoff_longitude IS NOT NULL\n",
    "      AND dropoff_latitude IS NOT NULL\n",
    "      AND trip_miles > 0\n",
    "      AND trip_seconds > 0\n",
    "      AND fare > 0\n",
    "      AND EXTRACT(YEAR FROM trip_start_timestamp) = @YEAR\n",
    "    )\n",
    "\n",
    "    SELECT\n",
    "      trip_start_timestamp,   \n",
    "      EXTRACT(MONTH from trip_start_timestamp) as trip_month,\n",
    "      EXTRACT(DAY from trip_start_timestamp) as trip_day,\n",
    "      EXTRACT(DAYOFWEEK from trip_start_timestamp) as trip_day_of_week,\n",
    "      EXTRACT(HOUR from trip_start_timestamp) as trip_hour,\n",
    "      trip_seconds,\n",
    "      trip_miles,\n",
    "      payment_type,\n",
    "      ST_AsText(\n",
    "          ST_SnapToGrid(ST_GeogPoint(pickup_longitude, pickup_latitude), 0.1)\n",
    "      ) AS pickup_grid,\n",
    "      ST_AsText(\n",
    "          ST_SnapToGrid(ST_GeogPoint(dropoff_longitude, dropoff_latitude), 0.1)\n",
    "      ) AS dropoff_grid,\n",
    "      ST_Distance(\n",
    "          ST_GeogPoint(pickup_longitude, pickup_latitude), \n",
    "          ST_GeogPoint(dropoff_longitude, dropoff_latitude)\n",
    "      ) AS euclidean,\n",
    "      CONCAT(\n",
    "          ST_AsText(ST_SnapToGrid(ST_GeogPoint(pickup_longitude,\n",
    "              pickup_latitude), 0.1)), \n",
    "          ST_AsText(ST_SnapToGrid(ST_GeogPoint(dropoff_longitude,\n",
    "              dropoff_latitude), 0.1))\n",
    "      ) AS loc_cross,\n",
    "      IF((tips/fare >= 0.2), 1, 0) AS tip_bin,\n",
    "      IF(ABS(MOD(FARM_FINGERPRINT(trip_date), 10)) < 8, 'UNASSIGNED', 'TEST') AS data_split\n",
    "    FROM\n",
    "      taxitrips\n",
    "    LIMIT @LIMIT\n",
    ")\n",
    "'''"
   ]
  },
  {
   "cell_type": "code",
   "execution_count": null,
   "id": "e741b189",
   "metadata": {},
   "outputs": [],
   "source": [
    "sql_script = sql_script.replace(\n",
    "    '@PROJECT', PROJECT).replace(\n",
    "    '@DATASET', BQ_DATASET_NAME).replace(\n",
    "    '@TABLE', BQ_TABLE_NAME).replace(\n",
    "    '@YEAR', str(year)).replace(\n",
    "    '@LIMIT', str(sample_size))\n",
    "\n",
    "job = client.query(sql_script)\n",
    "job.result()"
   ]
  },
  {
   "cell_type": "markdown",
   "id": "021013ec",
   "metadata": {},
   "source": [
    "### Analyze the development dataset with Pandas"
   ]
  },
  {
   "cell_type": "code",
   "execution_count": null,
   "id": "d8b9f335",
   "metadata": {},
   "outputs": [],
   "source": [
    "sql_script = f'''\n",
    "SELECT * EXCEPT (trip_start_timestamp, data_split)\n",
    "FROM {PROJECT}.{BQ_DATASET_NAME}.{BQ_TABLE_NAME}\n",
    "'''\n",
    "\n",
    "sample_data = client.query(sql_script).to_dataframe()"
   ]
  },
  {
   "cell_type": "code",
   "execution_count": null,
   "id": "b6ece4bf",
   "metadata": {},
   "outputs": [],
   "source": [
    "sample_data.head().T"
   ]
  },
  {
   "cell_type": "code",
   "execution_count": null,
   "id": "8eb697b8",
   "metadata": {},
   "outputs": [],
   "source": [
    "sample_data.tip_bin.value_counts()"
   ]
  },
  {
   "cell_type": "code",
   "execution_count": null,
   "id": "05230548",
   "metadata": {},
   "outputs": [],
   "source": [
    "sample_data.euclidean.hist()"
   ]
  },
  {
   "cell_type": "markdown",
   "id": "3d1f219e",
   "metadata": {},
   "source": [
    "### Analyze the development dataset with TFDV"
   ]
  },
  {
   "cell_type": "code",
   "execution_count": null,
   "id": "f11050df",
   "metadata": {},
   "outputs": [],
   "source": [
    "stats = tfdv.generate_statistics_from_dataframe(\n",
    "    dataframe=sample_data,\n",
    "    stats_options=tfdv.StatsOptions(\n",
    "        label_feature='tip_bin',\n",
    "        weight_feature=None,\n",
    "        sample_rate=1,\n",
    "        num_top_values=50\n",
    "    )\n",
    ")\n",
    "\n",
    "tfdv.visualize_statistics(stats)"
   ]
  },
  {
   "cell_type": "markdown",
   "id": "ecee1657",
   "metadata": {},
   "source": [
    "### Save statistics"
   ]
  },
  {
   "cell_type": "code",
   "execution_count": null,
   "id": "cb394196",
   "metadata": {},
   "outputs": [],
   "source": [
    "stats_location = os.path.join(GCS_BUCKET, 'datasets', 'chicago_taxi', 'statistics', 'stats.pbtxt')\n",
    "\n",
    "tfdv.write_stats_text(stats, stats_location)"
   ]
  },
  {
   "cell_type": "markdown",
   "id": "b493c86f",
   "metadata": {},
   "source": [
    "### Auto-generate Data Schema \n"
   ]
  },
  {
   "cell_type": "code",
   "execution_count": null,
   "id": "2ea615f8",
   "metadata": {},
   "outputs": [],
   "source": [
    "schema = tfdv.infer_schema(statistics=stats)\n",
    "tfdv.display_schema(schema=schema)"
   ]
  },
  {
   "cell_type": "code",
   "execution_count": null,
   "id": "6eba1974",
   "metadata": {},
   "outputs": [],
   "source": [
    "autogenerated_schema_location = os.path.join(GCS_BUCKET, 'datasets', 'chicago_taxi', 'autogenerated_schema', 'schema.pbtxt')\n",
    "\n",
    "tfdv.write_schema_text(schema, autogenerated_schema_location)"
   ]
  },
  {
   "cell_type": "code",
   "execution_count": null,
   "id": "eb360df7",
   "metadata": {},
   "outputs": [],
   "source": []
  },
  {
   "cell_type": "code",
   "execution_count": null,
   "id": "5c68c23a",
   "metadata": {},
   "outputs": [],
   "source": []
  }
 ],
 "metadata": {
  "environment": {
   "name": "tf2-gpu.2-4.m69",
   "type": "gcloud",
   "uri": "gcr.io/deeplearning-platform-release/tf2-gpu.2-4:m69"
  },
  "kernelspec": {
   "display_name": "Python 3",
   "language": "python",
   "name": "python3"
  },
  "language_info": {
   "codemirror_mode": {
    "name": "ipython",
    "version": 3
   },
   "file_extension": ".py",
   "mimetype": "text/x-python",
   "name": "python",
   "nbconvert_exporter": "python",
   "pygments_lexer": "ipython3",
   "version": "3.7.10"
  }
 },
 "nbformat": 4,
 "nbformat_minor": 5
}
