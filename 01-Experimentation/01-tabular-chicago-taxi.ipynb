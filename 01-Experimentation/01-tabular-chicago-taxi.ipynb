{
 "cells": [
  {
   "cell_type": "markdown",
   "id": "c3096a74",
   "metadata": {},
   "source": [
    "# 01 - Experimentation\n",
    "\n",
    "## Overview\n",
    "\n",
    "### Scenario\n",
    "\n",
    "The [Chicago Taxi Trips](https://pantheon.corp.google.com/marketplace/details/city-of-chicago-public-data/chicago-taxi-trips) dataset is one ofof [public datasets hosted with BigQuery](https://cloud.google.com/bigquery/public-data/), which includes taxi trips from 2013 to the present, reported to the City of Chicago in its role as a regulatory agency. The `taxi_trips` table size is 70.72 GB and includes more than 195 million records. The dataset includes information about the trips, like pickup and dropoff datetime and location, passengers count, miles travelled, and trip toll. \n",
    "\n",
    "The ML task is to predict whether a given trip will result in a tip > 20%.\n",
    "\n",
    "### Lab flow \n",
    "\n",
    "\n",
    "1. Perform Exploratory Data Analysis and Visualization.\n",
    "2. Prepare the data for the ML task in BigQuery.\n",
    "3. Produce and fix the raw data schema.\n",
    "4. Create a managed dataset.\n"
   ]
  },
  {
   "cell_type": "markdown",
   "id": "1522680c",
   "metadata": {},
   "source": [
    "## Setup"
   ]
  },
  {
   "cell_type": "code",
   "execution_count": 1,
   "id": "e0b1b058",
   "metadata": {},
   "outputs": [],
   "source": [
    "%load_ext autoreload\n",
    "%autoreload 2?"
   ]
  },
  {
   "cell_type": "code",
   "execution_count": 2,
   "id": "dd685cab",
   "metadata": {},
   "outputs": [],
   "source": [
    "import os\n",
    "import pandas as pd\n",
    "import tensorflow as tf\n",
    "import tensorflow_data_validation as tfdv\n",
    "import matplotlib.pyplot as plt\n",
    "\n",
    "from google.cloud import bigquery\n",
    "from google.cloud import aiplatform \n",
    "from google.cloud import exceptions"
   ]
  },
  {
   "cell_type": "markdown",
   "id": "f75176ea",
   "metadata": {},
   "source": [
    "### Configure project, region, and GCS bucket"
   ]
  },
  {
   "cell_type": "code",
   "execution_count": 5,
   "id": "9da5e2b4",
   "metadata": {},
   "outputs": [],
   "source": [
    "PROJECT = 'jk-mlops-dev' # Change to your project Id.\n",
    "REGION = 'us-central1'\n",
    "GCS_BUCKET = 'gs://jk-vertex-workshop-bucket'"
   ]
  },
  {
   "cell_type": "markdown",
   "id": "6c465595",
   "metadata": {},
   "source": [
    "### Configure a BigQuery staging dataset"
   ]
  },
  {
   "cell_type": "code",
   "execution_count": 6,
   "id": "c30ebf31",
   "metadata": {},
   "outputs": [],
   "source": [
    "BQ_LOCATION = 'US' # Change to your location\n",
    "BQ_DATASET_NAME = 'experimentation_dataset' # Change to your BQ datasent name.\n",
    "BQ_TABLE_NAME = 'chicago_taxitrips_prep'\n",
    "\n",
    "DATASET_DISPLAY_NAME = 'chicago_taxi_tips_v2'\n",
    "BQ_URI = f\"bq://{PROJECT}.{BQ_DATASET_NAME}.{BQ_TABLE_NAME}\""
   ]
  },
  {
   "cell_type": "code",
   "execution_count": 7,
   "id": "074849c7",
   "metadata": {},
   "outputs": [
    {
     "name": "stdout",
     "output_type": "stream",
     "text": [
      "Dataset already exists\n"
     ]
    }
   ],
   "source": [
    "client = bigquery.Client(project=PROJECT)\n",
    "\n",
    "dataset = None\n",
    "try: \n",
    "    dataset_id = '{}.{}'.format(client.project, BQ_DATASET_NAME)\n",
    "    dataset = bigquery.Dataset(dataset_id)\n",
    "    dataset.location = BQ_LOCATION\n",
    "    dataset = client.create_dataset(dataset, timeout=30)\n",
    "except exceptions.Conflict:\n",
    "    print('Dataset already exists')"
   ]
  },
  {
   "cell_type": "markdown",
   "id": "03300868",
   "metadata": {},
   "source": [
    "## 1. Explore Chicago Taxi Dataset"
   ]
  },
  {
   "cell_type": "code",
   "execution_count": 9,
   "id": "99b523f8",
   "metadata": {},
   "outputs": [
    {
     "name": "stderr",
     "output_type": "stream",
     "text": [
      "Query complete after 0.00s: 100%|██████████| 1/1 [00:00<00:00, 1113.73query/s]\n",
      "Downloading: 100%|██████████| 10/10 [00:01<00:00,  6.24rows/s]\n"
     ]
    },
    {
     "data": {
      "text/html": [
       "<div>\n",
       "<style scoped>\n",
       "    .dataframe tbody tr th:only-of-type {\n",
       "        vertical-align: middle;\n",
       "    }\n",
       "\n",
       "    .dataframe tbody tr th {\n",
       "        vertical-align: top;\n",
       "    }\n",
       "\n",
       "    .dataframe thead th {\n",
       "        text-align: right;\n",
       "    }\n",
       "</style>\n",
       "<table border=\"1\" class=\"dataframe\">\n",
       "  <thead>\n",
       "    <tr style=\"text-align: right;\">\n",
       "      <th></th>\n",
       "      <th>unique_key</th>\n",
       "      <th>taxi_id</th>\n",
       "      <th>trip_start_timestamp</th>\n",
       "      <th>trip_end_timestamp</th>\n",
       "      <th>trip_seconds</th>\n",
       "      <th>trip_miles</th>\n",
       "      <th>pickup_census_tract</th>\n",
       "      <th>dropoff_census_tract</th>\n",
       "      <th>pickup_community_area</th>\n",
       "      <th>dropoff_community_area</th>\n",
       "      <th>...</th>\n",
       "      <th>extras</th>\n",
       "      <th>trip_total</th>\n",
       "      <th>payment_type</th>\n",
       "      <th>company</th>\n",
       "      <th>pickup_latitude</th>\n",
       "      <th>pickup_longitude</th>\n",
       "      <th>pickup_location</th>\n",
       "      <th>dropoff_latitude</th>\n",
       "      <th>dropoff_longitude</th>\n",
       "      <th>dropoff_location</th>\n",
       "    </tr>\n",
       "  </thead>\n",
       "  <tbody>\n",
       "    <tr>\n",
       "      <th>0</th>\n",
       "      <td>c0550371b8a815ecc4d70528c29385f4e5a7065d</td>\n",
       "      <td>45f37403538a1c4651bcaa58ab3c436b98f0bf7fbe060b...</td>\n",
       "      <td>2018-09-01 19:15:00+00:00</td>\n",
       "      <td>2018-09-01 19:30:00+00:00</td>\n",
       "      <td>660</td>\n",
       "      <td>1.00</td>\n",
       "      <td>NaN</td>\n",
       "      <td>NaN</td>\n",
       "      <td>NaN</td>\n",
       "      <td>NaN</td>\n",
       "      <td>...</td>\n",
       "      <td>0.0</td>\n",
       "      <td>7.50</td>\n",
       "      <td>Cash</td>\n",
       "      <td>Medallion Leasin</td>\n",
       "      <td>NaN</td>\n",
       "      <td>NaN</td>\n",
       "      <td>None</td>\n",
       "      <td>NaN</td>\n",
       "      <td>NaN</td>\n",
       "      <td>None</td>\n",
       "    </tr>\n",
       "    <tr>\n",
       "      <th>1</th>\n",
       "      <td>92f76eb6cfd20b862fefcdafffb4f98b13fb8be0</td>\n",
       "      <td>45f37403538a1c4651bcaa58ab3c436b98f0bf7fbe060b...</td>\n",
       "      <td>2018-09-01 19:30:00+00:00</td>\n",
       "      <td>2018-09-01 19:30:00+00:00</td>\n",
       "      <td>240</td>\n",
       "      <td>0.40</td>\n",
       "      <td>NaN</td>\n",
       "      <td>NaN</td>\n",
       "      <td>NaN</td>\n",
       "      <td>NaN</td>\n",
       "      <td>...</td>\n",
       "      <td>1.0</td>\n",
       "      <td>9.25</td>\n",
       "      <td>Credit Card</td>\n",
       "      <td>Medallion Leasin</td>\n",
       "      <td>NaN</td>\n",
       "      <td>NaN</td>\n",
       "      <td>None</td>\n",
       "      <td>NaN</td>\n",
       "      <td>NaN</td>\n",
       "      <td>None</td>\n",
       "    </tr>\n",
       "    <tr>\n",
       "      <th>2</th>\n",
       "      <td>e8ac60ddcabecf7b4a1865ef2781738a36f83d58</td>\n",
       "      <td>45f37403538a1c4651bcaa58ab3c436b98f0bf7fbe060b...</td>\n",
       "      <td>2018-09-01 19:30:00+00:00</td>\n",
       "      <td>2018-09-01 19:45:00+00:00</td>\n",
       "      <td>600</td>\n",
       "      <td>2.00</td>\n",
       "      <td>NaN</td>\n",
       "      <td>NaN</td>\n",
       "      <td>NaN</td>\n",
       "      <td>NaN</td>\n",
       "      <td>...</td>\n",
       "      <td>1.0</td>\n",
       "      <td>10.00</td>\n",
       "      <td>Cash</td>\n",
       "      <td>Medallion Leasin</td>\n",
       "      <td>NaN</td>\n",
       "      <td>NaN</td>\n",
       "      <td>None</td>\n",
       "      <td>NaN</td>\n",
       "      <td>NaN</td>\n",
       "      <td>None</td>\n",
       "    </tr>\n",
       "    <tr>\n",
       "      <th>3</th>\n",
       "      <td>ba4e3e55d62c3617dd15a2c49a28f3831c7560a0</td>\n",
       "      <td>bedb270bce40664555c0e645a3f6c242d8f64ed541f6f5...</td>\n",
       "      <td>2018-08-30 04:00:00+00:00</td>\n",
       "      <td>2018-08-30 04:30:00+00:00</td>\n",
       "      <td>1853</td>\n",
       "      <td>4.16</td>\n",
       "      <td>NaN</td>\n",
       "      <td>NaN</td>\n",
       "      <td>NaN</td>\n",
       "      <td>NaN</td>\n",
       "      <td>...</td>\n",
       "      <td>0.0</td>\n",
       "      <td>17.00</td>\n",
       "      <td>Prcard</td>\n",
       "      <td>Flash Cab</td>\n",
       "      <td>NaN</td>\n",
       "      <td>NaN</td>\n",
       "      <td>None</td>\n",
       "      <td>NaN</td>\n",
       "      <td>NaN</td>\n",
       "      <td>None</td>\n",
       "    </tr>\n",
       "    <tr>\n",
       "      <th>4</th>\n",
       "      <td>f4a044e9d2b2e02c5060d4d037ad924c4aa966b8</td>\n",
       "      <td>bedb270bce40664555c0e645a3f6c242d8f64ed541f6f5...</td>\n",
       "      <td>2018-08-30 05:15:00+00:00</td>\n",
       "      <td>2018-08-30 05:15:00+00:00</td>\n",
       "      <td>49</td>\n",
       "      <td>0.00</td>\n",
       "      <td>NaN</td>\n",
       "      <td>NaN</td>\n",
       "      <td>NaN</td>\n",
       "      <td>NaN</td>\n",
       "      <td>...</td>\n",
       "      <td>0.0</td>\n",
       "      <td>3.25</td>\n",
       "      <td>Cash</td>\n",
       "      <td>Flash Cab</td>\n",
       "      <td>NaN</td>\n",
       "      <td>NaN</td>\n",
       "      <td>None</td>\n",
       "      <td>NaN</td>\n",
       "      <td>NaN</td>\n",
       "      <td>None</td>\n",
       "    </tr>\n",
       "    <tr>\n",
       "      <th>5</th>\n",
       "      <td>30833c66640e4af1e4c0decefbb070aa9829024c</td>\n",
       "      <td>bedb270bce40664555c0e645a3f6c242d8f64ed541f6f5...</td>\n",
       "      <td>2018-08-30 05:15:00+00:00</td>\n",
       "      <td>2018-08-30 05:15:00+00:00</td>\n",
       "      <td>62</td>\n",
       "      <td>0.00</td>\n",
       "      <td>NaN</td>\n",
       "      <td>NaN</td>\n",
       "      <td>NaN</td>\n",
       "      <td>NaN</td>\n",
       "      <td>...</td>\n",
       "      <td>0.0</td>\n",
       "      <td>3.25</td>\n",
       "      <td>Cash</td>\n",
       "      <td>Flash Cab</td>\n",
       "      <td>NaN</td>\n",
       "      <td>NaN</td>\n",
       "      <td>None</td>\n",
       "      <td>NaN</td>\n",
       "      <td>NaN</td>\n",
       "      <td>None</td>\n",
       "    </tr>\n",
       "    <tr>\n",
       "      <th>6</th>\n",
       "      <td>4f859a67a47c809c43f8cd5ff5cb3e590c1d8f6b</td>\n",
       "      <td>bedb270bce40664555c0e645a3f6c242d8f64ed541f6f5...</td>\n",
       "      <td>2018-08-30 05:30:00+00:00</td>\n",
       "      <td>2018-08-30 05:30:00+00:00</td>\n",
       "      <td>48</td>\n",
       "      <td>0.00</td>\n",
       "      <td>NaN</td>\n",
       "      <td>NaN</td>\n",
       "      <td>NaN</td>\n",
       "      <td>NaN</td>\n",
       "      <td>...</td>\n",
       "      <td>0.0</td>\n",
       "      <td>3.25</td>\n",
       "      <td>Cash</td>\n",
       "      <td>Flash Cab</td>\n",
       "      <td>NaN</td>\n",
       "      <td>NaN</td>\n",
       "      <td>None</td>\n",
       "      <td>NaN</td>\n",
       "      <td>NaN</td>\n",
       "      <td>None</td>\n",
       "    </tr>\n",
       "    <tr>\n",
       "      <th>7</th>\n",
       "      <td>ab6afbe1a9398cbde10a600fe65a0a84a9dbd0d9</td>\n",
       "      <td>bedb270bce40664555c0e645a3f6c242d8f64ed541f6f5...</td>\n",
       "      <td>2018-08-30 05:30:00+00:00</td>\n",
       "      <td>2018-08-30 05:45:00+00:00</td>\n",
       "      <td>577</td>\n",
       "      <td>1.06</td>\n",
       "      <td>NaN</td>\n",
       "      <td>NaN</td>\n",
       "      <td>NaN</td>\n",
       "      <td>NaN</td>\n",
       "      <td>...</td>\n",
       "      <td>0.0</td>\n",
       "      <td>6.75</td>\n",
       "      <td>Prcard</td>\n",
       "      <td>Flash Cab</td>\n",
       "      <td>NaN</td>\n",
       "      <td>NaN</td>\n",
       "      <td>None</td>\n",
       "      <td>NaN</td>\n",
       "      <td>NaN</td>\n",
       "      <td>None</td>\n",
       "    </tr>\n",
       "    <tr>\n",
       "      <th>8</th>\n",
       "      <td>04923fd53b0642e80e661f1a8d11b56b29f401a8</td>\n",
       "      <td>bedb270bce40664555c0e645a3f6c242d8f64ed541f6f5...</td>\n",
       "      <td>2018-08-30 05:45:00+00:00</td>\n",
       "      <td>2018-08-30 06:00:00+00:00</td>\n",
       "      <td>229</td>\n",
       "      <td>0.49</td>\n",
       "      <td>NaN</td>\n",
       "      <td>NaN</td>\n",
       "      <td>NaN</td>\n",
       "      <td>NaN</td>\n",
       "      <td>...</td>\n",
       "      <td>1.0</td>\n",
       "      <td>8.00</td>\n",
       "      <td>Credit Card</td>\n",
       "      <td>Flash Cab</td>\n",
       "      <td>NaN</td>\n",
       "      <td>NaN</td>\n",
       "      <td>None</td>\n",
       "      <td>NaN</td>\n",
       "      <td>NaN</td>\n",
       "      <td>None</td>\n",
       "    </tr>\n",
       "    <tr>\n",
       "      <th>9</th>\n",
       "      <td>7409e996ee8a012b75f541c9218a77a0a520726e</td>\n",
       "      <td>bedb270bce40664555c0e645a3f6c242d8f64ed541f6f5...</td>\n",
       "      <td>2018-08-30 06:30:00+00:00</td>\n",
       "      <td>2018-08-30 06:45:00+00:00</td>\n",
       "      <td>890</td>\n",
       "      <td>1.65</td>\n",
       "      <td>NaN</td>\n",
       "      <td>NaN</td>\n",
       "      <td>NaN</td>\n",
       "      <td>NaN</td>\n",
       "      <td>...</td>\n",
       "      <td>1.0</td>\n",
       "      <td>9.75</td>\n",
       "      <td>Cash</td>\n",
       "      <td>Flash Cab</td>\n",
       "      <td>NaN</td>\n",
       "      <td>NaN</td>\n",
       "      <td>None</td>\n",
       "      <td>NaN</td>\n",
       "      <td>NaN</td>\n",
       "      <td>None</td>\n",
       "    </tr>\n",
       "  </tbody>\n",
       "</table>\n",
       "<p>10 rows × 23 columns</p>\n",
       "</div>"
      ],
      "text/plain": [
       "                                 unique_key  \\\n",
       "0  c0550371b8a815ecc4d70528c29385f4e5a7065d   \n",
       "1  92f76eb6cfd20b862fefcdafffb4f98b13fb8be0   \n",
       "2  e8ac60ddcabecf7b4a1865ef2781738a36f83d58   \n",
       "3  ba4e3e55d62c3617dd15a2c49a28f3831c7560a0   \n",
       "4  f4a044e9d2b2e02c5060d4d037ad924c4aa966b8   \n",
       "5  30833c66640e4af1e4c0decefbb070aa9829024c   \n",
       "6  4f859a67a47c809c43f8cd5ff5cb3e590c1d8f6b   \n",
       "7  ab6afbe1a9398cbde10a600fe65a0a84a9dbd0d9   \n",
       "8  04923fd53b0642e80e661f1a8d11b56b29f401a8   \n",
       "9  7409e996ee8a012b75f541c9218a77a0a520726e   \n",
       "\n",
       "                                             taxi_id  \\\n",
       "0  45f37403538a1c4651bcaa58ab3c436b98f0bf7fbe060b...   \n",
       "1  45f37403538a1c4651bcaa58ab3c436b98f0bf7fbe060b...   \n",
       "2  45f37403538a1c4651bcaa58ab3c436b98f0bf7fbe060b...   \n",
       "3  bedb270bce40664555c0e645a3f6c242d8f64ed541f6f5...   \n",
       "4  bedb270bce40664555c0e645a3f6c242d8f64ed541f6f5...   \n",
       "5  bedb270bce40664555c0e645a3f6c242d8f64ed541f6f5...   \n",
       "6  bedb270bce40664555c0e645a3f6c242d8f64ed541f6f5...   \n",
       "7  bedb270bce40664555c0e645a3f6c242d8f64ed541f6f5...   \n",
       "8  bedb270bce40664555c0e645a3f6c242d8f64ed541f6f5...   \n",
       "9  bedb270bce40664555c0e645a3f6c242d8f64ed541f6f5...   \n",
       "\n",
       "       trip_start_timestamp        trip_end_timestamp  trip_seconds  \\\n",
       "0 2018-09-01 19:15:00+00:00 2018-09-01 19:30:00+00:00           660   \n",
       "1 2018-09-01 19:30:00+00:00 2018-09-01 19:30:00+00:00           240   \n",
       "2 2018-09-01 19:30:00+00:00 2018-09-01 19:45:00+00:00           600   \n",
       "3 2018-08-30 04:00:00+00:00 2018-08-30 04:30:00+00:00          1853   \n",
       "4 2018-08-30 05:15:00+00:00 2018-08-30 05:15:00+00:00            49   \n",
       "5 2018-08-30 05:15:00+00:00 2018-08-30 05:15:00+00:00            62   \n",
       "6 2018-08-30 05:30:00+00:00 2018-08-30 05:30:00+00:00            48   \n",
       "7 2018-08-30 05:30:00+00:00 2018-08-30 05:45:00+00:00           577   \n",
       "8 2018-08-30 05:45:00+00:00 2018-08-30 06:00:00+00:00           229   \n",
       "9 2018-08-30 06:30:00+00:00 2018-08-30 06:45:00+00:00           890   \n",
       "\n",
       "   trip_miles  pickup_census_tract  dropoff_census_tract  \\\n",
       "0        1.00                  NaN                   NaN   \n",
       "1        0.40                  NaN                   NaN   \n",
       "2        2.00                  NaN                   NaN   \n",
       "3        4.16                  NaN                   NaN   \n",
       "4        0.00                  NaN                   NaN   \n",
       "5        0.00                  NaN                   NaN   \n",
       "6        0.00                  NaN                   NaN   \n",
       "7        1.06                  NaN                   NaN   \n",
       "8        0.49                  NaN                   NaN   \n",
       "9        1.65                  NaN                   NaN   \n",
       "\n",
       "   pickup_community_area  dropoff_community_area  ...  extras  trip_total  \\\n",
       "0                    NaN                     NaN  ...     0.0        7.50   \n",
       "1                    NaN                     NaN  ...     1.0        9.25   \n",
       "2                    NaN                     NaN  ...     1.0       10.00   \n",
       "3                    NaN                     NaN  ...     0.0       17.00   \n",
       "4                    NaN                     NaN  ...     0.0        3.25   \n",
       "5                    NaN                     NaN  ...     0.0        3.25   \n",
       "6                    NaN                     NaN  ...     0.0        3.25   \n",
       "7                    NaN                     NaN  ...     0.0        6.75   \n",
       "8                    NaN                     NaN  ...     1.0        8.00   \n",
       "9                    NaN                     NaN  ...     1.0        9.75   \n",
       "\n",
       "   payment_type           company  pickup_latitude pickup_longitude  \\\n",
       "0          Cash  Medallion Leasin              NaN              NaN   \n",
       "1   Credit Card  Medallion Leasin              NaN              NaN   \n",
       "2          Cash  Medallion Leasin              NaN              NaN   \n",
       "3        Prcard         Flash Cab              NaN              NaN   \n",
       "4          Cash         Flash Cab              NaN              NaN   \n",
       "5          Cash         Flash Cab              NaN              NaN   \n",
       "6          Cash         Flash Cab              NaN              NaN   \n",
       "7        Prcard         Flash Cab              NaN              NaN   \n",
       "8   Credit Card         Flash Cab              NaN              NaN   \n",
       "9          Cash         Flash Cab              NaN              NaN   \n",
       "\n",
       "  pickup_location  dropoff_latitude  dropoff_longitude dropoff_location  \n",
       "0            None               NaN                NaN             None  \n",
       "1            None               NaN                NaN             None  \n",
       "2            None               NaN                NaN             None  \n",
       "3            None               NaN                NaN             None  \n",
       "4            None               NaN                NaN             None  \n",
       "5            None               NaN                NaN             None  \n",
       "6            None               NaN                NaN             None  \n",
       "7            None               NaN                NaN             None  \n",
       "8            None               NaN                NaN             None  \n",
       "9            None               NaN                NaN             None  \n",
       "\n",
       "[10 rows x 23 columns]"
      ]
     },
     "execution_count": 9,
     "metadata": {},
     "output_type": "execute_result"
    }
   ],
   "source": [
    "%%bigquery\n",
    "\n",
    "SELECT *\n",
    "FROM `bigquery-public-data.chicago_taxi_trips.taxi_trips`\n",
    "LIMIT 10"
   ]
  },
  {
   "cell_type": "code",
   "execution_count": 10,
   "id": "e2d7d9ad",
   "metadata": {},
   "outputs": [
    {
     "name": "stderr",
     "output_type": "stream",
     "text": [
      "Query complete after 0.00s: 100%|██████████| 1/1 [00:00<00:00, 1038.71query/s]\n",
      "Downloading: 100%|██████████| 7/7 [00:01<00:00,  4.36rows/s]\n"
     ]
    }
   ],
   "source": [
    "%%bigquery data\n",
    "\n",
    "SELECT \n",
    "    CAST(EXTRACT(DAYOFWEEK FROM trip_start_timestamp) AS string) AS trip_dayofweek, \n",
    "    FORMAT_DATE('%A',cast(trip_start_timestamp as date)) AS trip_dayname,\n",
    "    COUNT(*) as trip_count,\n",
    "FROM `bigquery-public-data.chicago_taxi_trips.taxi_trips`\n",
    "WHERE\n",
    "    EXTRACT(YEAR FROM trip_start_timestamp) = 2015 \n",
    "GROUP BY\n",
    "    trip_dayofweek,\n",
    "    trip_dayname\n",
    "ORDER BY\n",
    "    trip_dayofweek\n",
    ";"
   ]
  },
  {
   "cell_type": "code",
   "execution_count": 11,
   "id": "ed819c15",
   "metadata": {},
   "outputs": [
    {
     "data": {
      "text/plain": [
       "<AxesSubplot:xlabel='trip_dayname'>"
      ]
     },
     "execution_count": 11,
     "metadata": {},
     "output_type": "execute_result"
    },
    {
     "data": {
      "image/png": "[encoded data removed]",
      "text/plain": [
       "<Figure size 432x288 with 1 Axes>"
      ]
     },
     "metadata": {
      "needs_background": "light"
     },
     "output_type": "display_data"
    }
   ],
   "source": [
    "data.plot(kind='bar', x='trip_dayname', y='trip_count')"
   ]
  },
  {
   "cell_type": "markdown",
   "id": "01f3cec9",
   "metadata": {},
   "source": [
    "## Prepare development datasets\n",
    "\n",
    "We add `data_split` column, where 80% of the records is set to `UNASSIGNED` while the other 20% is set to `TEST`.\n",
    "This column will the custom model (or an AutoML Tables model) to split the data for learning and testing.\n",
    "In the learning phase, each model will split the `UNASSIGNED` records to `train` and `eval`. The `TEST` split is will be used for the final model validation."
   ]
  },
  {
   "cell_type": "code",
   "execution_count": null,
   "id": "235716b8",
   "metadata": {},
   "outputs": [],
   "source": [
    "sample_size = 1000000\n",
    "year = 2020"
   ]
  },
  {
   "cell_type": "code",
   "execution_count": null,
   "id": "5bc4575d",
   "metadata": {},
   "outputs": [],
   "source": [
    "sql_script = '''\n",
    "CREATE OR REPLACE TABLE `@PROJECT.@DATASET.@TABLE` \n",
    "AS (\n",
    "    WITH\n",
    "      taxitrips AS (\n",
    "      SELECT\n",
    "        trip_start_timestamp,\n",
    "        trip_seconds,\n",
    "        trip_miles,\n",
    "        payment_type,\n",
    "        pickup_longitude,\n",
    "        pickup_latitude,\n",
    "        dropoff_longitude,\n",
    "        dropoff_latitude,\n",
    "        tips,\n",
    "        fare,\n",
    "        FORMAT_TIMESTAMP(\"%m-%d-%Y\", trip_start_timestamp) as trip_date\n",
    "      FROM\n",
    "        `bigquery-public-data.chicago_taxi_trips.taxi_trips`\n",
    "      WHERE 1=1 \n",
    "      AND pickup_longitude IS NOT NULL\n",
    "      AND pickup_latitude IS NOT NULL\n",
    "      AND dropoff_longitude IS NOT NULL\n",
    "      AND dropoff_latitude IS NOT NULL\n",
    "      AND trip_miles > 0\n",
    "      AND trip_seconds > 0\n",
    "      AND fare > 0\n",
    "      AND EXTRACT(YEAR FROM trip_start_timestamp) = @YEAR\n",
    "    )\n",
    "\n",
    "    SELECT\n",
    "      trip_start_timestamp,   \n",
    "      EXTRACT(MONTH from trip_start_timestamp) as trip_month,\n",
    "      EXTRACT(DAY from trip_start_timestamp) as trip_day,\n",
    "      EXTRACT(DAYOFWEEK from trip_start_timestamp) as trip_day_of_week,\n",
    "      EXTRACT(HOUR from trip_start_timestamp) as trip_hour,\n",
    "      trip_seconds,\n",
    "      trip_miles,\n",
    "      payment_type,\n",
    "      ST_AsText(\n",
    "          ST_SnapToGrid(ST_GeogPoint(pickup_longitude, pickup_latitude), 0.1)\n",
    "      ) AS pickup_grid,\n",
    "      ST_AsText(\n",
    "          ST_SnapToGrid(ST_GeogPoint(dropoff_longitude, dropoff_latitude), 0.1)\n",
    "      ) AS dropoff_grid,\n",
    "      ST_Distance(\n",
    "          ST_GeogPoint(pickup_longitude, pickup_latitude), \n",
    "          ST_GeogPoint(dropoff_longitude, dropoff_latitude)\n",
    "      ) AS euclidean,\n",
    "      CONCAT(\n",
    "          ST_AsText(ST_SnapToGrid(ST_GeogPoint(pickup_longitude,\n",
    "              pickup_latitude), 0.1)), \n",
    "          ST_AsText(ST_SnapToGrid(ST_GeogPoint(dropoff_longitude,\n",
    "              dropoff_latitude), 0.1))\n",
    "      ) AS loc_cross,\n",
    "      IF((tips/fare >= 0.2), 1, 0) AS tip_bin,\n",
    "      IF(ABS(MOD(FARM_FINGERPRINT(trip_date), 10)) < 8, 'UNASSIGNED', 'TEST') AS data_split\n",
    "    FROM\n",
    "      taxitrips\n",
    "    LIMIT @LIMIT\n",
    ")\n",
    "'''"
   ]
  },
  {
   "cell_type": "code",
   "execution_count": null,
   "id": "b2e91a39",
   "metadata": {},
   "outputs": [],
   "source": [
    "sql_script = sql_script.replace(\n",
    "    '@PROJECT', PROJECT).replace(\n",
    "    '@DATASET', BQ_DATASET_NAME).replace(\n",
    "    '@TABLE', BQ_TABLE_NAME).replace(\n",
    "    '@YEAR', str(year)).replace(\n",
    "    '@LIMIT', str(sample_size))"
   ]
  },
  {
   "cell_type": "code",
   "execution_count": null,
   "id": "5b6ca21b",
   "metadata": {},
   "outputs": [],
   "source": [
    "print(sql_script)"
   ]
  },
  {
   "cell_type": "code",
   "execution_count": null,
   "id": "b9018fbd",
   "metadata": {},
   "outputs": [],
   "source": [
    "job = client.query(sql_script)\n",
    "job.result()"
   ]
  },
  {
   "cell_type": "markdown",
   "id": "ac460447",
   "metadata": {},
   "source": [
    "### Analyze data with BigQuery"
   ]
  },
  {
   "cell_type": "code",
   "execution_count": null,
   "id": "ddb90b74",
   "metadata": {},
   "outputs": [],
   "source": [
    "sql_script = f'''\n",
    "SELECT * EXCEPT (trip_start_timestamp, data_split)\n",
    "FROM {PROJECT}.{BQ_DATASET_NAME}.{BQ_TABLE_NAME}\n",
    "'''\n",
    "\n",
    "sample_data = client.query(sql_script).to_dataframe()"
   ]
  },
  {
   "cell_type": "code",
   "execution_count": null,
   "id": "33b1da83",
   "metadata": {},
   "outputs": [],
   "source": [
    "sample_data.head().T"
   ]
  },
  {
   "cell_type": "code",
   "execution_count": null,
   "id": "f2c58bc6",
   "metadata": {},
   "outputs": [],
   "source": [
    "sample_data.tip_bin.value_counts()"
   ]
  },
  {
   "cell_type": "code",
   "execution_count": null,
   "id": "77695bc5",
   "metadata": {},
   "outputs": [],
   "source": [
    "sample_data.euclidean.hist()"
   ]
  },
  {
   "cell_type": "markdown",
   "id": "a2e1d4b1",
   "metadata": {},
   "source": [
    "### Analyze data with TFDV"
   ]
  },
  {
   "cell_type": "code",
   "execution_count": null,
   "id": "29945691",
   "metadata": {},
   "outputs": [],
   "source": [
    "stats = tfdv.generate_statistics_from_dataframe(\n",
    "    dataframe=sample_data,\n",
    "    stats_options=tfdv.StatsOptions(\n",
    "        label_feature='tip_bin',\n",
    "        weight_feature=None,\n",
    "        sample_rate=1,\n",
    "        num_top_values=50\n",
    "    )\n",
    ")"
   ]
  },
  {
   "cell_type": "markdown",
   "id": "26a73fb8",
   "metadata": {},
   "source": [
    "## 3. Generate Raw Data Schema\n",
    "\n",
    "The raw data schema will be used in:\n",
    "1. Defining the input columns for the AutoML Tables model.\n",
    "2. Indentifying the raw data types and shapes in the data transformation.\n",
    "3. Create the serving input signature for the custom model.\n",
    "4. Validating the new raw training data in the tfx pipeline."
   ]
  },
  {
   "cell_type": "code",
   "execution_count": null,
   "id": "95d18e7a",
   "metadata": {},
   "outputs": [],
   "source": [
    "stats = tfdv.generate_statistics_from_dataframe(\n",
    "    dataframe=sample_data,\n",
    "    stats_options=tfdv.StatsOptions(\n",
    "        label_feature='tip_bin',\n",
    "        weight_feature=None,\n",
    "        sample_rate=1,\n",
    "        num_top_values=50\n",
    "    )\n",
    ")"
   ]
  },
  {
   "cell_type": "code",
   "execution_count": null,
   "id": "26d3e28d",
   "metadata": {},
   "outputs": [],
   "source": [
    "tfdv.visualize_statistics(stats)"
   ]
  },
  {
   "cell_type": "code",
   "execution_count": null,
   "id": "5d120d42",
   "metadata": {},
   "outputs": [],
   "source": [
    "schema = tfdv.infer_schema(statistics=stats)\n",
    "tfdv.display_schema(schema=schema)"
   ]
  },
  {
   "cell_type": "code",
   "execution_count": null,
   "id": "a5f6230d",
   "metadata": {},
   "outputs": [],
   "source": [
    "raw_schema_location = os.path.join(RAW_SCHEMA_DIR, 'schema.pbtxt')\n",
    "tfdv.write_schema_text(schema, raw_schema_location)"
   ]
  },
  {
   "cell_type": "markdown",
   "id": "07a003ec",
   "metadata": {},
   "source": [
    "## 4. Create Managed AI Platform Dataset"
   ]
  },
  {
   "cell_type": "code",
   "execution_count": null,
   "id": "456248ee",
   "metadata": {},
   "outputs": [],
   "source": [
    "from src.utils.vertex_utils import VertexClient\n",
    "vertex_client = VertexClient(PROJECT, REGION)"
   ]
  },
  {
   "cell_type": "markdown",
   "id": "954d7e4a",
   "metadata": {},
   "source": [
    "### Create managed dataset"
   ]
  },
  {
   "cell_type": "code",
   "execution_count": null,
   "id": "bf137c66",
   "metadata": {},
   "outputs": [],
   "source": [
    "dataset = vertex_client.create_dataset_bq(DATASET_DISPLAY_NAME, BQ_URI)\n",
    "dataset.gca_resource"
   ]
  },
  {
   "cell_type": "markdown",
   "id": "69ff87e1",
   "metadata": {},
   "source": [
    "### List datasets"
   ]
  },
  {
   "cell_type": "code",
   "execution_count": null,
   "id": "000360af",
   "metadata": {},
   "outputs": [],
   "source": [
    "dataset = vertex_client.get_dataset_by_display_name(DATASET_DISPLAY_NAME)\n",
    "dataset.resource_name "
   ]
  },
  {
   "cell_type": "code",
   "execution_count": null,
   "id": "702decb1",
   "metadata": {},
   "outputs": [],
   "source": [
    "dataset.gca_resource.metadata['inputConfig']['bigquerySource']['uri']"
   ]
  },
  {
   "cell_type": "code",
   "execution_count": null,
   "id": "8e53e28a",
   "metadata": {},
   "outputs": [],
   "source": []
  }
 ],
 "metadata": {
  "environment": {
   "name": "tf2-gpu.2-4.m69",
   "type": "gcloud",
   "uri": "gcr.io/deeplearning-platform-release/tf2-gpu.2-4:m69"
  },
  "kernelspec": {
   "display_name": "Python 3",
   "language": "python",
   "name": "python3"
  },
  "language_info": {
   "codemirror_mode": {
    "name": "ipython",
    "version": 3
   },
   "file_extension": ".py",
   "mimetype": "text/x-python",
   "name": "python",
   "nbconvert_exporter": "python",
   "pygments_lexer": "ipython3",
   "version": "3.7.10"
  }
 },
 "nbformat": 4,
 "nbformat_minor": 5
}
