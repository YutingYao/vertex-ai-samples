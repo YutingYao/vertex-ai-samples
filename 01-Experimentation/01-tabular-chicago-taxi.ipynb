{
 "cells": [
  {
   "cell_type": "markdown",
   "id": "5846d07a",
   "metadata": {},
   "source": [
    "# 01 - Experimentation\n",
    "\n",
    "## Overview\n",
    "\n",
    "### Scenario\n",
    "\n",
    "The [Chicago Taxi Trips](https://pantheon.corp.google.com/marketplace/details/city-of-chicago-public-data/chicago-taxi-trips) dataset is one ofof [public datasets hosted with BigQuery](https://cloud.google.com/bigquery/public-data/), which includes taxi trips from 2013 to the present, reported to the City of Chicago in its role as a regulatory agency. The `taxi_trips` table size is 70.72 GB and includes more than 195 million records. The dataset includes information about the trips, like pickup and dropoff datetime and location, passengers count, miles travelled, and trip toll. \n",
    "\n",
    "The ML task is to predict whether a given trip will result in a tip > 20%.\n",
    "\n",
    "### Lab flow \n",
    "\n",
    "\n",
    "1. Perform Exploratory Data Analysis and Visualization.\n",
    "2. Prepare the data for the ML task in BigQuery.\n",
    "3. Produce and fix the raw data schema.\n",
    "4. Create a managed dataset.\n"
   ]
  },
  {
   "cell_type": "code",
   "execution_count": 1,
   "id": "86172097",
   "metadata": {},
   "outputs": [],
   "source": [
    "%load_ext autoreload\n",
    "%autoreload 2?"
   ]
  },
  {
   "cell_type": "code",
   "execution_count": 63,
   "id": "23aa1668",
   "metadata": {},
   "outputs": [],
   "source": [
    "import os\n",
    "import pandas as pd\n",
    "import tensorflow as tf\n",
    "import tensorflow_data_validation as tfdv\n",
    "import matplotlib.pyplot as plt\n",
    "\n",
    "from google.cloud import aiplatform as vertex_ai\n",
    "from google.cloud.aiplatform_v1beta1.types import (\n",
    "    Tensorboard, \n",
    "    TensorboardExperiment, \n",
    "    TensorboardRun, \n",
    "    TensorboardTimeSeries,\n",
    "    TimeSeriesData\n",
    ")\n",
    "\n",
    "from google.cloud.aiplatform_v1beta1 import services\n",
    "from google.cloud.aiplatform_v1beta1 import types\n",
    "\n",
    "\n",
    "\n",
    "from google.cloud import bigquery\n",
    "from google.cloud import exceptions"
   ]
  },
  {
   "cell_type": "markdown",
   "id": "12a3c742",
   "metadata": {},
   "source": [
    "## Configure workspace"
   ]
  },
  {
   "cell_type": "markdown",
   "id": "7a99b89f",
   "metadata": {},
   "source": [
    "### Configure workspace settings"
   ]
  },
  {
   "cell_type": "code",
   "execution_count": 3,
   "id": "194f1a41",
   "metadata": {},
   "outputs": [],
   "source": [
    "# GCP Project and Region\n",
    "PROJECT = 'jk-mlops-dev' # Change to your project Id.\n",
    "REGION = 'us-central1' # Change to your region \n",
    "GCS_BUCKET = 'gs://jk-vertex-workshop-bucket' # Change to your bucket\n",
    "\n",
    "# BigQuery development dataset\n",
    "BQ_LOCATION = 'US' # Change to your location\n",
    "BQ_DATASET_NAME = 'experimentation_dataset' # Change to your BQ datasent name.\n",
    "\n",
    "# Vertex experiment name\n",
    "EXPERIMENT_NAME = 'chicago-taxi-tips-classification' "
   ]
  },
  {
   "cell_type": "markdown",
   "id": "443d5a11",
   "metadata": {},
   "source": [
    "### Create BigQuery development dataset"
   ]
  },
  {
   "cell_type": "code",
   "execution_count": 4,
   "id": "83adbf3e",
   "metadata": {},
   "outputs": [
    {
     "name": "stdout",
     "output_type": "stream",
     "text": [
      "Dataset already exists\n"
     ]
    }
   ],
   "source": [
    "client = bigquery.Client(project=PROJECT)\n",
    "\n",
    "dataset = None\n",
    "try: \n",
    "    dataset_id = '{}.{}'.format(client.project, BQ_DATASET_NAME)\n",
    "    dataset = bigquery.Dataset(dataset_id)\n",
    "    dataset.location = BQ_LOCATION\n",
    "    dataset = client.create_dataset(dataset, timeout=30)\n",
    "except exceptions.Conflict:\n",
    "    print('Dataset already exists')"
   ]
  },
  {
   "cell_type": "markdown",
   "id": "570a14af",
   "metadata": {},
   "source": [
    "### Initialize Vertex Experiment"
   ]
  },
  {
   "cell_type": "code",
   "execution_count": 5,
   "id": "027f4412",
   "metadata": {},
   "outputs": [],
   "source": [
    "vertex_ai.init(\n",
    "    project=PROJECT,\n",
    "    location=REGION,\n",
    "    staging_bucket=GCS_BUCKET,\n",
    "    experiment=EXPERIMENT_NAME,\n",
    ")"
   ]
  },
  {
   "cell_type": "markdown",
   "id": "f3217070",
   "metadata": {},
   "source": [
    "### Create Vertex TensorBoard Instance"
   ]
  },
  {
   "cell_type": "code",
   "execution_count": 52,
   "id": "a0b105c6",
   "metadata": {},
   "outputs": [],
   "source": [
    "from google.cloud.aiplatform.utils import TensorboardClientWithOverride\n",
    "\n",
    "tb_client = api_client = vertex_ai.initializer.global_config.create_client(\n",
    "        client_class=TensorboardClientWithOverride, location_override=REGION\n",
    ")\n",
    "\n",
    "parent = f'projects/{PROJECT}/locations/{REGION}'"
   ]
  },
  {
   "cell_type": "code",
   "execution_count": 53,
   "id": "8288a900",
   "metadata": {},
   "outputs": [],
   "source": [
    "parent = f'projects/{PROJECT}/locations/{REGION}'\n",
    "tb_proto = types.Tensorboard()\n",
    "tb_proto.display_name = 'Workshop Tensorboard'\n",
    "tb_proto.description = 'Workshop Tensorboard'\n",
    "\n",
    "operation = tb_client.create_tensorboard(parent=parent, tensorboard=tb_proto)\n",
    "tensorboard = operation.result()"
   ]
  },
  {
   "cell_type": "code",
   "execution_count": 54,
   "id": "6bc2f408",
   "metadata": {},
   "outputs": [
    {
     "data": {
      "text/plain": [
       "'projects/895222332033/locations/us-central1/tensorboards/4995547517916545024'"
      ]
     },
     "execution_count": 54,
     "metadata": {},
     "output_type": "execute_result"
    }
   ],
   "source": [
    "tensorboard.name"
   ]
  },
  {
   "cell_type": "code",
   "execution_count": 55,
   "id": "1a1e1d47",
   "metadata": {},
   "outputs": [],
   "source": [
    "tb_name = 'projects/895222332033/locations/us-central1/tensorboards/4995547517916545024'"
   ]
  },
  {
   "cell_type": "code",
   "execution_count": 56,
   "id": "8c5a0ec1",
   "metadata": {},
   "outputs": [
    {
     "data": {
      "text/plain": [
       "ListTensorboardsPager<tensorboards {\n",
       "  name: \"projects/895222332033/locations/us-central1/tensorboards/4995547517916545024\"\n",
       "  display_name: \"Workshop Tensorboard\"\n",
       "  description: \"Workshop Tensorboard\"\n",
       "  create_time {\n",
       "    seconds: 1622481228\n",
       "    nanos: 429891000\n",
       "  }\n",
       "  update_time {\n",
       "    seconds: 1622481228\n",
       "    nanos: 745281000\n",
       "  }\n",
       "  etag: \"AMEw9yO5C9-eVrI_7uSfIct4eT3SZx1RGizYGcXVUyNbjMPvbWwJdrLrDmChe-qd2vN4\"\n",
       "  blob_storage_path_prefix: \"cloud-ai-platform-dd92d61a-4628-4e8c-a94b-43eb3cee0e5f\"\n",
       "}\n",
       ">"
      ]
     },
     "execution_count": 56,
     "metadata": {},
     "output_type": "execute_result"
    }
   ],
   "source": [
    "tb_client.list_tensorboards(parent=parent)"
   ]
  },
  {
   "cell_type": "code",
   "execution_count": 57,
   "id": "76c9a92b",
   "metadata": {},
   "outputs": [],
   "source": [
    "tb_experiment_proto = TensorboardExperiment(\n",
    "    display_name = 'Chicago Taxi Classifier',\n",
    "    description = 'Chicago Taxi Classifier'\n",
    ")\n",
    "\n",
    "tensorboard_experiment_id = 'chicago-taxi-classifier'\n",
    "\n",
    "tb_experiment = tb_client.create_tensorboard_experiment(parent=tb_name, \n",
    "                                                        tensorboard_experiment=tb_experiment_proto,\n",
    "                                                        tensorboard_experiment_id=tensorboard_experiment_id)"
   ]
  },
  {
   "cell_type": "code",
   "execution_count": 58,
   "id": "e76db3a1",
   "metadata": {},
   "outputs": [
    {
     "data": {
      "text/plain": [
       "ListTensorboardExperimentsPager<tensorboard_experiments {\n",
       "  name: \"projects/895222332033/locations/us-central1/tensorboards/4995547517916545024/experiments/chicago-taxi-classifier\"\n",
       "  display_name: \"Chicago Taxi Classifier\"\n",
       "  description: \"Chicago Taxi Classifier\"\n",
       "  create_time {\n",
       "    seconds: 1622481418\n",
       "    nanos: 852991000\n",
       "  }\n",
       "  update_time {\n",
       "    seconds: 1622481418\n",
       "    nanos: 852991000\n",
       "  }\n",
       "  etag: \"AMEw9yOT8y43yGQiIoRJk6NEAqq5fTYrRI_hjjU60vdX41pFsJZbP8rGLKcTLBfnoyyH\"\n",
       "}\n",
       ">"
      ]
     },
     "execution_count": 58,
     "metadata": {},
     "output_type": "execute_result"
    }
   ],
   "source": [
    "tb_client.list_tensorboard_experiments(parent=tb_name)"
   ]
  },
  {
   "cell_type": "code",
   "execution_count": 59,
   "id": "2de14801",
   "metadata": {},
   "outputs": [],
   "source": [
    "tb_experiment_name = \"projects/895222332033/locations/us-central1/tensorboards/4995547517916545024/experiments/chicago-taxi-classifier\""
   ]
  },
  {
   "cell_type": "code",
   "execution_count": 60,
   "id": "9c89fe02",
   "metadata": {},
   "outputs": [
    {
     "data": {
      "text/plain": [
       "name: \"projects/895222332033/locations/us-central1/tensorboards/4995547517916545024/experiments/chicago-taxi-classifier/runs/run-1\"\n",
       "create_time {\n",
       "  seconds: 1622481586\n",
       "  nanos: 960381000\n",
       "}\n",
       "update_time {\n",
       "  seconds: 1622481586\n",
       "  nanos: 960381000\n",
       "}\n",
       "etag: \"AMEw9yOKl4z7Cup0cyQOj_RO-w0LcJVPuljSTfTjYUWvZqapfADEutwo4P3Kk1GSg8vB\""
      ]
     },
     "execution_count": 60,
     "metadata": {},
     "output_type": "execute_result"
    }
   ],
   "source": [
    "tb_run = TensorboardRun(\n",
    "    display_name = \"Run 1\",\n",
    "    description = \"Run 1\"\n",
    ")\n",
    "\n",
    "tb_run_id = 'run-1'\n",
    "\n",
    "tb_run = tb_client.create_tensorboard_run(parent=tb_experiment_name, tensorboard_run_id = tb_run_id)\n",
    "tb_run"
   ]
  },
  {
   "cell_type": "code",
   "execution_count": 62,
   "id": "489e6bdf",
   "metadata": {},
   "outputs": [
    {
     "data": {
      "text/plain": [
       "ListTensorboardRunsPager<tensorboard_runs {\n",
       "  name: \"projects/895222332033/locations/us-central1/tensorboards/4995547517916545024/experiments/chicago-taxi-classifier/runs/run-1\"\n",
       "  create_time {\n",
       "    seconds: 1622481586\n",
       "    nanos: 960381000\n",
       "  }\n",
       "  update_time {\n",
       "    seconds: 1622481586\n",
       "    nanos: 960381000\n",
       "  }\n",
       "  etag: \"AMEw9yNNQnMMpC5P9HAqkBhKnkhx2-M9wOjMjvabdbDAXR5D74JHPMCkfAt0k3bS5rzo\"\n",
       "}\n",
       ">"
      ]
     },
     "execution_count": 62,
     "metadata": {},
     "output_type": "execute_result"
    }
   ],
   "source": [
    "tb_client.list_tensorboard_runs(parent=tb_experiment_name)"
   ]
  },
  {
   "cell_type": "code",
   "execution_count": null,
   "id": "5803478f",
   "metadata": {},
   "outputs": [],
   "source": []
  },
  {
   "cell_type": "code",
   "execution_count": null,
   "id": "20b907d7",
   "metadata": {},
   "outputs": [],
   "source": []
  },
  {
   "cell_type": "code",
   "execution_count": null,
   "id": "91c52025",
   "metadata": {},
   "outputs": [],
   "source": [
    "# tb_client.delete_tensorboard_run(name=tb_run_name)"
   ]
  },
  {
   "cell_type": "code",
   "execution_count": null,
   "id": "3fc275e3",
   "metadata": {},
   "outputs": [],
   "source": [
    "# tb_client.delete_tensorboard_experiment(name=tb_experiment_name)"
   ]
  },
  {
   "cell_type": "code",
   "execution_count": null,
   "id": "b22023ef",
   "metadata": {},
   "outputs": [],
   "source": [
    "# tb_client.delete_tensorboard(name=tb_name)"
   ]
  },
  {
   "cell_type": "code",
   "execution_count": null,
   "id": "9d42ea9f",
   "metadata": {},
   "outputs": [],
   "source": []
  },
  {
   "cell_type": "markdown",
   "id": "34c4ebb0",
   "metadata": {},
   "source": [
    "## 1. Explore Chicago Taxi Dataset"
   ]
  },
  {
   "cell_type": "code",
   "execution_count": null,
   "id": "07e811de",
   "metadata": {},
   "outputs": [],
   "source": [
    "%%bigquery\n",
    "\n",
    "SELECT *\n",
    "FROM `bigquery-public-data.chicago_taxi_trips.taxi_trips`\n",
    "LIMIT 10"
   ]
  },
  {
   "cell_type": "code",
   "execution_count": null,
   "id": "3442e3c3",
   "metadata": {},
   "outputs": [],
   "source": [
    "%%bigquery data\n",
    "\n",
    "SELECT \n",
    "    CAST(EXTRACT(DAYOFWEEK FROM trip_start_timestamp) AS string) AS trip_dayofweek, \n",
    "    FORMAT_DATE('%A',cast(trip_start_timestamp as date)) AS trip_dayname,\n",
    "    COUNT(*) as trip_count,\n",
    "FROM `bigquery-public-data.chicago_taxi_trips.taxi_trips`\n",
    "WHERE\n",
    "    EXTRACT(YEAR FROM trip_start_timestamp) = 2015 \n",
    "GROUP BY\n",
    "    trip_dayofweek,\n",
    "    trip_dayname\n",
    "ORDER BY\n",
    "    trip_dayofweek\n",
    ";"
   ]
  },
  {
   "cell_type": "code",
   "execution_count": null,
   "id": "908704fe",
   "metadata": {},
   "outputs": [],
   "source": [
    "data.plot(kind='bar', x='trip_dayname', y='trip_count')"
   ]
  },
  {
   "cell_type": "markdown",
   "id": "baf1e569",
   "metadata": {},
   "source": [
    "## Prepare development datasets\n",
    "\n",
    "We add `data_split` column, where 80% of the records is set to `UNASSIGNED` while the other 20% is set to `TEST`.\n",
    "This column will the custom model (or an AutoML Tables model) to split the data for learning and testing.\n",
    "In the learning phase, each model will split the `UNASSIGNED` records to `train` and `eval`. The `TEST` split is will be used for the final model validation."
   ]
  },
  {
   "cell_type": "code",
   "execution_count": null,
   "id": "720e6d05",
   "metadata": {},
   "outputs": [],
   "source": [
    "sample_size = 1000000\n",
    "year = 2020"
   ]
  },
  {
   "cell_type": "code",
   "execution_count": null,
   "id": "d8cbe08c",
   "metadata": {},
   "outputs": [],
   "source": [
    "sql_script = '''\n",
    "CREATE OR REPLACE TABLE `@PROJECT.@DATASET.@TABLE` \n",
    "AS (\n",
    "    WITH\n",
    "      taxitrips AS (\n",
    "      SELECT\n",
    "        trip_start_timestamp,\n",
    "        trip_seconds,\n",
    "        trip_miles,\n",
    "        payment_type,\n",
    "        pickup_longitude,\n",
    "        pickup_latitude,\n",
    "        dropoff_longitude,\n",
    "        dropoff_latitude,\n",
    "        tips,\n",
    "        fare,\n",
    "        FORMAT_TIMESTAMP(\"%m-%d-%Y\", trip_start_timestamp) as trip_date\n",
    "      FROM\n",
    "        `bigquery-public-data.chicago_taxi_trips.taxi_trips`\n",
    "      WHERE 1=1 \n",
    "      AND pickup_longitude IS NOT NULL\n",
    "      AND pickup_latitude IS NOT NULL\n",
    "      AND dropoff_longitude IS NOT NULL\n",
    "      AND dropoff_latitude IS NOT NULL\n",
    "      AND trip_miles > 0\n",
    "      AND trip_seconds > 0\n",
    "      AND fare > 0\n",
    "      AND EXTRACT(YEAR FROM trip_start_timestamp) = @YEAR\n",
    "    )\n",
    "\n",
    "    SELECT\n",
    "      trip_start_timestamp,   \n",
    "      EXTRACT(MONTH from trip_start_timestamp) as trip_month,\n",
    "      EXTRACT(DAY from trip_start_timestamp) as trip_day,\n",
    "      EXTRACT(DAYOFWEEK from trip_start_timestamp) as trip_day_of_week,\n",
    "      EXTRACT(HOUR from trip_start_timestamp) as trip_hour,\n",
    "      trip_seconds,\n",
    "      trip_miles,\n",
    "      payment_type,\n",
    "      ST_AsText(\n",
    "          ST_SnapToGrid(ST_GeogPoint(pickup_longitude, pickup_latitude), 0.1)\n",
    "      ) AS pickup_grid,\n",
    "      ST_AsText(\n",
    "          ST_SnapToGrid(ST_GeogPoint(dropoff_longitude, dropoff_latitude), 0.1)\n",
    "      ) AS dropoff_grid,\n",
    "      ST_Distance(\n",
    "          ST_GeogPoint(pickup_longitude, pickup_latitude), \n",
    "          ST_GeogPoint(dropoff_longitude, dropoff_latitude)\n",
    "      ) AS euclidean,\n",
    "      CONCAT(\n",
    "          ST_AsText(ST_SnapToGrid(ST_GeogPoint(pickup_longitude,\n",
    "              pickup_latitude), 0.1)), \n",
    "          ST_AsText(ST_SnapToGrid(ST_GeogPoint(dropoff_longitude,\n",
    "              dropoff_latitude), 0.1))\n",
    "      ) AS loc_cross,\n",
    "      IF((tips/fare >= 0.2), 1, 0) AS tip_bin,\n",
    "      IF(ABS(MOD(FARM_FINGERPRINT(trip_date), 10)) < 8, 'UNASSIGNED', 'TEST') AS data_split\n",
    "    FROM\n",
    "      taxitrips\n",
    "    LIMIT @LIMIT\n",
    ")\n",
    "'''"
   ]
  },
  {
   "cell_type": "code",
   "execution_count": null,
   "id": "a3680bac",
   "metadata": {},
   "outputs": [],
   "source": [
    "sql_script = sql_script.replace(\n",
    "    '@PROJECT', PROJECT).replace(\n",
    "    '@DATASET', BQ_DATASET_NAME).replace(\n",
    "    '@TABLE', BQ_TABLE_NAME).replace(\n",
    "    '@YEAR', str(year)).replace(\n",
    "    '@LIMIT', str(sample_size))\n",
    "\n",
    "job = client.query(sql_script)\n",
    "job.result()"
   ]
  },
  {
   "cell_type": "markdown",
   "id": "56193c3a",
   "metadata": {},
   "source": [
    "### Analyze the development dataset with Pandas"
   ]
  },
  {
   "cell_type": "code",
   "execution_count": null,
   "id": "2a9d27c4",
   "metadata": {},
   "outputs": [],
   "source": [
    "sql_script = f'''\n",
    "SELECT * EXCEPT (trip_start_timestamp, data_split)\n",
    "FROM {PROJECT}.{BQ_DATASET_NAME}.{BQ_TABLE_NAME}\n",
    "'''\n",
    "\n",
    "sample_data = client.query(sql_script).to_dataframe()"
   ]
  },
  {
   "cell_type": "code",
   "execution_count": null,
   "id": "22b47905",
   "metadata": {},
   "outputs": [],
   "source": [
    "sample_data.head().T"
   ]
  },
  {
   "cell_type": "code",
   "execution_count": null,
   "id": "9b0b1960",
   "metadata": {},
   "outputs": [],
   "source": [
    "sample_data.tip_bin.value_counts()"
   ]
  },
  {
   "cell_type": "code",
   "execution_count": null,
   "id": "19e1f616",
   "metadata": {},
   "outputs": [],
   "source": [
    "sample_data.euclidean.hist()"
   ]
  },
  {
   "cell_type": "markdown",
   "id": "aae349a5",
   "metadata": {},
   "source": [
    "### Analyze the development dataset with TFDV"
   ]
  },
  {
   "cell_type": "code",
   "execution_count": null,
   "id": "f1d85cc8",
   "metadata": {},
   "outputs": [],
   "source": [
    "stats = tfdv.generate_statistics_from_dataframe(\n",
    "    dataframe=sample_data,\n",
    "    stats_options=tfdv.StatsOptions(\n",
    "        label_feature='tip_bin',\n",
    "        weight_feature=None,\n",
    "        sample_rate=1,\n",
    "        num_top_values=50\n",
    "    )\n",
    ")\n",
    "\n",
    "tfdv.visualize_statistics(stats)"
   ]
  },
  {
   "cell_type": "markdown",
   "id": "3b48af9b",
   "metadata": {},
   "source": [
    "### Save statistics"
   ]
  },
  {
   "cell_type": "code",
   "execution_count": null,
   "id": "49f43884",
   "metadata": {},
   "outputs": [],
   "source": [
    "stats_location = os.path.join(GCS_BUCKET, 'datasets', 'chicago_taxi', 'statistics', 'stats.pbtxt')\n",
    "\n",
    "tfdv.write_stats_text(stats, stats_location)"
   ]
  },
  {
   "cell_type": "markdown",
   "id": "3b2ca421",
   "metadata": {},
   "source": [
    "### Auto-generate Data Schema \n"
   ]
  },
  {
   "cell_type": "code",
   "execution_count": null,
   "id": "d1ac98d1",
   "metadata": {},
   "outputs": [],
   "source": [
    "schema = tfdv.infer_schema(statistics=stats)\n",
    "tfdv.display_schema(schema=schema)"
   ]
  },
  {
   "cell_type": "code",
   "execution_count": null,
   "id": "a4464e54",
   "metadata": {},
   "outputs": [],
   "source": [
    "autogenerated_schema_location = os.path.join(GCS_BUCKET, 'datasets', 'chicago_taxi', 'autogenerated_schema', 'schema.pbtxt')\n",
    "\n",
    "tfdv.write_schema_text(schema, autogenerated_schema_location)"
   ]
  },
  {
   "cell_type": "code",
   "execution_count": null,
   "id": "c46ef79a",
   "metadata": {},
   "outputs": [],
   "source": []
  },
  {
   "cell_type": "code",
   "execution_count": null,
   "id": "b552b85b",
   "metadata": {},
   "outputs": [],
   "source": []
  }
 ],
 "metadata": {
  "environment": {
   "name": "tf2-gpu.2-4.m69",
   "type": "gcloud",
   "uri": "gcr.io/deeplearning-platform-release/tf2-gpu.2-4:m69"
  },
  "kernelspec": {
   "display_name": "Python 3",
   "language": "python",
   "name": "python3"
  },
  "language_info": {
   "codemirror_mode": {
    "name": "ipython",
    "version": 3
   },
   "file_extension": ".py",
   "mimetype": "text/x-python",
   "name": "python",
   "nbconvert_exporter": "python",
   "pygments_lexer": "ipython3",
   "version": "3.7.10"
  }
 },
 "nbformat": 4,
 "nbformat_minor": 5
}
