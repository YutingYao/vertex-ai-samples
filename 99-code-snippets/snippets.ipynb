{
 "cells": [
  {
   "cell_type": "markdown",
   "id": "ad9f3d76",
   "metadata": {},
   "source": [
    "# Code Snippets"
   ]
  },
  {
   "cell_type": "code",
   "execution_count": 3,
   "id": "92ea9379",
   "metadata": {},
   "outputs": [],
   "source": [
    "import os\n",
    "import numpy as np\n",
    "import time\n",
    "\n",
    "import tensorflow as tf\n",
    "import tensorflow_hub as hub\n",
    "import tensorflow_datasets as tfds\n",
    "import tensorflow_text as text  # A dependency of the preprocessing model\n",
    "import tensorflow_addons as tfa\n",
    "from official.nlp import optimization\n",
    "\n",
    "from google.cloud import aiplatform as vertex_ai\n",
    "from google.cloud.aiplatform.utils import TensorboardClientWithOverride\n",
    "from google.cloud.aiplatform_v1beta1.types import Tensorboard"
   ]
  },
  {
   "cell_type": "code",
   "execution_count": 6,
   "id": "7ae2cb4d",
   "metadata": {},
   "outputs": [],
   "source": [
    "REGION = 'us-central1'\n",
    "PROJECT = 'jk-mlops-dev'"
   ]
  },
  {
   "cell_type": "markdown",
   "id": "3a1726cc",
   "metadata": {},
   "source": [
    "## ML Metadata"
   ]
  },
  {
   "cell_type": "code",
   "execution_count": null,
   "id": "643a65ab",
   "metadata": {},
   "outputs": [],
   "source": [
    "from google.cloud.aiplatform.utils import MetadataClientWithOverride\n",
    "\n",
    "m_client = api_client = vertex_ai.initializer.global_config.create_client(\n",
    "        client_class=MetadataClientWithOverride, location_override=REGION\n",
    ")"
   ]
  },
  {
   "cell_type": "code",
   "execution_count": null,
   "id": "b73f5781",
   "metadata": {},
   "outputs": [],
   "source": [
    "parent = f'projects/{PROJECT}/locations/{REGION}'"
   ]
  },
  {
   "cell_type": "code",
   "execution_count": null,
   "id": "c306cfec",
   "metadata": {},
   "outputs": [],
   "source": [
    "m_client.list_metadata_stores(parent=parent)"
   ]
  },
  {
   "cell_type": "code",
   "execution_count": null,
   "id": "6715eb60",
   "metadata": {},
   "outputs": [],
   "source": [
    "name = 'projects/895222332033/locations/us-central1/metadataStores/default/contexts/7022167350233268224--7286425919675154353'"
   ]
  },
  {
   "cell_type": "code",
   "execution_count": null,
   "id": "a5b28252",
   "metadata": {},
   "outputs": [],
   "source": [
    "context = m_client.get_context(name=name)"
   ]
  },
  {
   "cell_type": "code",
   "execution_count": null,
   "id": "b0357dc3",
   "metadata": {},
   "outputs": [],
   "source": [
    "context.metadata['experiment_deleted']=True"
   ]
  },
  {
   "cell_type": "code",
   "execution_count": null,
   "id": "3d2089c8",
   "metadata": {},
   "outputs": [],
   "source": [
    "from google.protobuf import field_mask_pb2\n",
    "\n",
    "update_mask = field_mask_pb2.FieldMask(paths=['metadata'])\n",
    "\n",
    "update_mask"
   ]
  },
  {
   "cell_type": "code",
   "execution_count": null,
   "id": "31e026b6",
   "metadata": {},
   "outputs": [],
   "source": [
    "m_client.update_context(context=context, update_mask=update_mask)"
   ]
  },
  {
   "cell_type": "code",
   "execution_count": null,
   "id": "089c9ac7",
   "metadata": {},
   "outputs": [],
   "source": [
    "m_client.list_contexts(parent=metadata_name)"
   ]
  },
  {
   "cell_type": "markdown",
   "id": "9f8d5f7f",
   "metadata": {},
   "source": [
    "## Tensorboard"
   ]
  },
  {
   "cell_type": "code",
   "execution_count": 7,
   "id": "2254c493",
   "metadata": {},
   "outputs": [],
   "source": [
    "from google.cloud.aiplatform.utils import TensorboardClientWithOverride\n",
    "\n",
    "tb_client = api_client = vertex_ai.initializer.global_config.create_client(\n",
    "        client_class=TensorboardClientWithOverride, location_override=REGION\n",
    ")\n",
    "\n",
    "parent = f'projects/{PROJECT}/locations/{REGION}'"
   ]
  },
  {
   "cell_type": "code",
   "execution_count": 13,
   "id": "09ed666a",
   "metadata": {},
   "outputs": [
    {
     "data": {
      "text/plain": [
       "ListTensorboardsPager<tensorboards {\n",
       "  name: \"projects/895222332033/locations/us-central1/tensorboards/7301390527130238976\"\n",
       "  display_name: \"Demo Tensorboard\"\n",
       "  description: \"Demo Tensorboard\"\n",
       "  create_time {\n",
       "    seconds: 1622588930\n",
       "    nanos: 745042000\n",
       "  }\n",
       "  update_time {\n",
       "    seconds: 1622588931\n",
       "    nanos: 79929000\n",
       "  }\n",
       "  etag: \"AMEw9yPiJCQ48qalKe40X3cIml3IS1Ve4yTtN5x1FZd6S_eAvi-p9YJUfsiwtWNghwU=\"\n",
       "  blob_storage_path_prefix: \"cloud-ai-platform-dd92d61a-4628-4e8c-a94b-43eb3cee0e5f\"\n",
       "}\n",
       ">"
      ]
     },
     "execution_count": 13,
     "metadata": {},
     "output_type": "execute_result"
    }
   ],
   "source": [
    "tb_client.list_tensorboards(parent=parent)"
   ]
  },
  {
   "cell_type": "code",
   "execution_count": null,
   "id": "07f8317f",
   "metadata": {},
   "outputs": [],
   "source": [
    "parent = f'projects/{PROJECT}/locations/{REGION}'\n",
    "tb_proto = types.Tensorboard()\n",
    "tb_proto.display_name = 'Workshop Tensorboard'\n",
    "tb_proto.description = 'Workshop Tensorboard'\n",
    "\n",
    "operation = tb_client.create_tensorboard(parent=parent, tensorboard=tb_proto)\n",
    "tensorboard = operation.result()"
   ]
  },
  {
   "cell_type": "code",
   "execution_count": 14,
   "id": "5e2968fe",
   "metadata": {},
   "outputs": [
    {
     "data": {
      "text/plain": [
       "<google.api_core.operation.Operation at 0x7f703542ee50>"
      ]
     },
     "execution_count": 14,
     "metadata": {},
     "output_type": "execute_result"
    }
   ],
   "source": [
    "name = \"projects/895222332033/locations/us-central1/tensorboards/7301390527130238976\"\n",
    "\n",
    "tb_client.delete_tensorboard(name=name)"
   ]
  },
  {
   "cell_type": "code",
   "execution_count": null,
   "id": "0d9f1260",
   "metadata": {},
   "outputs": [],
   "source": [
    "tb_experiment_proto = TensorboardExperiment(\n",
    "    display_name = 'Chicago Taxi Classifier',\n",
    "    description = 'Chicago Taxi Classifier'\n",
    ")\n",
    "\n",
    "tensorboard_experiment_id = 'chicago-taxi-classifier'\n",
    "\n",
    "tb_experiment = tb_client.create_tensorboard_experiment(parent=tb_name, \n",
    "                                                        tensorboard_experiment=tb_experiment_proto,\n",
    "                                                        tensorboard_experiment_id=tensorboard_experiment_id)"
   ]
  },
  {
   "cell_type": "code",
   "execution_count": null,
   "id": "0910c818",
   "metadata": {},
   "outputs": [],
   "source": [
    "tb_client.list_tensorboard_experiments(parent=tb_name)"
   ]
  },
  {
   "cell_type": "code",
   "execution_count": null,
   "id": "9564b39d",
   "metadata": {},
   "outputs": [],
   "source": [
    "tb_run = TensorboardRun(\n",
    "    display_name = \"Run 1\",\n",
    "    description = \"Run 1\"\n",
    ")\n",
    "\n",
    "tb_run_id = 'run-1'\n",
    "\n",
    "tb_run = tb_client.create_tensorboard_run(parent=tb_experiment_name, tensorboard_run_id = tb_run_id)\n",
    "tb_run"
   ]
  },
  {
   "cell_type": "code",
   "execution_count": null,
   "id": "ce02e1ae",
   "metadata": {},
   "outputs": [],
   "source": [
    "tb_client.list_tensorboard_runs(parent=tb_experiment_name)"
   ]
  },
  {
   "cell_type": "code",
   "execution_count": null,
   "id": "db5e8b9a",
   "metadata": {},
   "outputs": [],
   "source": [
    "tb_experiment_name = \"projects/895222332033/locations/us-central1/tensorboards/4995547517916545024/experiments/chicago-taxi-classifier\""
   ]
  },
  {
   "cell_type": "code",
   "execution_count": null,
   "id": "56f3b33c",
   "metadata": {},
   "outputs": [],
   "source": []
  }
 ],
 "metadata": {
  "environment": {
   "name": "tf2-gpu.2-4.m69",
   "type": "gcloud",
   "uri": "gcr.io/deeplearning-platform-release/tf2-gpu.2-4:m69"
  },
  "kernelspec": {
   "display_name": "Python [conda env:root] *",
   "language": "python",
   "name": "conda-root-py"
  },
  "language_info": {
   "codemirror_mode": {
    "name": "ipython",
    "version": 3
   },
   "file_extension": ".py",
   "mimetype": "text/x-python",
   "name": "python",
   "nbconvert_exporter": "python",
   "pygments_lexer": "ipython3",
   "version": "3.7.10"
  }
 },
 "nbformat": 4,
 "nbformat_minor": 5
}
